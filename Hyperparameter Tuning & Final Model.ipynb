{
 "cells": [
  {
   "cell_type": "markdown",
   "metadata": {},
   "source": [
    "# Credit Card Fraud Detection\n",
    "\n",
    "## Hyperparameter Tuning\n",
    "\n",
    "In the Model Selection Stage multiple classification algorithms were tested. I employed more \"classic\" models as well as those that are often used for anomaly detection, which this problem could be framed as.\n",
    "\n",
    "After some exploration the Random Forest and MLP showed good recall, which is the most important metric here, as I am trying to minimize False Negatives. This did come at the expense of some precision, but not much. Some algorithms had fewer False Negatives but a large number of False Positives. I did not choose them, as tuning toward even better recall, thus less False Negatives would have driven up the number of False Positives considerably."
   ]
  },
  {
   "cell_type": "markdown",
   "metadata": {},
   "source": [
    "The following steps are the result from the previous stages."
   ]
  },
  {
   "cell_type": "code",
   "execution_count": 2,
   "metadata": {},
   "outputs": [],
   "source": [
    "# import the needed libraries\n",
    "import pandas as pd\n",
    "import numpy as np\n",
    "import matplotlib.pyplot as plt\n",
    "import seaborn as sns\n",
    "#sklearn will be imported partially when necessary\n",
    "\n",
    "#read in the data and make a copy of it in case anything goes wrong\n",
    "path = \"C:/Users/ms101/OneDrive/datasets\"\n",
    "credit_data = pd.read_csv(path + \"/creditcard.csv\")\n",
    "\n",
    "data = credit_data.copy()\n",
    "\n",
    "data.drop_duplicates(inplace = True)\n",
    "data.reset_index(inplace = True, drop = True)\n",
    "assert data.shape == (283726,31)#check if duplicates are removed correctly\n",
    "data_red = data[[\"V17\",\"V14\",\"V12\",\"V10\",\"V16\",\"V3\",\"V7\",\"V11\",\"Class\"]].copy()"
   ]
  },
  {
   "cell_type": "code",
   "execution_count": 2,
   "metadata": {},
   "outputs": [],
   "source": [
    "data_red.to_csv(path + \"/creditcard_reduced.csv\")"
   ]
  },
  {
   "cell_type": "code",
   "execution_count": 3,
   "metadata": {},
   "outputs": [],
   "source": [
    "X = data_red.drop(\"Class\", axis = 1)\n",
    "y = data_red[\"Class\"]\n",
    "assert X.shape == (283726,8)\n",
    "assert y.shape == (283726,)"
   ]
  },
  {
   "cell_type": "code",
   "execution_count": 4,
   "metadata": {},
   "outputs": [],
   "source": [
    "from sklearn.model_selection import StratifiedShuffleSplit\n",
    "\n",
    "strat_split = StratifiedShuffleSplit(test_size = 0.2, random_state = 13)\n",
    "for train_index, test_index in strat_split.split(X,y):\n",
    "    X_train, X_test = X.loc[train_index], X.loc[test_index]\n",
    "    y_train, y_test = y.loc[train_index], y.loc[test_index]"
   ]
  },
  {
   "cell_type": "code",
   "execution_count": 5,
   "metadata": {},
   "outputs": [],
   "source": [
    "# import the metrics\n",
    "from sklearn.metrics import accuracy_score,confusion_matrix, precision_score, recall_score, precision_recall_curve\n"
   ]
  },
  {
   "cell_type": "code",
   "execution_count": 6,
   "metadata": {},
   "outputs": [],
   "source": [
    "# Scaling the data\n",
    "from sklearn.preprocessing import StandardScaler\n",
    "\n",
    "scaler = StandardScaler()\n",
    "X_train_scaled = scaler.fit_transform(X_train)\n",
    "X_test_scaled = scaler.transform(X_test)"
   ]
  },
  {
   "cell_type": "markdown",
   "metadata": {},
   "source": [
    "I will use a Randomized Search for good Hyperparameters as the search space is quite large and a Grid Search would take very long."
   ]
  },
  {
   "cell_type": "code",
   "execution_count": 7,
   "metadata": {},
   "outputs": [],
   "source": [
    "from sklearn.model_selection import RandomizedSearchCV"
   ]
  },
  {
   "cell_type": "markdown",
   "metadata": {},
   "source": [
    "### Tuning the Random Forest Classifier\n",
    "\n",
    "I will start with the Random Forest classifier."
   ]
  },
  {
   "cell_type": "code",
   "execution_count": 8,
   "metadata": {},
   "outputs": [],
   "source": [
    "from sklearn.ensemble import RandomForestClassifier\n",
    "\n",
    "forest_clf = RandomForestClassifier(random_state = 13, n_jobs = -1) #use all cores for maximum performance"
   ]
  },
  {
   "cell_type": "markdown",
   "metadata": {},
   "source": [
    "I will search the hyperparameter space for the (in many cases) most impactful hyperparameters: `n_estimators`, `max_features`,`max_depth`,`min_samples_split`,`min_samples_leaf`,`bootsrap`"
   ]
  },
  {
   "cell_type": "code",
   "execution_count": 9,
   "metadata": {},
   "outputs": [
    {
     "name": "stdout",
     "output_type": "stream",
     "text": [
      "{'n_estimators': [100, 144, 188, 233, 277, 322, 366, 411, 455, 500], 'max_features': ['auto', None], 'max_depth': [10, 19, 28, 37, 46, 55, 64, 73, 82, 91, 100, None], 'min_samples_split': [2, 5, 10], 'min_samples_leaf': [1, 2, 4], 'bootstrap': [True, False]}\n"
     ]
    }
   ],
   "source": [
    "#trees in random forest\n",
    "n_estimators = [int(x) for x in np.linspace(start = 100, stop = 500, num = 10)]\n",
    "# Number of features to consider at every split\n",
    "max_features = ['auto', None]\n",
    "# Maximum number of levels in tree\n",
    "max_depth = [int(x) for x in np.linspace(10, 100, num = 11)]\n",
    "max_depth.append(None)\n",
    "# Minimum number of samples required to split a node\n",
    "min_samples_split = [2, 5, 10]\n",
    "# Minimum number of samples required at each leaf node\n",
    "min_samples_leaf = [1, 2, 4]\n",
    "# Method of selecting samples for training each tree\n",
    "bootstrap = [True, False]\n",
    "\n",
    "random_grid = {'n_estimators': n_estimators,\n",
    "               'max_features': max_features,\n",
    "               'max_depth': max_depth,\n",
    "               'min_samples_split': min_samples_split,\n",
    "               'min_samples_leaf': min_samples_leaf,\n",
    "               'bootstrap': bootstrap}\n",
    "print(random_grid)"
   ]
  },
  {
   "cell_type": "code",
   "execution_count": 10,
   "metadata": {},
   "outputs": [],
   "source": [
    "forest_random_search = RandomizedSearchCV(forest_clf, random_grid, scoring = \"recall\",\n",
    "                                          n_iter = 50, cv = 3, verbose = 2)"
   ]
  },
  {
   "cell_type": "markdown",
   "metadata": {},
   "source": [
    "**Note: the following cell may take over one hour to run depending on the system**\n",
    "\n",
    "I only ran it once."
   ]
  },
  {
   "cell_type": "code",
   "execution_count": 23,
   "metadata": {
    "scrolled": false
   },
   "outputs": [
    {
     "name": "stdout",
     "output_type": "stream",
     "text": [
      "Fitting 3 folds for each of 50 candidates, totalling 150 fits\n",
      "[CV] n_estimators=100, min_samples_split=2, min_samples_leaf=4, max_features=None, max_depth=46, bootstrap=True \n"
     ]
    },
    {
     "name": "stderr",
     "output_type": "stream",
     "text": [
      "[Parallel(n_jobs=1)]: Using backend SequentialBackend with 1 concurrent workers.\n"
     ]
    },
    {
     "name": "stdout",
     "output_type": "stream",
     "text": [
      "[CV]  n_estimators=100, min_samples_split=2, min_samples_leaf=4, max_features=None, max_depth=46, bootstrap=True, total=  23.5s\n",
      "[CV] n_estimators=100, min_samples_split=2, min_samples_leaf=4, max_features=None, max_depth=46, bootstrap=True \n"
     ]
    },
    {
     "name": "stderr",
     "output_type": "stream",
     "text": [
      "[Parallel(n_jobs=1)]: Done   1 out of   1 | elapsed:   23.4s remaining:    0.0s\n"
     ]
    },
    {
     "name": "stdout",
     "output_type": "stream",
     "text": [
      "[CV]  n_estimators=100, min_samples_split=2, min_samples_leaf=4, max_features=None, max_depth=46, bootstrap=True, total=  21.7s\n",
      "[CV] n_estimators=100, min_samples_split=2, min_samples_leaf=4, max_features=None, max_depth=46, bootstrap=True \n",
      "[CV]  n_estimators=100, min_samples_split=2, min_samples_leaf=4, max_features=None, max_depth=46, bootstrap=True, total=  23.5s\n",
      "[CV] n_estimators=455, min_samples_split=10, min_samples_leaf=4, max_features=None, max_depth=91, bootstrap=False \n",
      "[CV]  n_estimators=455, min_samples_split=10, min_samples_leaf=4, max_features=None, max_depth=91, bootstrap=False, total= 2.3min\n",
      "[CV] n_estimators=455, min_samples_split=10, min_samples_leaf=4, max_features=None, max_depth=91, bootstrap=False \n",
      "[CV]  n_estimators=455, min_samples_split=10, min_samples_leaf=4, max_features=None, max_depth=91, bootstrap=False, total= 2.1min\n",
      "[CV] n_estimators=455, min_samples_split=10, min_samples_leaf=4, max_features=None, max_depth=91, bootstrap=False \n",
      "[CV]  n_estimators=455, min_samples_split=10, min_samples_leaf=4, max_features=None, max_depth=91, bootstrap=False, total= 2.6min\n",
      "[CV] n_estimators=144, min_samples_split=10, min_samples_leaf=4, max_features=None, max_depth=100, bootstrap=True \n",
      "[CV]  n_estimators=144, min_samples_split=10, min_samples_leaf=4, max_features=None, max_depth=100, bootstrap=True, total=  28.9s\n",
      "[CV] n_estimators=144, min_samples_split=10, min_samples_leaf=4, max_features=None, max_depth=100, bootstrap=True \n",
      "[CV]  n_estimators=144, min_samples_split=10, min_samples_leaf=4, max_features=None, max_depth=100, bootstrap=True, total=  26.7s\n",
      "[CV] n_estimators=144, min_samples_split=10, min_samples_leaf=4, max_features=None, max_depth=100, bootstrap=True \n",
      "[CV]  n_estimators=144, min_samples_split=10, min_samples_leaf=4, max_features=None, max_depth=100, bootstrap=True, total=  32.2s\n",
      "[CV] n_estimators=455, min_samples_split=5, min_samples_leaf=1, max_features=None, max_depth=91, bootstrap=False \n",
      "[CV]  n_estimators=455, min_samples_split=5, min_samples_leaf=1, max_features=None, max_depth=91, bootstrap=False, total= 2.3min\n",
      "[CV] n_estimators=455, min_samples_split=5, min_samples_leaf=1, max_features=None, max_depth=91, bootstrap=False \n",
      "[CV]  n_estimators=455, min_samples_split=5, min_samples_leaf=1, max_features=None, max_depth=91, bootstrap=False, total= 2.0min\n",
      "[CV] n_estimators=455, min_samples_split=5, min_samples_leaf=1, max_features=None, max_depth=91, bootstrap=False \n",
      "[CV]  n_estimators=455, min_samples_split=5, min_samples_leaf=1, max_features=None, max_depth=91, bootstrap=False, total= 2.7min\n",
      "[CV] n_estimators=233, min_samples_split=10, min_samples_leaf=1, max_features=auto, max_depth=82, bootstrap=False \n",
      "[CV]  n_estimators=233, min_samples_split=10, min_samples_leaf=1, max_features=auto, max_depth=82, bootstrap=False, total=  22.2s\n",
      "[CV] n_estimators=233, min_samples_split=10, min_samples_leaf=1, max_features=auto, max_depth=82, bootstrap=False \n",
      "[CV]  n_estimators=233, min_samples_split=10, min_samples_leaf=1, max_features=auto, max_depth=82, bootstrap=False, total=  21.6s\n",
      "[CV] n_estimators=233, min_samples_split=10, min_samples_leaf=1, max_features=auto, max_depth=82, bootstrap=False \n",
      "[CV]  n_estimators=233, min_samples_split=10, min_samples_leaf=1, max_features=auto, max_depth=82, bootstrap=False, total=  23.3s\n",
      "[CV] n_estimators=500, min_samples_split=10, min_samples_leaf=4, max_features=None, max_depth=55, bootstrap=False \n",
      "[CV]  n_estimators=500, min_samples_split=10, min_samples_leaf=4, max_features=None, max_depth=55, bootstrap=False, total= 2.5min\n",
      "[CV] n_estimators=500, min_samples_split=10, min_samples_leaf=4, max_features=None, max_depth=55, bootstrap=False \n",
      "[CV]  n_estimators=500, min_samples_split=10, min_samples_leaf=4, max_features=None, max_depth=55, bootstrap=False, total= 2.2min\n",
      "[CV] n_estimators=500, min_samples_split=10, min_samples_leaf=4, max_features=None, max_depth=55, bootstrap=False \n",
      "[CV]  n_estimators=500, min_samples_split=10, min_samples_leaf=4, max_features=None, max_depth=55, bootstrap=False, total= 2.9min\n",
      "[CV] n_estimators=455, min_samples_split=2, min_samples_leaf=1, max_features=auto, max_depth=19, bootstrap=False \n",
      "[CV]  n_estimators=455, min_samples_split=2, min_samples_leaf=1, max_features=auto, max_depth=19, bootstrap=False, total=  42.7s\n",
      "[CV] n_estimators=455, min_samples_split=2, min_samples_leaf=1, max_features=auto, max_depth=19, bootstrap=False \n",
      "[CV]  n_estimators=455, min_samples_split=2, min_samples_leaf=1, max_features=auto, max_depth=19, bootstrap=False, total=  41.0s\n",
      "[CV] n_estimators=455, min_samples_split=2, min_samples_leaf=1, max_features=auto, max_depth=19, bootstrap=False \n",
      "[CV]  n_estimators=455, min_samples_split=2, min_samples_leaf=1, max_features=auto, max_depth=19, bootstrap=False, total=  44.0s\n",
      "[CV] n_estimators=366, min_samples_split=2, min_samples_leaf=2, max_features=auto, max_depth=19, bootstrap=True \n",
      "[CV]  n_estimators=366, min_samples_split=2, min_samples_leaf=2, max_features=auto, max_depth=19, bootstrap=True, total=  22.7s\n",
      "[CV] n_estimators=366, min_samples_split=2, min_samples_leaf=2, max_features=auto, max_depth=19, bootstrap=True \n",
      "[CV]  n_estimators=366, min_samples_split=2, min_samples_leaf=2, max_features=auto, max_depth=19, bootstrap=True, total=  22.1s\n",
      "[CV] n_estimators=366, min_samples_split=2, min_samples_leaf=2, max_features=auto, max_depth=19, bootstrap=True \n",
      "[CV]  n_estimators=366, min_samples_split=2, min_samples_leaf=2, max_features=auto, max_depth=19, bootstrap=True, total=  23.7s\n",
      "[CV] n_estimators=144, min_samples_split=10, min_samples_leaf=2, max_features=auto, max_depth=91, bootstrap=True \n",
      "[CV]  n_estimators=144, min_samples_split=10, min_samples_leaf=2, max_features=auto, max_depth=91, bootstrap=True, total=   9.4s\n",
      "[CV] n_estimators=144, min_samples_split=10, min_samples_leaf=2, max_features=auto, max_depth=91, bootstrap=True \n",
      "[CV]  n_estimators=144, min_samples_split=10, min_samples_leaf=2, max_features=auto, max_depth=91, bootstrap=True, total=   8.8s\n",
      "[CV] n_estimators=144, min_samples_split=10, min_samples_leaf=2, max_features=auto, max_depth=91, bootstrap=True \n",
      "[CV]  n_estimators=144, min_samples_split=10, min_samples_leaf=2, max_features=auto, max_depth=91, bootstrap=True, total=   9.7s\n",
      "[CV] n_estimators=411, min_samples_split=2, min_samples_leaf=1, max_features=auto, max_depth=37, bootstrap=False \n",
      "[CV]  n_estimators=411, min_samples_split=2, min_samples_leaf=1, max_features=auto, max_depth=37, bootstrap=False, total=  39.6s\n",
      "[CV] n_estimators=411, min_samples_split=2, min_samples_leaf=1, max_features=auto, max_depth=37, bootstrap=False \n",
      "[CV]  n_estimators=411, min_samples_split=2, min_samples_leaf=1, max_features=auto, max_depth=37, bootstrap=False, total=  37.8s\n",
      "[CV] n_estimators=411, min_samples_split=2, min_samples_leaf=1, max_features=auto, max_depth=37, bootstrap=False \n",
      "[CV]  n_estimators=411, min_samples_split=2, min_samples_leaf=1, max_features=auto, max_depth=37, bootstrap=False, total=  40.8s\n",
      "[CV] n_estimators=455, min_samples_split=2, min_samples_leaf=1, max_features=None, max_depth=10, bootstrap=True \n",
      "[CV]  n_estimators=455, min_samples_split=2, min_samples_leaf=1, max_features=None, max_depth=10, bootstrap=True, total= 1.2min\n",
      "[CV] n_estimators=455, min_samples_split=2, min_samples_leaf=1, max_features=None, max_depth=10, bootstrap=True \n",
      "[CV]  n_estimators=455, min_samples_split=2, min_samples_leaf=1, max_features=None, max_depth=10, bootstrap=True, total= 1.2min\n",
      "[CV] n_estimators=455, min_samples_split=2, min_samples_leaf=1, max_features=None, max_depth=10, bootstrap=True \n",
      "[CV]  n_estimators=455, min_samples_split=2, min_samples_leaf=1, max_features=None, max_depth=10, bootstrap=True, total= 1.2min\n",
      "[CV] n_estimators=100, min_samples_split=2, min_samples_leaf=1, max_features=None, max_depth=91, bootstrap=False \n",
      "[CV]  n_estimators=100, min_samples_split=2, min_samples_leaf=1, max_features=None, max_depth=91, bootstrap=False, total=  31.8s\n",
      "[CV] n_estimators=100, min_samples_split=2, min_samples_leaf=1, max_features=None, max_depth=91, bootstrap=False \n",
      "[CV]  n_estimators=100, min_samples_split=2, min_samples_leaf=1, max_features=None, max_depth=91, bootstrap=False, total=  27.3s\n",
      "[CV] n_estimators=100, min_samples_split=2, min_samples_leaf=1, max_features=None, max_depth=91, bootstrap=False \n"
     ]
    },
    {
     "name": "stdout",
     "output_type": "stream",
     "text": [
      "[CV]  n_estimators=100, min_samples_split=2, min_samples_leaf=1, max_features=None, max_depth=91, bootstrap=False, total=  35.9s\n",
      "[CV] n_estimators=366, min_samples_split=2, min_samples_leaf=1, max_features=None, max_depth=91, bootstrap=True \n",
      "[CV]  n_estimators=366, min_samples_split=2, min_samples_leaf=1, max_features=None, max_depth=91, bootstrap=True, total= 1.2min\n",
      "[CV] n_estimators=366, min_samples_split=2, min_samples_leaf=1, max_features=None, max_depth=91, bootstrap=True \n",
      "[CV]  n_estimators=366, min_samples_split=2, min_samples_leaf=1, max_features=None, max_depth=91, bootstrap=True, total= 1.1min\n",
      "[CV] n_estimators=366, min_samples_split=2, min_samples_leaf=1, max_features=None, max_depth=91, bootstrap=True \n",
      "[CV]  n_estimators=366, min_samples_split=2, min_samples_leaf=1, max_features=None, max_depth=91, bootstrap=True, total= 1.3min\n",
      "[CV] n_estimators=233, min_samples_split=2, min_samples_leaf=4, max_features=auto, max_depth=28, bootstrap=True \n",
      "[CV]  n_estimators=233, min_samples_split=2, min_samples_leaf=4, max_features=auto, max_depth=28, bootstrap=True, total=  15.1s\n",
      "[CV] n_estimators=233, min_samples_split=2, min_samples_leaf=4, max_features=auto, max_depth=28, bootstrap=True \n",
      "[CV]  n_estimators=233, min_samples_split=2, min_samples_leaf=4, max_features=auto, max_depth=28, bootstrap=True, total=  14.1s\n",
      "[CV] n_estimators=233, min_samples_split=2, min_samples_leaf=4, max_features=auto, max_depth=28, bootstrap=True \n",
      "[CV]  n_estimators=233, min_samples_split=2, min_samples_leaf=4, max_features=auto, max_depth=28, bootstrap=True, total=  15.3s\n",
      "[CV] n_estimators=455, min_samples_split=2, min_samples_leaf=2, max_features=auto, max_depth=91, bootstrap=False \n",
      "[CV]  n_estimators=455, min_samples_split=2, min_samples_leaf=2, max_features=auto, max_depth=91, bootstrap=False, total=  42.3s\n",
      "[CV] n_estimators=455, min_samples_split=2, min_samples_leaf=2, max_features=auto, max_depth=91, bootstrap=False \n",
      "[CV]  n_estimators=455, min_samples_split=2, min_samples_leaf=2, max_features=auto, max_depth=91, bootstrap=False, total=  41.4s\n",
      "[CV] n_estimators=455, min_samples_split=2, min_samples_leaf=2, max_features=auto, max_depth=91, bootstrap=False \n",
      "[CV]  n_estimators=455, min_samples_split=2, min_samples_leaf=2, max_features=auto, max_depth=91, bootstrap=False, total=  44.9s\n",
      "[CV] n_estimators=144, min_samples_split=10, min_samples_leaf=2, max_features=None, max_depth=None, bootstrap=True \n",
      "[CV]  n_estimators=144, min_samples_split=10, min_samples_leaf=2, max_features=None, max_depth=None, bootstrap=True, total=  29.2s\n",
      "[CV] n_estimators=144, min_samples_split=10, min_samples_leaf=2, max_features=None, max_depth=None, bootstrap=True \n",
      "[CV]  n_estimators=144, min_samples_split=10, min_samples_leaf=2, max_features=None, max_depth=None, bootstrap=True, total=  26.7s\n",
      "[CV] n_estimators=144, min_samples_split=10, min_samples_leaf=2, max_features=None, max_depth=None, bootstrap=True \n",
      "[CV]  n_estimators=144, min_samples_split=10, min_samples_leaf=2, max_features=None, max_depth=None, bootstrap=True, total=  32.9s\n",
      "[CV] n_estimators=188, min_samples_split=5, min_samples_leaf=4, max_features=auto, max_depth=46, bootstrap=False \n",
      "[CV]  n_estimators=188, min_samples_split=5, min_samples_leaf=4, max_features=auto, max_depth=46, bootstrap=False, total=  18.5s\n",
      "[CV] n_estimators=188, min_samples_split=5, min_samples_leaf=4, max_features=auto, max_depth=46, bootstrap=False \n",
      "[CV]  n_estimators=188, min_samples_split=5, min_samples_leaf=4, max_features=auto, max_depth=46, bootstrap=False, total=  18.4s\n",
      "[CV] n_estimators=188, min_samples_split=5, min_samples_leaf=4, max_features=auto, max_depth=46, bootstrap=False \n",
      "[CV]  n_estimators=188, min_samples_split=5, min_samples_leaf=4, max_features=auto, max_depth=46, bootstrap=False, total=  19.4s\n",
      "[CV] n_estimators=188, min_samples_split=5, min_samples_leaf=2, max_features=None, max_depth=55, bootstrap=False \n",
      "[CV]  n_estimators=188, min_samples_split=5, min_samples_leaf=2, max_features=None, max_depth=55, bootstrap=False, total=  57.6s\n",
      "[CV] n_estimators=188, min_samples_split=5, min_samples_leaf=2, max_features=None, max_depth=55, bootstrap=False \n",
      "[CV]  n_estimators=188, min_samples_split=5, min_samples_leaf=2, max_features=None, max_depth=55, bootstrap=False, total=  49.9s\n",
      "[CV] n_estimators=188, min_samples_split=5, min_samples_leaf=2, max_features=None, max_depth=55, bootstrap=False \n",
      "[CV]  n_estimators=188, min_samples_split=5, min_samples_leaf=2, max_features=None, max_depth=55, bootstrap=False, total= 1.1min\n",
      "[CV] n_estimators=455, min_samples_split=5, min_samples_leaf=4, max_features=None, max_depth=55, bootstrap=False \n",
      "[CV]  n_estimators=455, min_samples_split=5, min_samples_leaf=4, max_features=None, max_depth=55, bootstrap=False, total= 2.3min\n",
      "[CV] n_estimators=455, min_samples_split=5, min_samples_leaf=4, max_features=None, max_depth=55, bootstrap=False \n",
      "[CV]  n_estimators=455, min_samples_split=5, min_samples_leaf=4, max_features=None, max_depth=55, bootstrap=False, total= 2.0min\n",
      "[CV] n_estimators=455, min_samples_split=5, min_samples_leaf=4, max_features=None, max_depth=55, bootstrap=False \n",
      "[CV]  n_estimators=455, min_samples_split=5, min_samples_leaf=4, max_features=None, max_depth=55, bootstrap=False, total= 2.6min\n",
      "[CV] n_estimators=100, min_samples_split=5, min_samples_leaf=2, max_features=None, max_depth=19, bootstrap=True \n",
      "[CV]  n_estimators=100, min_samples_split=5, min_samples_leaf=2, max_features=None, max_depth=19, bootstrap=True, total=  20.8s\n",
      "[CV] n_estimators=100, min_samples_split=5, min_samples_leaf=2, max_features=None, max_depth=19, bootstrap=True \n",
      "[CV]  n_estimators=100, min_samples_split=5, min_samples_leaf=2, max_features=None, max_depth=19, bootstrap=True, total=  18.7s\n",
      "[CV] n_estimators=100, min_samples_split=5, min_samples_leaf=2, max_features=None, max_depth=19, bootstrap=True \n",
      "[CV]  n_estimators=100, min_samples_split=5, min_samples_leaf=2, max_features=None, max_depth=19, bootstrap=True, total=  21.9s\n",
      "[CV] n_estimators=188, min_samples_split=10, min_samples_leaf=2, max_features=auto, max_depth=37, bootstrap=True \n",
      "[CV]  n_estimators=188, min_samples_split=10, min_samples_leaf=2, max_features=auto, max_depth=37, bootstrap=True, total=  11.7s\n",
      "[CV] n_estimators=188, min_samples_split=10, min_samples_leaf=2, max_features=auto, max_depth=37, bootstrap=True \n",
      "[CV]  n_estimators=188, min_samples_split=10, min_samples_leaf=2, max_features=auto, max_depth=37, bootstrap=True, total=  11.3s\n",
      "[CV] n_estimators=188, min_samples_split=10, min_samples_leaf=2, max_features=auto, max_depth=37, bootstrap=True \n",
      "[CV]  n_estimators=188, min_samples_split=10, min_samples_leaf=2, max_features=auto, max_depth=37, bootstrap=True, total=  12.4s\n",
      "[CV] n_estimators=144, min_samples_split=2, min_samples_leaf=2, max_features=None, max_depth=19, bootstrap=True \n",
      "[CV]  n_estimators=144, min_samples_split=2, min_samples_leaf=2, max_features=None, max_depth=19, bootstrap=True, total=  28.9s\n",
      "[CV] n_estimators=144, min_samples_split=2, min_samples_leaf=2, max_features=None, max_depth=19, bootstrap=True \n",
      "[CV]  n_estimators=144, min_samples_split=2, min_samples_leaf=2, max_features=None, max_depth=19, bootstrap=True, total=  26.6s\n",
      "[CV] n_estimators=144, min_samples_split=2, min_samples_leaf=2, max_features=None, max_depth=19, bootstrap=True \n",
      "[CV]  n_estimators=144, min_samples_split=2, min_samples_leaf=2, max_features=None, max_depth=19, bootstrap=True, total=  31.3s\n",
      "[CV] n_estimators=233, min_samples_split=10, min_samples_leaf=4, max_features=auto, max_depth=100, bootstrap=False \n",
      "[CV]  n_estimators=233, min_samples_split=10, min_samples_leaf=4, max_features=auto, max_depth=100, bootstrap=False, total=  22.0s\n",
      "[CV] n_estimators=233, min_samples_split=10, min_samples_leaf=4, max_features=auto, max_depth=100, bootstrap=False \n",
      "[CV]  n_estimators=233, min_samples_split=10, min_samples_leaf=4, max_features=auto, max_depth=100, bootstrap=False, total=  21.0s\n",
      "[CV] n_estimators=233, min_samples_split=10, min_samples_leaf=4, max_features=auto, max_depth=100, bootstrap=False \n",
      "[CV]  n_estimators=233, min_samples_split=10, min_samples_leaf=4, max_features=auto, max_depth=100, bootstrap=False, total=  22.9s\n",
      "[CV] n_estimators=411, min_samples_split=2, min_samples_leaf=4, max_features=None, max_depth=73, bootstrap=True \n"
     ]
    },
    {
     "name": "stdout",
     "output_type": "stream",
     "text": [
      "[CV]  n_estimators=411, min_samples_split=2, min_samples_leaf=4, max_features=None, max_depth=73, bootstrap=True, total= 1.4min\n",
      "[CV] n_estimators=411, min_samples_split=2, min_samples_leaf=4, max_features=None, max_depth=73, bootstrap=True \n",
      "[CV]  n_estimators=411, min_samples_split=2, min_samples_leaf=4, max_features=None, max_depth=73, bootstrap=True, total= 1.2min\n",
      "[CV] n_estimators=411, min_samples_split=2, min_samples_leaf=4, max_features=None, max_depth=73, bootstrap=True \n",
      "[CV]  n_estimators=411, min_samples_split=2, min_samples_leaf=4, max_features=None, max_depth=73, bootstrap=True, total= 1.4min\n",
      "[CV] n_estimators=322, min_samples_split=2, min_samples_leaf=4, max_features=auto, max_depth=91, bootstrap=True \n",
      "[CV]  n_estimators=322, min_samples_split=2, min_samples_leaf=4, max_features=auto, max_depth=91, bootstrap=True, total=  19.8s\n",
      "[CV] n_estimators=322, min_samples_split=2, min_samples_leaf=4, max_features=auto, max_depth=91, bootstrap=True \n",
      "[CV]  n_estimators=322, min_samples_split=2, min_samples_leaf=4, max_features=auto, max_depth=91, bootstrap=True, total=  19.5s\n",
      "[CV] n_estimators=322, min_samples_split=2, min_samples_leaf=4, max_features=auto, max_depth=91, bootstrap=True \n",
      "[CV]  n_estimators=322, min_samples_split=2, min_samples_leaf=4, max_features=auto, max_depth=91, bootstrap=True, total=  21.1s\n",
      "[CV] n_estimators=277, min_samples_split=2, min_samples_leaf=1, max_features=None, max_depth=46, bootstrap=True \n",
      "[CV]  n_estimators=277, min_samples_split=2, min_samples_leaf=1, max_features=None, max_depth=46, bootstrap=True, total=  55.8s\n",
      "[CV] n_estimators=277, min_samples_split=2, min_samples_leaf=1, max_features=None, max_depth=46, bootstrap=True \n",
      "[CV]  n_estimators=277, min_samples_split=2, min_samples_leaf=1, max_features=None, max_depth=46, bootstrap=True, total=  50.9s\n",
      "[CV] n_estimators=277, min_samples_split=2, min_samples_leaf=1, max_features=None, max_depth=46, bootstrap=True \n",
      "[CV]  n_estimators=277, min_samples_split=2, min_samples_leaf=1, max_features=None, max_depth=46, bootstrap=True, total=  59.1s\n",
      "[CV] n_estimators=100, min_samples_split=5, min_samples_leaf=2, max_features=None, max_depth=91, bootstrap=True \n",
      "[CV]  n_estimators=100, min_samples_split=5, min_samples_leaf=2, max_features=None, max_depth=91, bootstrap=True, total=  20.2s\n",
      "[CV] n_estimators=100, min_samples_split=5, min_samples_leaf=2, max_features=None, max_depth=91, bootstrap=True \n",
      "[CV]  n_estimators=100, min_samples_split=5, min_samples_leaf=2, max_features=None, max_depth=91, bootstrap=True, total=  18.7s\n",
      "[CV] n_estimators=100, min_samples_split=5, min_samples_leaf=2, max_features=None, max_depth=91, bootstrap=True \n",
      "[CV]  n_estimators=100, min_samples_split=5, min_samples_leaf=2, max_features=None, max_depth=91, bootstrap=True, total=  21.9s\n",
      "[CV] n_estimators=277, min_samples_split=2, min_samples_leaf=2, max_features=None, max_depth=73, bootstrap=False \n",
      "[CV]  n_estimators=277, min_samples_split=2, min_samples_leaf=2, max_features=None, max_depth=73, bootstrap=False, total= 1.4min\n",
      "[CV] n_estimators=277, min_samples_split=2, min_samples_leaf=2, max_features=None, max_depth=73, bootstrap=False \n",
      "[CV]  n_estimators=277, min_samples_split=2, min_samples_leaf=2, max_features=None, max_depth=73, bootstrap=False, total= 1.2min\n",
      "[CV] n_estimators=277, min_samples_split=2, min_samples_leaf=2, max_features=None, max_depth=73, bootstrap=False \n",
      "[CV]  n_estimators=277, min_samples_split=2, min_samples_leaf=2, max_features=None, max_depth=73, bootstrap=False, total= 1.6min\n",
      "[CV] n_estimators=366, min_samples_split=10, min_samples_leaf=2, max_features=auto, max_depth=10, bootstrap=False \n",
      "[CV]  n_estimators=366, min_samples_split=10, min_samples_leaf=2, max_features=auto, max_depth=10, bootstrap=False, total=  22.6s\n",
      "[CV] n_estimators=366, min_samples_split=10, min_samples_leaf=2, max_features=auto, max_depth=10, bootstrap=False \n",
      "[CV]  n_estimators=366, min_samples_split=10, min_samples_leaf=2, max_features=auto, max_depth=10, bootstrap=False, total=  22.8s\n",
      "[CV] n_estimators=366, min_samples_split=10, min_samples_leaf=2, max_features=auto, max_depth=10, bootstrap=False \n",
      "[CV]  n_estimators=366, min_samples_split=10, min_samples_leaf=2, max_features=auto, max_depth=10, bootstrap=False, total=  22.6s\n",
      "[CV] n_estimators=322, min_samples_split=5, min_samples_leaf=1, max_features=auto, max_depth=100, bootstrap=True \n",
      "[CV]  n_estimators=322, min_samples_split=5, min_samples_leaf=1, max_features=auto, max_depth=100, bootstrap=True, total=  20.1s\n",
      "[CV] n_estimators=322, min_samples_split=5, min_samples_leaf=1, max_features=auto, max_depth=100, bootstrap=True \n",
      "[CV]  n_estimators=322, min_samples_split=5, min_samples_leaf=1, max_features=auto, max_depth=100, bootstrap=True, total=  19.0s\n",
      "[CV] n_estimators=322, min_samples_split=5, min_samples_leaf=1, max_features=auto, max_depth=100, bootstrap=True \n",
      "[CV]  n_estimators=322, min_samples_split=5, min_samples_leaf=1, max_features=auto, max_depth=100, bootstrap=True, total=  21.1s\n",
      "[CV] n_estimators=500, min_samples_split=5, min_samples_leaf=2, max_features=None, max_depth=64, bootstrap=False \n",
      "[CV]  n_estimators=500, min_samples_split=5, min_samples_leaf=2, max_features=None, max_depth=64, bootstrap=False, total= 2.5min\n",
      "[CV] n_estimators=500, min_samples_split=5, min_samples_leaf=2, max_features=None, max_depth=64, bootstrap=False \n",
      "[CV]  n_estimators=500, min_samples_split=5, min_samples_leaf=2, max_features=None, max_depth=64, bootstrap=False, total= 2.2min\n",
      "[CV] n_estimators=500, min_samples_split=5, min_samples_leaf=2, max_features=None, max_depth=64, bootstrap=False \n",
      "[CV]  n_estimators=500, min_samples_split=5, min_samples_leaf=2, max_features=None, max_depth=64, bootstrap=False, total= 2.9min\n",
      "[CV] n_estimators=411, min_samples_split=5, min_samples_leaf=2, max_features=None, max_depth=55, bootstrap=False \n",
      "[CV]  n_estimators=411, min_samples_split=5, min_samples_leaf=2, max_features=None, max_depth=55, bootstrap=False, total= 2.1min\n",
      "[CV] n_estimators=411, min_samples_split=5, min_samples_leaf=2, max_features=None, max_depth=55, bootstrap=False \n",
      "[CV]  n_estimators=411, min_samples_split=5, min_samples_leaf=2, max_features=None, max_depth=55, bootstrap=False, total= 1.8min\n",
      "[CV] n_estimators=411, min_samples_split=5, min_samples_leaf=2, max_features=None, max_depth=55, bootstrap=False \n",
      "[CV]  n_estimators=411, min_samples_split=5, min_samples_leaf=2, max_features=None, max_depth=55, bootstrap=False, total= 2.4min\n",
      "[CV] n_estimators=455, min_samples_split=2, min_samples_leaf=4, max_features=auto, max_depth=46, bootstrap=False \n",
      "[CV]  n_estimators=455, min_samples_split=2, min_samples_leaf=4, max_features=auto, max_depth=46, bootstrap=False, total=  42.3s\n",
      "[CV] n_estimators=455, min_samples_split=2, min_samples_leaf=4, max_features=auto, max_depth=46, bootstrap=False \n",
      "[CV]  n_estimators=455, min_samples_split=2, min_samples_leaf=4, max_features=auto, max_depth=46, bootstrap=False, total=  41.5s\n",
      "[CV] n_estimators=455, min_samples_split=2, min_samples_leaf=4, max_features=auto, max_depth=46, bootstrap=False \n",
      "[CV]  n_estimators=455, min_samples_split=2, min_samples_leaf=4, max_features=auto, max_depth=46, bootstrap=False, total=  44.3s\n",
      "[CV] n_estimators=188, min_samples_split=2, min_samples_leaf=2, max_features=None, max_depth=46, bootstrap=True \n",
      "[CV]  n_estimators=188, min_samples_split=2, min_samples_leaf=2, max_features=None, max_depth=46, bootstrap=True, total=  39.5s\n",
      "[CV] n_estimators=188, min_samples_split=2, min_samples_leaf=2, max_features=None, max_depth=46, bootstrap=True \n",
      "[CV]  n_estimators=188, min_samples_split=2, min_samples_leaf=2, max_features=None, max_depth=46, bootstrap=True, total=  34.7s\n",
      "[CV] n_estimators=188, min_samples_split=2, min_samples_leaf=2, max_features=None, max_depth=46, bootstrap=True \n",
      "[CV]  n_estimators=188, min_samples_split=2, min_samples_leaf=2, max_features=None, max_depth=46, bootstrap=True, total=  40.5s\n",
      "[CV] n_estimators=188, min_samples_split=2, min_samples_leaf=2, max_features=auto, max_depth=28, bootstrap=False \n",
      "[CV]  n_estimators=188, min_samples_split=2, min_samples_leaf=2, max_features=auto, max_depth=28, bootstrap=False, total=  17.5s\n",
      "[CV] n_estimators=188, min_samples_split=2, min_samples_leaf=2, max_features=auto, max_depth=28, bootstrap=False \n"
     ]
    },
    {
     "name": "stdout",
     "output_type": "stream",
     "text": [
      "[CV]  n_estimators=188, min_samples_split=2, min_samples_leaf=2, max_features=auto, max_depth=28, bootstrap=False, total=  17.0s\n",
      "[CV] n_estimators=188, min_samples_split=2, min_samples_leaf=2, max_features=auto, max_depth=28, bootstrap=False \n",
      "[CV]  n_estimators=188, min_samples_split=2, min_samples_leaf=2, max_features=auto, max_depth=28, bootstrap=False, total=  18.7s\n",
      "[CV] n_estimators=188, min_samples_split=10, min_samples_leaf=2, max_features=auto, max_depth=19, bootstrap=False \n",
      "[CV]  n_estimators=188, min_samples_split=10, min_samples_leaf=2, max_features=auto, max_depth=19, bootstrap=False, total=  17.8s\n",
      "[CV] n_estimators=188, min_samples_split=10, min_samples_leaf=2, max_features=auto, max_depth=19, bootstrap=False \n",
      "[CV]  n_estimators=188, min_samples_split=10, min_samples_leaf=2, max_features=auto, max_depth=19, bootstrap=False, total=  17.3s\n",
      "[CV] n_estimators=188, min_samples_split=10, min_samples_leaf=2, max_features=auto, max_depth=19, bootstrap=False \n",
      "[CV]  n_estimators=188, min_samples_split=10, min_samples_leaf=2, max_features=auto, max_depth=19, bootstrap=False, total=  18.5s\n",
      "[CV] n_estimators=233, min_samples_split=2, min_samples_leaf=4, max_features=None, max_depth=64, bootstrap=False \n",
      "[CV]  n_estimators=233, min_samples_split=2, min_samples_leaf=4, max_features=None, max_depth=64, bootstrap=False, total= 1.2min\n",
      "[CV] n_estimators=233, min_samples_split=2, min_samples_leaf=4, max_features=None, max_depth=64, bootstrap=False \n",
      "[CV]  n_estimators=233, min_samples_split=2, min_samples_leaf=4, max_features=None, max_depth=64, bootstrap=False, total= 1.0min\n",
      "[CV] n_estimators=233, min_samples_split=2, min_samples_leaf=4, max_features=None, max_depth=64, bootstrap=False \n",
      "[CV]  n_estimators=233, min_samples_split=2, min_samples_leaf=4, max_features=None, max_depth=64, bootstrap=False, total= 1.3min\n",
      "[CV] n_estimators=455, min_samples_split=10, min_samples_leaf=2, max_features=auto, max_depth=28, bootstrap=True \n",
      "[CV]  n_estimators=455, min_samples_split=10, min_samples_leaf=2, max_features=auto, max_depth=28, bootstrap=True, total=  28.1s\n",
      "[CV] n_estimators=455, min_samples_split=10, min_samples_leaf=2, max_features=auto, max_depth=28, bootstrap=True \n",
      "[CV]  n_estimators=455, min_samples_split=10, min_samples_leaf=2, max_features=auto, max_depth=28, bootstrap=True, total=  27.1s\n",
      "[CV] n_estimators=455, min_samples_split=10, min_samples_leaf=2, max_features=auto, max_depth=28, bootstrap=True \n",
      "[CV]  n_estimators=455, min_samples_split=10, min_samples_leaf=2, max_features=auto, max_depth=28, bootstrap=True, total=  29.3s\n",
      "[CV] n_estimators=366, min_samples_split=10, min_samples_leaf=2, max_features=auto, max_depth=19, bootstrap=False \n",
      "[CV]  n_estimators=366, min_samples_split=10, min_samples_leaf=2, max_features=auto, max_depth=19, bootstrap=False, total=  34.3s\n",
      "[CV] n_estimators=366, min_samples_split=10, min_samples_leaf=2, max_features=auto, max_depth=19, bootstrap=False \n",
      "[CV]  n_estimators=366, min_samples_split=10, min_samples_leaf=2, max_features=auto, max_depth=19, bootstrap=False, total=  32.9s\n",
      "[CV] n_estimators=366, min_samples_split=10, min_samples_leaf=2, max_features=auto, max_depth=19, bootstrap=False \n",
      "[CV]  n_estimators=366, min_samples_split=10, min_samples_leaf=2, max_features=auto, max_depth=19, bootstrap=False, total=  35.4s\n",
      "[CV] n_estimators=455, min_samples_split=2, min_samples_leaf=4, max_features=None, max_depth=64, bootstrap=True \n",
      "[CV]  n_estimators=455, min_samples_split=2, min_samples_leaf=4, max_features=None, max_depth=64, bootstrap=True, total= 1.5min\n",
      "[CV] n_estimators=455, min_samples_split=2, min_samples_leaf=4, max_features=None, max_depth=64, bootstrap=True \n",
      "[CV]  n_estimators=455, min_samples_split=2, min_samples_leaf=4, max_features=None, max_depth=64, bootstrap=True, total= 1.4min\n",
      "[CV] n_estimators=455, min_samples_split=2, min_samples_leaf=4, max_features=None, max_depth=64, bootstrap=True \n",
      "[CV]  n_estimators=455, min_samples_split=2, min_samples_leaf=4, max_features=None, max_depth=64, bootstrap=True, total= 1.6min\n",
      "[CV] n_estimators=233, min_samples_split=2, min_samples_leaf=2, max_features=auto, max_depth=10, bootstrap=False \n",
      "[CV]  n_estimators=233, min_samples_split=2, min_samples_leaf=2, max_features=auto, max_depth=10, bootstrap=False, total=  14.6s\n",
      "[CV] n_estimators=233, min_samples_split=2, min_samples_leaf=2, max_features=auto, max_depth=10, bootstrap=False \n",
      "[CV]  n_estimators=233, min_samples_split=2, min_samples_leaf=2, max_features=auto, max_depth=10, bootstrap=False, total=  14.8s\n",
      "[CV] n_estimators=233, min_samples_split=2, min_samples_leaf=2, max_features=auto, max_depth=10, bootstrap=False \n",
      "[CV]  n_estimators=233, min_samples_split=2, min_samples_leaf=2, max_features=auto, max_depth=10, bootstrap=False, total=  14.6s\n",
      "[CV] n_estimators=322, min_samples_split=10, min_samples_leaf=2, max_features=auto, max_depth=37, bootstrap=True \n",
      "[CV]  n_estimators=322, min_samples_split=10, min_samples_leaf=2, max_features=auto, max_depth=37, bootstrap=True, total=  20.6s\n",
      "[CV] n_estimators=322, min_samples_split=10, min_samples_leaf=2, max_features=auto, max_depth=37, bootstrap=True \n",
      "[CV]  n_estimators=322, min_samples_split=10, min_samples_leaf=2, max_features=auto, max_depth=37, bootstrap=True, total=  19.0s\n",
      "[CV] n_estimators=322, min_samples_split=10, min_samples_leaf=2, max_features=auto, max_depth=37, bootstrap=True \n",
      "[CV]  n_estimators=322, min_samples_split=10, min_samples_leaf=2, max_features=auto, max_depth=37, bootstrap=True, total=  20.8s\n",
      "[CV] n_estimators=277, min_samples_split=5, min_samples_leaf=2, max_features=auto, max_depth=37, bootstrap=True \n",
      "[CV]  n_estimators=277, min_samples_split=5, min_samples_leaf=2, max_features=auto, max_depth=37, bootstrap=True, total=  17.0s\n",
      "[CV] n_estimators=277, min_samples_split=5, min_samples_leaf=2, max_features=auto, max_depth=37, bootstrap=True \n",
      "[CV]  n_estimators=277, min_samples_split=5, min_samples_leaf=2, max_features=auto, max_depth=37, bootstrap=True, total=  16.5s\n",
      "[CV] n_estimators=277, min_samples_split=5, min_samples_leaf=2, max_features=auto, max_depth=37, bootstrap=True \n",
      "[CV]  n_estimators=277, min_samples_split=5, min_samples_leaf=2, max_features=auto, max_depth=37, bootstrap=True, total=  18.2s\n",
      "[CV] n_estimators=322, min_samples_split=10, min_samples_leaf=4, max_features=auto, max_depth=82, bootstrap=True \n",
      "[CV]  n_estimators=322, min_samples_split=10, min_samples_leaf=4, max_features=auto, max_depth=82, bootstrap=True, total=  20.1s\n",
      "[CV] n_estimators=322, min_samples_split=10, min_samples_leaf=4, max_features=auto, max_depth=82, bootstrap=True \n",
      "[CV]  n_estimators=322, min_samples_split=10, min_samples_leaf=4, max_features=auto, max_depth=82, bootstrap=True, total=  18.9s\n",
      "[CV] n_estimators=322, min_samples_split=10, min_samples_leaf=4, max_features=auto, max_depth=82, bootstrap=True \n",
      "[CV]  n_estimators=322, min_samples_split=10, min_samples_leaf=4, max_features=auto, max_depth=82, bootstrap=True, total=  20.6s\n",
      "[CV] n_estimators=322, min_samples_split=5, min_samples_leaf=2, max_features=auto, max_depth=91, bootstrap=True \n",
      "[CV]  n_estimators=322, min_samples_split=5, min_samples_leaf=2, max_features=auto, max_depth=91, bootstrap=True, total=  19.7s\n",
      "[CV] n_estimators=322, min_samples_split=5, min_samples_leaf=2, max_features=auto, max_depth=91, bootstrap=True \n",
      "[CV]  n_estimators=322, min_samples_split=5, min_samples_leaf=2, max_features=auto, max_depth=91, bootstrap=True, total=  19.0s\n",
      "[CV] n_estimators=322, min_samples_split=5, min_samples_leaf=2, max_features=auto, max_depth=91, bootstrap=True \n",
      "[CV]  n_estimators=322, min_samples_split=5, min_samples_leaf=2, max_features=auto, max_depth=91, bootstrap=True, total=  21.0s\n",
      "[CV] n_estimators=100, min_samples_split=5, min_samples_leaf=4, max_features=auto, max_depth=19, bootstrap=False \n",
      "[CV]  n_estimators=100, min_samples_split=5, min_samples_leaf=4, max_features=auto, max_depth=19, bootstrap=False, total=   9.4s\n",
      "[CV] n_estimators=100, min_samples_split=5, min_samples_leaf=4, max_features=auto, max_depth=19, bootstrap=False \n",
      "[CV]  n_estimators=100, min_samples_split=5, min_samples_leaf=4, max_features=auto, max_depth=19, bootstrap=False, total=   9.2s\n",
      "[CV] n_estimators=100, min_samples_split=5, min_samples_leaf=4, max_features=auto, max_depth=19, bootstrap=False \n"
     ]
    },
    {
     "name": "stdout",
     "output_type": "stream",
     "text": [
      "[CV]  n_estimators=100, min_samples_split=5, min_samples_leaf=4, max_features=auto, max_depth=19, bootstrap=False, total=   9.8s\n",
      "[CV] n_estimators=322, min_samples_split=5, min_samples_leaf=4, max_features=auto, max_depth=46, bootstrap=True \n",
      "[CV]  n_estimators=322, min_samples_split=5, min_samples_leaf=4, max_features=auto, max_depth=46, bootstrap=True, total=  19.7s\n",
      "[CV] n_estimators=322, min_samples_split=5, min_samples_leaf=4, max_features=auto, max_depth=46, bootstrap=True \n",
      "[CV]  n_estimators=322, min_samples_split=5, min_samples_leaf=4, max_features=auto, max_depth=46, bootstrap=True, total=  19.2s\n",
      "[CV] n_estimators=322, min_samples_split=5, min_samples_leaf=4, max_features=auto, max_depth=46, bootstrap=True \n",
      "[CV]  n_estimators=322, min_samples_split=5, min_samples_leaf=4, max_features=auto, max_depth=46, bootstrap=True, total=  21.4s\n",
      "[CV] n_estimators=455, min_samples_split=10, min_samples_leaf=1, max_features=None, max_depth=100, bootstrap=True \n",
      "[CV]  n_estimators=455, min_samples_split=10, min_samples_leaf=1, max_features=None, max_depth=100, bootstrap=True, total= 1.5min\n",
      "[CV] n_estimators=455, min_samples_split=10, min_samples_leaf=1, max_features=None, max_depth=100, bootstrap=True \n",
      "[CV]  n_estimators=455, min_samples_split=10, min_samples_leaf=1, max_features=None, max_depth=100, bootstrap=True, total= 1.4min\n",
      "[CV] n_estimators=455, min_samples_split=10, min_samples_leaf=1, max_features=None, max_depth=100, bootstrap=True \n",
      "[CV]  n_estimators=455, min_samples_split=10, min_samples_leaf=1, max_features=None, max_depth=100, bootstrap=True, total= 1.6min\n",
      "[CV] n_estimators=233, min_samples_split=10, min_samples_leaf=2, max_features=auto, max_depth=73, bootstrap=True \n",
      "[CV]  n_estimators=233, min_samples_split=10, min_samples_leaf=2, max_features=auto, max_depth=73, bootstrap=True, total=  14.5s\n",
      "[CV] n_estimators=233, min_samples_split=10, min_samples_leaf=2, max_features=auto, max_depth=73, bootstrap=True \n",
      "[CV]  n_estimators=233, min_samples_split=10, min_samples_leaf=2, max_features=auto, max_depth=73, bootstrap=True, total=  13.8s\n",
      "[CV] n_estimators=233, min_samples_split=10, min_samples_leaf=2, max_features=auto, max_depth=73, bootstrap=True \n",
      "[CV]  n_estimators=233, min_samples_split=10, min_samples_leaf=2, max_features=auto, max_depth=73, bootstrap=True, total=  15.7s\n",
      "[CV] n_estimators=100, min_samples_split=2, min_samples_leaf=2, max_features=None, max_depth=91, bootstrap=False \n",
      "[CV]  n_estimators=100, min_samples_split=2, min_samples_leaf=2, max_features=None, max_depth=91, bootstrap=False, total=  31.1s\n",
      "[CV] n_estimators=100, min_samples_split=2, min_samples_leaf=2, max_features=None, max_depth=91, bootstrap=False \n",
      "[CV]  n_estimators=100, min_samples_split=2, min_samples_leaf=2, max_features=None, max_depth=91, bootstrap=False, total=  27.1s\n",
      "[CV] n_estimators=100, min_samples_split=2, min_samples_leaf=2, max_features=None, max_depth=91, bootstrap=False \n",
      "[CV]  n_estimators=100, min_samples_split=2, min_samples_leaf=2, max_features=None, max_depth=91, bootstrap=False, total=  35.6s\n"
     ]
    },
    {
     "name": "stderr",
     "output_type": "stream",
     "text": [
      "[Parallel(n_jobs=1)]: Done 150 out of 150 | elapsed: 118.2min finished\n"
     ]
    },
    {
     "data": {
      "text/plain": [
       "RandomizedSearchCV(cv=3,\n",
       "                   estimator=RandomForestClassifier(n_jobs=-1, random_state=13),\n",
       "                   n_iter=50,\n",
       "                   param_distributions={'bootstrap': [True, False],\n",
       "                                        'max_depth': [10, 19, 28, 37, 46, 55,\n",
       "                                                      64, 73, 82, 91, 100,\n",
       "                                                      None],\n",
       "                                        'max_features': ['auto', None],\n",
       "                                        'min_samples_leaf': [1, 2, 4],\n",
       "                                        'min_samples_split': [2, 5, 10],\n",
       "                                        'n_estimators': [100, 144, 188, 233,\n",
       "                                                         277, 322, 366, 411,\n",
       "                                                         455, 500]},\n",
       "                   scoring='recall', verbose=2)"
      ]
     },
     "execution_count": 23,
     "metadata": {},
     "output_type": "execute_result"
    }
   ],
   "source": [
    "forest_random_search.fit(X_train_scaled,y_train)"
   ]
  },
  {
   "cell_type": "markdown",
   "metadata": {},
   "source": [
    "\n",
    "\n",
    "\n",
    "Let's see what parameters did best:"
   ]
  },
  {
   "cell_type": "code",
   "execution_count": 11,
   "metadata": {
    "scrolled": true
   },
   "outputs": [
    {
     "ename": "AttributeError",
     "evalue": "'RandomizedSearchCV' object has no attribute 'best_params_'",
     "output_type": "error",
     "traceback": [
      "\u001b[1;31m---------------------------------------------------------------------------\u001b[0m",
      "\u001b[1;31mAttributeError\u001b[0m                            Traceback (most recent call last)",
      "\u001b[1;32m<ipython-input-11-b72b72478855>\u001b[0m in \u001b[0;36m<module>\u001b[1;34m\u001b[0m\n\u001b[1;32m----> 1\u001b[1;33m \u001b[0mforest_random_search\u001b[0m\u001b[1;33m.\u001b[0m\u001b[0mbest_params_\u001b[0m\u001b[1;33m\u001b[0m\u001b[1;33m\u001b[0m\u001b[0m\n\u001b[0m",
      "\u001b[1;31mAttributeError\u001b[0m: 'RandomizedSearchCV' object has no attribute 'best_params_'"
     ]
    }
   ],
   "source": [
    "#forest_random_search.best_params_"
   ]
  },
  {
   "cell_type": "code",
   "execution_count": 35,
   "metadata": {},
   "outputs": [],
   "source": [
    "forest_clf = forest_random_search.best_estimator_"
   ]
  },
  {
   "cell_type": "markdown",
   "metadata": {},
   "source": [
    "{'n_estimators': 233,\n",
    " 'min_samples_split': 10,\n",
    " 'min_samples_leaf': 1,\n",
    " 'max_features': 'auto',\n",
    " 'max_depth': 82,\n",
    " 'bootstrap': False}"
   ]
  },
  {
   "cell_type": "code",
   "execution_count": 36,
   "metadata": {},
   "outputs": [
    {
     "data": {
      "text/plain": [
       "{'bootstrap': False,\n",
       " 'ccp_alpha': 0.0,\n",
       " 'class_weight': None,\n",
       " 'criterion': 'gini',\n",
       " 'max_depth': 82,\n",
       " 'max_features': 'auto',\n",
       " 'max_leaf_nodes': None,\n",
       " 'max_samples': None,\n",
       " 'min_impurity_decrease': 0.0,\n",
       " 'min_impurity_split': None,\n",
       " 'min_samples_leaf': 1,\n",
       " 'min_samples_split': 10,\n",
       " 'min_weight_fraction_leaf': 0.0,\n",
       " 'n_estimators': 233,\n",
       " 'n_jobs': -1,\n",
       " 'oob_score': False,\n",
       " 'random_state': 13,\n",
       " 'verbose': 0,\n",
       " 'warm_start': False}"
      ]
     },
     "execution_count": 36,
     "metadata": {},
     "output_type": "execute_result"
    }
   ],
   "source": [
    "forest_clf.get_params()"
   ]
  },
  {
   "cell_type": "code",
   "execution_count": 37,
   "metadata": {
    "scrolled": true
   },
   "outputs": [
    {
     "data": {
      "text/plain": [
       "RandomForestClassifier(bootstrap=False, max_depth=82, min_samples_split=10,\n",
       "                       n_estimators=233, n_jobs=-1, random_state=13)"
      ]
     },
     "execution_count": 37,
     "metadata": {},
     "output_type": "execute_result"
    }
   ],
   "source": [
    "forest_clf.fit(X_train_scaled,y_train)"
   ]
  },
  {
   "cell_type": "markdown",
   "metadata": {},
   "source": [
    "I am now testing how well the tuned Random Forest Classifier does. The results from the \"default\" Random Forest Classifier can be found below for reference."
   ]
  },
  {
   "cell_type": "code",
   "execution_count": 12,
   "metadata": {},
   "outputs": [],
   "source": [
    "def plot_precision_vs_recall(precisions, recalls):\n",
    "    plt.plot(recalls, precisions, \"b-\", linewidth=2)\n",
    "    plt.xlabel(\"Recall\", fontsize=16)\n",
    "    plt.ylabel(\"Precision\", fontsize=16)\n",
    "    plt.axis([0, 1, 0, 1])\n",
    "    plt.grid(True) "
   ]
  },
  {
   "cell_type": "code",
   "execution_count": 13,
   "metadata": {},
   "outputs": [],
   "source": [
    "from sklearn.model_selection import cross_val_predict"
   ]
  },
  {
   "cell_type": "code",
   "execution_count": 17,
   "metadata": {},
   "outputs": [],
   "source": [
    "y_pred_forest = cross_val_predict(forest_clf,X_train_scaled, y_train)"
   ]
  },
  {
   "cell_type": "markdown",
   "metadata": {},
   "source": [
    "**Note: I realize that the code below was repeated quite often during my exploration and tuning. I decided to keep the original code here but created a function in a seperate .py script for later use.**"
   ]
  },
  {
   "cell_type": "code",
   "execution_count": 18,
   "metadata": {},
   "outputs": [
    {
     "name": "stdout",
     "output_type": "stream",
     "text": [
      "Accuracy:  0.9995374041765794\n",
      "Precision:  0.9174311926605505\n",
      "Recall:  0.7936507936507936\n",
      "TN       FP\n",
      "[[226575     27]\n",
      " [    78    300]]\n",
      "FN       TP\n"
     ]
    },
    {
     "data": {
      "image/png": "[encoded data removed]",
      "text/plain": [
       "<Figure size 432x288 with 1 Axes>"
      ]
     },
     "metadata": {
      "needs_background": "light"
     },
     "output_type": "display_data"
    },
    {
     "data": {
      "text/plain": [
       "<Figure size 576x288 with 0 Axes>"
      ]
     },
     "metadata": {},
     "output_type": "display_data"
    }
   ],
   "source": [
    "print(\"Accuracy: \", accuracy_score(y_train, y_pred_forest))\n",
    "print(\"Precision: \", precision_score(y_train,y_pred_forest))\n",
    "print(\"Recall: \", recall_score(y_train,y_pred_forest))\n",
    "print(\"TN       FP\")\n",
    "print(confusion_matrix(y_train,y_pred_forest)) \n",
    "print(\"FN       TP\")\n",
    "precisions, recalls, thresholds = precision_recall_curve(y_train,y_pred_forest)\n",
    "plot_precision_vs_recall(precisions,recalls) #plot precision recall curve\n",
    "plt.figure(figsize=(8,4))\n",
    "plt.show()"
   ]
  },
  {
   "cell_type": "markdown",
   "metadata": {},
   "source": [
    "**OLD default Model**\n",
    "\n",
    "Random Forest\n",
    "\n",
    "- Precision:  0.9283489096573209\n",
    "- Recall:  0.7883597883597884\n",
    "\n",
    "      TN       FP\n",
    "\n",
    "      [[226579     23]\n",
    "\n",
    "      [    80    298]]\n",
    " \n",
    "      FN       TP\n"
   ]
  },
  {
   "cell_type": "markdown",
   "metadata": {},
   "source": [
    "Unfortunately the tuned RandomForest is not much better than the \"default\" one. It basically traded a slight increase in recall for a slight decrease in precision."
   ]
  },
  {
   "cell_type": "markdown",
   "metadata": {},
   "source": [
    "### Tuning the MLP Classifier\n",
    "\n",
    "The MLP performed only slightly worse than the Random Forest in the previous exploration. It's worth exploring it a little further."
   ]
  },
  {
   "cell_type": "code",
   "execution_count": 14,
   "metadata": {},
   "outputs": [],
   "source": [
    "from sklearn.neural_network import MLPClassifier\n",
    "\n",
    "MLP_clf = MLPClassifier()"
   ]
  },
  {
   "cell_type": "code",
   "execution_count": 15,
   "metadata": {
    "scrolled": true
   },
   "outputs": [
    {
     "name": "stdout",
     "output_type": "stream",
     "text": [
      "{'hidden_layer_sizes': [(50, 50, 50), (50, 100, 50), (100,)], 'activation': ['tanh', 'relu'], 'solver': ['sgd', 'adam'], 'alpha': [5e-05, 0.0125375, 0.025025000000000002, 0.037512500000000004, 0.05], 'learning_rate': ['constant', 'adaptive']}\n"
     ]
    }
   ],
   "source": [
    "alpha = [float(x) for x in np.linspace(0.00005, 0.05, num = 5)]\n",
    "random_grid_MLP = {\n",
    "    'hidden_layer_sizes': [(50,50,50), (50,100,50), (100,)],\n",
    "    'activation': ['tanh', 'relu'],\n",
    "    'solver': ['sgd', 'adam'],\n",
    "    'alpha': alpha,\n",
    "    'learning_rate': ['constant','adaptive'],\n",
    "}\n",
    "\n",
    "print(random_grid_MLP)"
   ]
  },
  {
   "cell_type": "code",
   "execution_count": 16,
   "metadata": {},
   "outputs": [],
   "source": [
    "MLP_random_search = RandomizedSearchCV(MLP_clf, random_grid_MLP,scoring = \"recall\",\n",
    "                                          n_iter = 50, cv = 3, n_jobs = -1, verbose = 2)"
   ]
  },
  {
   "cell_type": "markdown",
   "metadata": {},
   "source": [
    "**Note: the following cell may take over one hour to run depending on the system**\n",
    "\n",
    "I only ran it once."
   ]
  },
  {
   "cell_type": "code",
   "execution_count": 52,
   "metadata": {},
   "outputs": [
    {
     "name": "stdout",
     "output_type": "stream",
     "text": [
      "Fitting 3 folds for each of 50 candidates, totalling 150 fits\n"
     ]
    },
    {
     "name": "stderr",
     "output_type": "stream",
     "text": [
      "[Parallel(n_jobs=-1)]: Using backend LokyBackend with 12 concurrent workers.\n",
      "[Parallel(n_jobs=-1)]: Done  17 tasks      | elapsed:  1.7min\n",
      "[Parallel(n_jobs=-1)]: Done 150 out of 150 | elapsed: 14.0min finished\n"
     ]
    },
    {
     "data": {
      "text/plain": [
       "RandomizedSearchCV(cv=3, estimator=MLPClassifier(), n_iter=50, n_jobs=-1,\n",
       "                   param_distributions={'activation': ['tanh', 'relu'],\n",
       "                                        'alpha': [5e-05, 0.0125375,\n",
       "                                                  0.025025000000000002,\n",
       "                                                  0.037512500000000004, 0.05],\n",
       "                                        'hidden_layer_sizes': [(50, 50, 50),\n",
       "                                                               (50, 100, 50),\n",
       "                                                               (100,)],\n",
       "                                        'learning_rate': ['constant',\n",
       "                                                          'adaptive'],\n",
       "                                        'solver': ['sgd', 'adam']},\n",
       "                   scoring='recall', verbose=2)"
      ]
     },
     "execution_count": 52,
     "metadata": {},
     "output_type": "execute_result"
    }
   ],
   "source": [
    "MLP_random_search.fit(X_train_scaled,y_train)"
   ]
  },
  {
   "cell_type": "code",
   "execution_count": 53,
   "metadata": {},
   "outputs": [
    {
     "data": {
      "text/plain": [
       "{'solver': 'adam',\n",
       " 'learning_rate': 'adaptive',\n",
       " 'hidden_layer_sizes': (50, 100, 50),\n",
       " 'alpha': 0.0125375,\n",
       " 'activation': 'relu'}"
      ]
     },
     "execution_count": 53,
     "metadata": {},
     "output_type": "execute_result"
    }
   ],
   "source": [
    "MLP_random_search.best_params_"
   ]
  },
  {
   "cell_type": "code",
   "execution_count": 55,
   "metadata": {},
   "outputs": [],
   "source": [
    "MLP_clf = MLP_random_search.best_estimator_"
   ]
  },
  {
   "cell_type": "code",
   "execution_count": 56,
   "metadata": {},
   "outputs": [
    {
     "data": {
      "text/plain": [
       "MLPClassifier(alpha=0.0125375, hidden_layer_sizes=(50, 100, 50),\n",
       "              learning_rate='adaptive')"
      ]
     },
     "execution_count": 56,
     "metadata": {},
     "output_type": "execute_result"
    }
   ],
   "source": [
    "MLP_clf.fit(X_train_scaled,y_train)"
   ]
  },
  {
   "cell_type": "code",
   "execution_count": 19,
   "metadata": {},
   "outputs": [],
   "source": [
    "y_pred_MLP = cross_val_predict(MLP_clf,X_train_scaled, y_train)"
   ]
  },
  {
   "cell_type": "code",
   "execution_count": 20,
   "metadata": {},
   "outputs": [
    {
     "name": "stdout",
     "output_type": "stream",
     "text": [
      "Accuracy:  0.9994096396158252\n",
      "Precision:  0.8426966292134831\n",
      "Recall:  0.7936507936507936\n",
      "TN       FP\n",
      "[[226546     56]\n",
      " [    78    300]]\n",
      "FN       TP\n"
     ]
    },
    {
     "data": {
      "image/png": "[encoded data removed]",
      "text/plain": [
       "<Figure size 432x288 with 1 Axes>"
      ]
     },
     "metadata": {
      "needs_background": "light"
     },
     "output_type": "display_data"
    },
    {
     "data": {
      "text/plain": [
       "<Figure size 576x288 with 0 Axes>"
      ]
     },
     "metadata": {},
     "output_type": "display_data"
    }
   ],
   "source": [
    "print(\"Accuracy: \", accuracy_score(y_train,y_pred_MLP))\n",
    "print(\"Precision: \", precision_score(y_train,y_pred_MLP))\n",
    "print(\"Recall: \", recall_score(y_train,y_pred_MLP))\n",
    "print(\"TN       FP\")\n",
    "print(confusion_matrix(y_train,y_pred_MLP)) \n",
    "print(\"FN       TP\")\n",
    "precisions, recalls, thresholds = precision_recall_curve(y_train,y_pred_MLP)\n",
    "plot_precision_vs_recall(precisions,recalls) #plot precision recall curve\n",
    "plt.figure(figsize=(8,4))\n",
    "plt.show()"
   ]
  },
  {
   "cell_type": "markdown",
   "metadata": {},
   "source": [
    "**OLD default MLP**\n",
    "- Precision:  0.8605341246290801\n",
    "- Recall:  0.7671957671957672\n",
    "\n",
    "        TN       FP\n",
    "       [[226555     47]\n",
    "       [    88    290]]\n",
    "        FN       TP"
   ]
  },
  {
   "cell_type": "markdown",
   "metadata": {},
   "source": [
    "The tuned MLP gained some recall while losing some precision (as expected), yet the gains are not very large and it still lags behind the Random Forest.\n",
    "\n",
    "### Trying an Ensemble\n",
    "\n",
    "Ensembles often perform better than individual classifiers, so it is worth a try here. I am using a Voting Ensemble with hard voting."
   ]
  },
  {
   "cell_type": "code",
   "execution_count": 59,
   "metadata": {},
   "outputs": [],
   "source": [
    "from sklearn.ensemble import VotingClassifier\n",
    "\n",
    "ensemble_clf = VotingClassifier([(\"RF\",forest_clf),(\"MLP\", MLP_clf)], n_jobs = -1)"
   ]
  },
  {
   "cell_type": "code",
   "execution_count": 60,
   "metadata": {},
   "outputs": [],
   "source": [
    "ensemble_clf.fit(X_train_scaled,y_train)\n",
    "y_pred_ensemble = cross_val_predict(ensemble_clf,X_train_scaled, y_train)"
   ]
  },
  {
   "cell_type": "code",
   "execution_count": 61,
   "metadata": {
    "scrolled": true
   },
   "outputs": [
    {
     "name": "stdout",
     "output_type": "stream",
     "text": [
      "Precision:  0.9288025889967637\n",
      "Recall:  0.7592592592592593\n",
      "TN       FP\n",
      "[[226580     22]\n",
      " [    91    287]]\n",
      "FN       TP\n"
     ]
    },
    {
     "data": {
      "image/png": "[encoded data removed]",
      "text/plain": [
       "<Figure size 432x288 with 1 Axes>"
      ]
     },
     "metadata": {
      "needs_background": "light"
     },
     "output_type": "display_data"
    },
    {
     "data": {
      "text/plain": [
       "<Figure size 576x288 with 0 Axes>"
      ]
     },
     "metadata": {},
     "output_type": "display_data"
    }
   ],
   "source": [
    "print(\"Precision: \", precision_score(y_train,y_pred_ensemble))\n",
    "print(\"Recall: \", recall_score(y_train,y_pred_ensemble))\n",
    "print(\"TN       FP\")\n",
    "print(confusion_matrix(y_train,y_pred_ensemble)) \n",
    "print(\"FN       TP\")\n",
    "precisions, recalls, thresholds = precision_recall_curve(y_train,y_pred_ensemble)\n",
    "plot_precision_vs_recall(precisions,recalls) #plot precision recall curve\n",
    "plt.figure(figsize=(8,4))\n",
    "plt.show()"
   ]
  },
  {
   "cell_type": "markdown",
   "metadata": {},
   "source": [
    "The Voting Classifier ensemble shows **worse performance** than the individual classifiers. It will therefore not be discarded as a choice for the final model."
   ]
  },
  {
   "cell_type": "code",
   "execution_count": 18,
   "metadata": {},
   "outputs": [],
   "source": [
    "import pickle\n",
    "path = \"C:/Users/ms101/OneDrive/DataScience_ML/projects/Credit card fraud detection/models\""
   ]
  },
  {
   "cell_type": "code",
   "execution_count": 63,
   "metadata": {},
   "outputs": [],
   "source": [
    "#saving all current models to get later\n",
    "pickle.dump(forest_clf,open(path + \"/forest_model.pickle\", \"wb\"))\n",
    "pickle.dump(MLP_clf,open(path + \"/MLP_model.pickle\", \"wb\"))"
   ]
  },
  {
   "cell_type": "markdown",
   "metadata": {},
   "source": [
    "To avoid the long time the Randomized Search takes every time it is run and to keep things consistent I am saving the model and working with the versions presented up to this point."
   ]
  },
  {
   "cell_type": "code",
   "execution_count": 19,
   "metadata": {
    "scrolled": true
   },
   "outputs": [],
   "source": [
    "forest_clf = pickle.load(open(path+ \"/forest_model.pickle\", \"rb\"))\n",
    "MLP_clf = pickle.load(open(path + \"/MLP_model.pickle\", \"rb\"))"
   ]
  },
  {
   "cell_type": "code",
   "execution_count": 20,
   "metadata": {},
   "outputs": [
    {
     "data": {
      "text/plain": [
       "{'bootstrap': False,\n",
       " 'ccp_alpha': 0.0,\n",
       " 'class_weight': None,\n",
       " 'criterion': 'gini',\n",
       " 'max_depth': 82,\n",
       " 'max_features': 'auto',\n",
       " 'max_leaf_nodes': None,\n",
       " 'max_samples': None,\n",
       " 'min_impurity_decrease': 0.0,\n",
       " 'min_impurity_split': None,\n",
       " 'min_samples_leaf': 1,\n",
       " 'min_samples_split': 10,\n",
       " 'min_weight_fraction_leaf': 0.0,\n",
       " 'n_estimators': 233,\n",
       " 'n_jobs': -1,\n",
       " 'oob_score': False,\n",
       " 'random_state': 13,\n",
       " 'verbose': 0,\n",
       " 'warm_start': False}"
      ]
     },
     "execution_count": 20,
     "metadata": {},
     "output_type": "execute_result"
    }
   ],
   "source": [
    "forest_clf.get_params()"
   ]
  },
  {
   "cell_type": "code",
   "execution_count": 21,
   "metadata": {},
   "outputs": [
    {
     "data": {
      "text/plain": [
       "{'activation': 'relu',\n",
       " 'alpha': 0.0125375,\n",
       " 'batch_size': 'auto',\n",
       " 'beta_1': 0.9,\n",
       " 'beta_2': 0.999,\n",
       " 'early_stopping': False,\n",
       " 'epsilon': 1e-08,\n",
       " 'hidden_layer_sizes': (50, 100, 50),\n",
       " 'learning_rate': 'adaptive',\n",
       " 'learning_rate_init': 0.001,\n",
       " 'max_fun': 15000,\n",
       " 'max_iter': 200,\n",
       " 'momentum': 0.9,\n",
       " 'n_iter_no_change': 10,\n",
       " 'nesterovs_momentum': True,\n",
       " 'power_t': 0.5,\n",
       " 'random_state': None,\n",
       " 'shuffle': True,\n",
       " 'solver': 'adam',\n",
       " 'tol': 0.0001,\n",
       " 'validation_fraction': 0.1,\n",
       " 'verbose': False,\n",
       " 'warm_start': False}"
      ]
     },
     "execution_count": 21,
     "metadata": {},
     "output_type": "execute_result"
    }
   ],
   "source": [
    "MLP_clf.get_params()"
   ]
  },
  {
   "cell_type": "markdown",
   "metadata": {},
   "source": [
    "### Using `predict_proba()` and a manual threshold to controll recall/precision trade-off\n",
    "\n",
    "Another option to tune a model towards a higher performance in a metric is to use `predict_proba()` to predict the probability of an instance to belong to the target class instead of a direct prediction. \n",
    "\n",
    "By manually setting a probability threshold used to determine the target class we can control the recall-precision tradeoff."
   ]
  },
  {
   "cell_type": "code",
   "execution_count": 22,
   "metadata": {},
   "outputs": [],
   "source": [
    "y_proba_forest = forest_clf.predict_proba(X_train_scaled)\n",
    "y_proba_MLP = MLP_clf.predict_proba(X_train_scaled)"
   ]
  },
  {
   "cell_type": "markdown",
   "metadata": {},
   "source": [
    "The following function was taken from [this Kaggle kernel](https://www.kaggle.com/joparga3/in-depth-skewed-data-classif-93-recall-acc-now), please note that this kernel achieves a relatively high recall but suffers from data-leakage."
   ]
  },
  {
   "cell_type": "code",
   "execution_count": 23,
   "metadata": {},
   "outputs": [],
   "source": [
    "import itertools\n",
    "\n",
    "def plot_confusion_matrix(cm, classes,\n",
    "                          normalize=False,\n",
    "                          title='Confusion matrix',\n",
    "                          cmap=plt.cm.Blues):\n",
    "    \"\"\"\n",
    "    This function prints and plots the confusion matrix.\n",
    "    Normalization can be applied by setting `normalize=True`.\n",
    "    \"\"\"\n",
    "    plt.imshow(cm, interpolation='nearest', cmap=cmap)\n",
    "    plt.title(title)\n",
    "    plt.colorbar()\n",
    "    tick_marks = np.arange(len(classes))\n",
    "    plt.xticks(tick_marks, classes, rotation=0)\n",
    "    plt.yticks(tick_marks, classes)\n",
    "\n",
    "    if normalize:\n",
    "        cm = cm.astype('float') / cm.sum(axis=1)[:, np.newaxis]\n",
    "        #print(\"Normalized confusion matrix\")\n",
    "    else:\n",
    "        1#print('Confusion matrix, without normalization')\n",
    "\n",
    "    #print(cm)\n",
    "\n",
    "    thresh = cm.max() / 2.\n",
    "    for i, j in itertools.product(range(cm.shape[0]), range(cm.shape[1])):\n",
    "        plt.text(j, i, cm[i, j],\n",
    "                 horizontalalignment=\"center\",\n",
    "                 color=\"white\" if cm[i, j] > thresh else \"black\")\n",
    "\n",
    "    plt.tight_layout()\n",
    "    plt.ylabel('True label')\n",
    "    plt.xlabel('Predicted label')"
   ]
  },
  {
   "cell_type": "code",
   "execution_count": 24,
   "metadata": {},
   "outputs": [
    {
     "name": "stdout",
     "output_type": "stream",
     "text": [
      "Recall metric in the training dataset:  1.0\n",
      "Recall metric in the training dataset:  1.0\n",
      "Recall metric in the training dataset:  1.0\n",
      "Recall metric in the training dataset:  1.0\n",
      "Recall metric in the training dataset:  0.9947089947089947\n",
      "Recall metric in the training dataset:  0.9841269841269841\n",
      "Recall metric in the training dataset:  0.9523809523809523\n",
      "Recall metric in the training dataset:  0.873015873015873\n",
      "Recall metric in the training dataset:  0.7328042328042328\n"
     ]
    },
    {
     "data": {
      "image/png": "[encoded data removed]",
      "text/plain": [
       "<Figure size 864x864 with 18 Axes>"
      ]
     },
     "metadata": {
      "needs_background": "light"
     },
     "output_type": "display_data"
    }
   ],
   "source": [
    "thresholds = [0.1,0.2,0.3,0.4,0.5,0.6,0.7,0.8,0.9]\n",
    "\n",
    "plt.figure(figsize=(12,12))\n",
    "j = 1\n",
    "for i in thresholds:\n",
    "    y_train_predictions_high_recall = y_proba_forest[:,1] > i\n",
    "\n",
    "    plt.subplot(3,3,j)\n",
    "    j += 1\n",
    "\n",
    "    # Compute confusion matrix\n",
    "    cnf_matrix = confusion_matrix(y_train,y_train_predictions_high_recall)\n",
    "    np.set_printoptions(precision=2)\n",
    "\n",
    "    print(\"Recall metric in the training dataset: \", cnf_matrix[1,1]/(cnf_matrix[1,0]+cnf_matrix[1,1]))\n",
    "    \n",
    "    # Plot non-normalized confusion matrix\n",
    "    class_names = [0,1]\n",
    "    plot_confusion_matrix(cnf_matrix\n",
    "                          , classes=class_names\n",
    "                          , title='Threshold >= %s'%i) "
   ]
  },
  {
   "cell_type": "code",
   "execution_count": 25,
   "metadata": {},
   "outputs": [
    {
     "name": "stdout",
     "output_type": "stream",
     "text": [
      "Recall metric in the training dataset:  0.8412698412698413\n",
      "Recall metric in the training dataset:  0.8306878306878307\n",
      "Recall metric in the training dataset:  0.8068783068783069\n",
      "Recall metric in the training dataset:  0.7936507936507936\n",
      "Recall metric in the training dataset:  0.7804232804232805\n",
      "Recall metric in the training dataset:  0.7380952380952381\n",
      "Recall metric in the training dataset:  0.5952380952380952\n",
      "Recall metric in the training dataset:  0.21957671957671956\n",
      "Recall metric in the training dataset:  0.0\n"
     ]
    },
    {
     "data": {
      "image/png": "[encoded data removed]",
      "text/plain": [
       "<Figure size 864x864 with 18 Axes>"
      ]
     },
     "metadata": {
      "needs_background": "light"
     },
     "output_type": "display_data"
    }
   ],
   "source": [
    "plt.figure(figsize=(12,12))\n",
    "j = 1\n",
    "for i in thresholds:\n",
    "    y_train_predictions_high_recall = y_proba_MLP[:,1] > i\n",
    "\n",
    "    plt.subplot(3,3,j)\n",
    "    j += 1\n",
    "\n",
    "    # Compute confusion matrix\n",
    "    cnf_matrix = confusion_matrix(y_train,y_train_predictions_high_recall)\n",
    "    np.set_printoptions(precision=2)\n",
    "\n",
    "    print(\"Recall metric in the training dataset: \", cnf_matrix[1,1]/(cnf_matrix[1,0]+cnf_matrix[1,1]))\n",
    "    \n",
    "    # Plot non-normalized confusion matrix\n",
    "    class_names = [0,1]\n",
    "    plot_confusion_matrix(cnf_matrix\n",
    "                          , classes=class_names\n",
    "                          , title='Threshold >= %s'%i)"
   ]
  },
  {
   "cell_type": "markdown",
   "metadata": {},
   "source": [
    "The Random Forest seems to do extremely well with certain thresholds while the MLP does not seem to get much better than the direct predictions. I will therefore continue without the MLP."
   ]
  },
  {
   "cell_type": "markdown",
   "metadata": {},
   "source": [
    "The Random Forest looks a little too good to be true right now. There are certain thresholds with very few misclassifications. It is important to consider the possibility of overfitting here.\n",
    "I will go with a threshold of 0.1, even though it has more False positives (but still an acceptable number) and because the 0.2 - 0.4 thresholds are probably overfitting. Let's look at the precision-recall-curve again"
   ]
  },
  {
   "cell_type": "code",
   "execution_count": 26,
   "metadata": {},
   "outputs": [],
   "source": [
    "threshold = 0.1\n",
    "y_train_predictions_high_recall = y_proba_forest[:,1] > threshold"
   ]
  },
  {
   "cell_type": "code",
   "execution_count": 27,
   "metadata": {},
   "outputs": [
    {
     "name": "stdout",
     "output_type": "stream",
     "text": [
      "Precision:  0.8709677419354839\n",
      "Recall:  1.0\n",
      "TN       FP\n",
      "[[226546     56]\n",
      " [     0    378]]\n",
      "FN       TP\n"
     ]
    },
    {
     "data": {
      "image/png": "[encoded data removed]",
      "text/plain": [
       "<Figure size 432x288 with 1 Axes>"
      ]
     },
     "metadata": {
      "needs_background": "light"
     },
     "output_type": "display_data"
    },
    {
     "data": {
      "text/plain": [
       "<Figure size 576x288 with 0 Axes>"
      ]
     },
     "metadata": {},
     "output_type": "display_data"
    }
   ],
   "source": [
    "print(\"Precision: \", precision_score(y_train,y_train_predictions_high_recall))\n",
    "print(\"Recall: \", recall_score(y_train,y_train_predictions_high_recall))\n",
    "print(\"TN       FP\")\n",
    "print(confusion_matrix(y_train,y_train_predictions_high_recall)) \n",
    "print(\"FN       TP\")\n",
    "precisions, recalls, thresholds = precision_recall_curve(y_train,y_train_predictions_high_recall)\n",
    "plot_precision_vs_recall(precisions,recalls) #plot precision recall curve\n",
    "plt.figure(figsize=(8,4))\n",
    "plt.show()"
   ]
  },
  {
   "cell_type": "markdown",
   "metadata": {},
   "source": [
    "This looks very promising. The recall is 1 and the precision is still acceptable, however we may have overfit the training data."
   ]
  },
  {
   "cell_type": "code",
   "execution_count": 28,
   "metadata": {},
   "outputs": [],
   "source": [
    "y_test_proba = forest_clf.predict_proba(X_test_scaled)\n",
    "threshold = 0.1\n",
    "y_test_predictions_high_recall = y_test_proba[:,1] > threshold"
   ]
  },
  {
   "cell_type": "code",
   "execution_count": 29,
   "metadata": {
    "scrolled": true
   },
   "outputs": [
    {
     "name": "stdout",
     "output_type": "stream",
     "text": [
      "Precision:  0.7450980392156863\n",
      "Recall:  0.8\n",
      "TN       FP\n",
      "[[56625    26]\n",
      " [   19    76]]\n",
      "FN       TP\n"
     ]
    },
    {
     "data": {
      "image/png": "[encoded data removed]",
      "text/plain": [
       "<Figure size 432x288 with 1 Axes>"
      ]
     },
     "metadata": {
      "needs_background": "light"
     },
     "output_type": "display_data"
    },
    {
     "data": {
      "text/plain": [
       "<Figure size 576x288 with 0 Axes>"
      ]
     },
     "metadata": {},
     "output_type": "display_data"
    }
   ],
   "source": [
    "print(\"Precision: \", precision_score(y_test,y_test_predictions_high_recall))\n",
    "print(\"Recall: \", recall_score(y_test,y_test_predictions_high_recall))\n",
    "print(\"TN       FP\")\n",
    "print(confusion_matrix(y_test,y_test_predictions_high_recall)) \n",
    "print(\"FN       TP\")\n",
    "precisions, recalls, thresholds = precision_recall_curve(y_test,y_test_predictions_high_recall)\n",
    "plot_precision_vs_recall(precisions,recalls) #plot precision recall curve\n",
    "plt.figure(figsize=(8,4))\n",
    "plt.show()"
   ]
  },
  {
   "cell_type": "code",
   "execution_count": 30,
   "metadata": {},
   "outputs": [],
   "source": [
    "y_test_preds_forest = forest_clf.predict(X_test_scaled)"
   ]
  },
  {
   "cell_type": "code",
   "execution_count": 31,
   "metadata": {},
   "outputs": [
    {
     "name": "stdout",
     "output_type": "stream",
     "text": [
      "Precision:  0.9324324324324325\n",
      "Recall:  0.7263157894736842\n",
      "TN       FP\n",
      "[[56646     5]\n",
      " [   26    69]]\n",
      "FN       TP\n"
     ]
    },
    {
     "data": {
      "image/png": "[encoded data removed]",
      "text/plain": [
       "<Figure size 432x288 with 1 Axes>"
      ]
     },
     "metadata": {
      "needs_background": "light"
     },
     "output_type": "display_data"
    },
    {
     "data": {
      "text/plain": [
       "<Figure size 576x288 with 0 Axes>"
      ]
     },
     "metadata": {},
     "output_type": "display_data"
    }
   ],
   "source": [
    "print(\"Precision: \", precision_score(y_test,y_test_preds_forest))\n",
    "print(\"Recall: \", recall_score(y_test,y_test_preds_forest))\n",
    "print(\"TN       FP\")\n",
    "print(confusion_matrix(y_test,y_test_preds_forest)) \n",
    "print(\"FN       TP\")\n",
    "precisions, recalls, thresholds = precision_recall_curve(y_test,y_test_preds_forest)\n",
    "plot_precision_vs_recall(precisions,recalls) #plot precision recall curve\n",
    "plt.figure(figsize=(8,4))\n",
    "plt.show()"
   ]
  },
  {
   "cell_type": "markdown",
   "metadata": {},
   "source": [
    "The recall score is only marginally better than before for the training set and not very good for the test set. The promising metrics from the training seem to be the result of overfitting unfortunately.\n"
   ]
  },
  {
   "cell_type": "markdown",
   "metadata": {},
   "source": [
    "### Undersampling\n",
    "\n",
    "Another option to deal with the skewed data is undersampling. This technique uses the size of the minority class and samples an equal amount of majority class instances. The data is thus not skewed anymore and classifiers may do better. However, this technique also has a tendency to lead to overfitting."
   ]
  },
  {
   "cell_type": "code",
   "execution_count": 32,
   "metadata": {},
   "outputs": [],
   "source": [
    "# make sure to only use X_train so we can evaluate on X_test (which was created before) and avoid data leakage\n",
    "df = X_train\n",
    "df[\"Class\"] = y_train"
   ]
  },
  {
   "cell_type": "code",
   "execution_count": 33,
   "metadata": {},
   "outputs": [
    {
     "data": {
      "text/html": [
       "<div>\n",
       "<style scoped>\n",
       "    .dataframe tbody tr th:only-of-type {\n",
       "        vertical-align: middle;\n",
       "    }\n",
       "\n",
       "    .dataframe tbody tr th {\n",
       "        vertical-align: top;\n",
       "    }\n",
       "\n",
       "    .dataframe thead th {\n",
       "        text-align: right;\n",
       "    }\n",
       "</style>\n",
       "<table border=\"1\" class=\"dataframe\">\n",
       "  <thead>\n",
       "    <tr style=\"text-align: right;\">\n",
       "      <th></th>\n",
       "      <th>V17</th>\n",
       "      <th>V14</th>\n",
       "      <th>V12</th>\n",
       "      <th>V10</th>\n",
       "      <th>V16</th>\n",
       "      <th>V3</th>\n",
       "      <th>V7</th>\n",
       "      <th>V11</th>\n",
       "      <th>Class</th>\n",
       "    </tr>\n",
       "  </thead>\n",
       "  <tbody>\n",
       "    <tr>\n",
       "      <th>3160</th>\n",
       "      <td>0.397299</td>\n",
       "      <td>0.269613</td>\n",
       "      <td>0.680659</td>\n",
       "      <td>-1.738615</td>\n",
       "      <td>-1.189251</td>\n",
       "      <td>0.829225</td>\n",
       "      <td>1.315697</td>\n",
       "      <td>0.971364</td>\n",
       "      <td>0</td>\n",
       "    </tr>\n",
       "    <tr>\n",
       "      <th>194542</th>\n",
       "      <td>1.291653</td>\n",
       "      <td>-1.891771</td>\n",
       "      <td>-0.726762</td>\n",
       "      <td>0.052069</td>\n",
       "      <td>1.602776</td>\n",
       "      <td>-2.637005</td>\n",
       "      <td>-1.398023</td>\n",
       "      <td>0.434147</td>\n",
       "      <td>0</td>\n",
       "    </tr>\n",
       "    <tr>\n",
       "      <th>272084</th>\n",
       "      <td>0.143411</td>\n",
       "      <td>-1.066011</td>\n",
       "      <td>-0.283090</td>\n",
       "      <td>-0.838521</td>\n",
       "      <td>0.504830</td>\n",
       "      <td>-0.658717</td>\n",
       "      <td>0.980877</td>\n",
       "      <td>-1.217770</td>\n",
       "      <td>0</td>\n",
       "    </tr>\n",
       "    <tr>\n",
       "      <th>233288</th>\n",
       "      <td>-0.438784</td>\n",
       "      <td>-0.804786</td>\n",
       "      <td>-0.893832</td>\n",
       "      <td>1.257360</td>\n",
       "      <td>1.763071</td>\n",
       "      <td>0.221852</td>\n",
       "      <td>0.576684</td>\n",
       "      <td>0.217661</td>\n",
       "      <td>0</td>\n",
       "    </tr>\n",
       "    <tr>\n",
       "      <th>247730</th>\n",
       "      <td>-0.573604</td>\n",
       "      <td>-0.738563</td>\n",
       "      <td>1.513080</td>\n",
       "      <td>0.085423</td>\n",
       "      <td>0.289837</td>\n",
       "      <td>0.787402</td>\n",
       "      <td>-1.308973</td>\n",
       "      <td>0.344514</td>\n",
       "      <td>0</td>\n",
       "    </tr>\n",
       "    <tr>\n",
       "      <th>...</th>\n",
       "      <td>...</td>\n",
       "      <td>...</td>\n",
       "      <td>...</td>\n",
       "      <td>...</td>\n",
       "      <td>...</td>\n",
       "      <td>...</td>\n",
       "      <td>...</td>\n",
       "      <td>...</td>\n",
       "      <td>...</td>\n",
       "    </tr>\n",
       "    <tr>\n",
       "      <th>163188</th>\n",
       "      <td>0.769769</td>\n",
       "      <td>-1.414708</td>\n",
       "      <td>0.531363</td>\n",
       "      <td>1.257493</td>\n",
       "      <td>-0.388035</td>\n",
       "      <td>3.159653</td>\n",
       "      <td>-1.173586</td>\n",
       "      <td>-1.891243</td>\n",
       "      <td>0</td>\n",
       "    </tr>\n",
       "    <tr>\n",
       "      <th>235356</th>\n",
       "      <td>-0.309833</td>\n",
       "      <td>-1.327047</td>\n",
       "      <td>-0.393457</td>\n",
       "      <td>1.027555</td>\n",
       "      <td>0.115883</td>\n",
       "      <td>1.934733</td>\n",
       "      <td>-0.283306</td>\n",
       "      <td>-0.411079</td>\n",
       "      <td>0</td>\n",
       "    </tr>\n",
       "    <tr>\n",
       "      <th>211869</th>\n",
       "      <td>-0.518454</td>\n",
       "      <td>0.130844</td>\n",
       "      <td>0.303349</td>\n",
       "      <td>0.587720</td>\n",
       "      <td>-1.145332</td>\n",
       "      <td>-1.133517</td>\n",
       "      <td>-0.968908</td>\n",
       "      <td>0.049076</td>\n",
       "      <td>0</td>\n",
       "    </tr>\n",
       "    <tr>\n",
       "      <th>241988</th>\n",
       "      <td>-0.324077</td>\n",
       "      <td>0.893821</td>\n",
       "      <td>-0.672186</td>\n",
       "      <td>-0.128962</td>\n",
       "      <td>-0.589789</td>\n",
       "      <td>-0.586051</td>\n",
       "      <td>1.951022</td>\n",
       "      <td>-1.100702</td>\n",
       "      <td>0</td>\n",
       "    </tr>\n",
       "    <tr>\n",
       "      <th>115686</th>\n",
       "      <td>-1.049190</td>\n",
       "      <td>0.373893</td>\n",
       "      <td>0.114834</td>\n",
       "      <td>0.001812</td>\n",
       "      <td>0.705083</td>\n",
       "      <td>-0.873697</td>\n",
       "      <td>-0.599178</td>\n",
       "      <td>-0.103692</td>\n",
       "      <td>0</td>\n",
       "    </tr>\n",
       "  </tbody>\n",
       "</table>\n",
       "<p>226980 rows × 9 columns</p>\n",
       "</div>"
      ],
      "text/plain": [
       "             V17       V14       V12       V10       V16        V3        V7  \\\n",
       "3160    0.397299  0.269613  0.680659 -1.738615 -1.189251  0.829225  1.315697   \n",
       "194542  1.291653 -1.891771 -0.726762  0.052069  1.602776 -2.637005 -1.398023   \n",
       "272084  0.143411 -1.066011 -0.283090 -0.838521  0.504830 -0.658717  0.980877   \n",
       "233288 -0.438784 -0.804786 -0.893832  1.257360  1.763071  0.221852  0.576684   \n",
       "247730 -0.573604 -0.738563  1.513080  0.085423  0.289837  0.787402 -1.308973   \n",
       "...          ...       ...       ...       ...       ...       ...       ...   \n",
       "163188  0.769769 -1.414708  0.531363  1.257493 -0.388035  3.159653 -1.173586   \n",
       "235356 -0.309833 -1.327047 -0.393457  1.027555  0.115883  1.934733 -0.283306   \n",
       "211869 -0.518454  0.130844  0.303349  0.587720 -1.145332 -1.133517 -0.968908   \n",
       "241988 -0.324077  0.893821 -0.672186 -0.128962 -0.589789 -0.586051  1.951022   \n",
       "115686 -1.049190  0.373893  0.114834  0.001812  0.705083 -0.873697 -0.599178   \n",
       "\n",
       "             V11  Class  \n",
       "3160    0.971364      0  \n",
       "194542  0.434147      0  \n",
       "272084 -1.217770      0  \n",
       "233288  0.217661      0  \n",
       "247730  0.344514      0  \n",
       "...          ...    ...  \n",
       "163188 -1.891243      0  \n",
       "235356 -0.411079      0  \n",
       "211869  0.049076      0  \n",
       "241988 -1.100702      0  \n",
       "115686 -0.103692      0  \n",
       "\n",
       "[226980 rows x 9 columns]"
      ]
     },
     "execution_count": 33,
     "metadata": {},
     "output_type": "execute_result"
    }
   ],
   "source": [
    "df"
   ]
  },
  {
   "cell_type": "code",
   "execution_count": 34,
   "metadata": {},
   "outputs": [],
   "source": [
    "frauds_count = len(df[df[\"Class\"] == 1])\n",
    "frauds_idx = np.array(df[df[\"Class\"] == 1].index)\n",
    "normal_idx = np.array(df[df[\"Class\"] == 0].index)"
   ]
  },
  {
   "cell_type": "code",
   "execution_count": 35,
   "metadata": {},
   "outputs": [],
   "source": [
    "# select as many normal instances as there are fraud instances\n",
    "normal_idx_random = np.random.choice(normal_idx,frauds_count, replace = False)"
   ]
  },
  {
   "cell_type": "code",
   "execution_count": 36,
   "metadata": {},
   "outputs": [],
   "source": [
    "under_sample_idx = np.concatenate([frauds_idx,normal_idx_random])\n",
    "data_undersample = df.loc[under_sample_idx,:]\n",
    "X_undersample = data_undersample.drop(\"Class\", axis = 1)\n",
    "y_undersample = data_undersample[\"Class\"]"
   ]
  },
  {
   "cell_type": "markdown",
   "metadata": {},
   "source": [
    "We now should have an equal amount of instances per class :"
   ]
  },
  {
   "cell_type": "code",
   "execution_count": 37,
   "metadata": {},
   "outputs": [
    {
     "data": {
      "text/plain": [
       "1    378\n",
       "0    378\n",
       "Name: Class, dtype: int64"
      ]
     },
     "execution_count": 37,
     "metadata": {},
     "output_type": "execute_result"
    }
   ],
   "source": [
    "y_undersample.value_counts()"
   ]
  },
  {
   "cell_type": "code",
   "execution_count": 38,
   "metadata": {},
   "outputs": [],
   "source": [
    "#splitting the undersampled data\n",
    "strat_split = StratifiedShuffleSplit(test_size = 0.2, random_state = 13)\n",
    "for train_index, test_index in strat_split.split(X_undersample,y_undersample):\n",
    "    X_train_u, X_test_u = X_undersample.iloc[train_index], X_undersample.iloc[test_index]\n",
    "    y_train_u, y_test_u = y_undersample.iloc[train_index], y_undersample.iloc[test_index]"
   ]
  },
  {
   "cell_type": "code",
   "execution_count": 39,
   "metadata": {},
   "outputs": [],
   "source": [
    "# Scaling the data\n",
    "from sklearn.preprocessing import StandardScaler\n",
    "\n",
    "scaler = StandardScaler()\n",
    "X_train_scaled_u = scaler.fit_transform(X_train_u)\n",
    "X_test_scaled_u = scaler.transform(X_test_u)"
   ]
  },
  {
   "cell_type": "code",
   "execution_count": 40,
   "metadata": {},
   "outputs": [],
   "source": [
    "forest_clf.fit(X_train_scaled_u,y_train_u)\n",
    "y_pred_forest = cross_val_predict(forest_clf,X_train_scaled_u,y_train_u)"
   ]
  },
  {
   "cell_type": "markdown",
   "metadata": {},
   "source": [
    "Lets see how well the classifier does on the undersampled data"
   ]
  },
  {
   "cell_type": "code",
   "execution_count": 41,
   "metadata": {
    "scrolled": true
   },
   "outputs": [
    {
     "name": "stdout",
     "output_type": "stream",
     "text": [
      "Accuracy:  0.9288079470198676\n",
      "Precision:  0.9575971731448764\n",
      "Recall:  0.8973509933774835\n",
      "TN       FP\n",
      "[[290  12]\n",
      " [ 31 271]]\n",
      "FN       TP\n"
     ]
    },
    {
     "data": {
      "image/png": "[encoded data removed]",
      "text/plain": [
       "<Figure size 432x288 with 1 Axes>"
      ]
     },
     "metadata": {
      "needs_background": "light"
     },
     "output_type": "display_data"
    },
    {
     "data": {
      "text/plain": [
       "<Figure size 576x288 with 0 Axes>"
      ]
     },
     "metadata": {},
     "output_type": "display_data"
    }
   ],
   "source": [
    "print(\"Accuracy: \", accuracy_score(y_train_u, y_pred_forest))\n",
    "print(\"Precision: \", precision_score(y_train_u,y_pred_forest))\n",
    "print(\"Recall: \", recall_score(y_train_u,y_pred_forest))\n",
    "print(\"TN       FP\")\n",
    "print(confusion_matrix(y_train_u,y_pred_forest)) \n",
    "print(\"FN       TP\")\n",
    "precisions, recalls, thresholds = precision_recall_curve(y_train_u,y_pred_forest)\n",
    "plot_precision_vs_recall(precisions,recalls) #plot precision recall curve\n",
    "plt.figure(figsize=(8,4))\n",
    "plt.show()"
   ]
  },
  {
   "cell_type": "markdown",
   "metadata": {},
   "source": [
    "Not bad, a recall of about .90 and a precision of .957 are certainly very good. So far this method leads to better results than using the full data.\n",
    "\n",
    "Lets see if we can use the manual thresholding again to get even better performance:"
   ]
  },
  {
   "cell_type": "code",
   "execution_count": 42,
   "metadata": {},
   "outputs": [],
   "source": [
    "y_proba_forest = forest_clf.predict_proba(X_train_scaled_u)"
   ]
  },
  {
   "cell_type": "code",
   "execution_count": 43,
   "metadata": {},
   "outputs": [
    {
     "name": "stdout",
     "output_type": "stream",
     "text": [
      "Recall metric in the training dataset:  1.0\n",
      "Recall metric in the training dataset:  1.0\n",
      "Recall metric in the training dataset:  1.0\n",
      "Recall metric in the training dataset:  1.0\n",
      "Recall metric in the training dataset:  0.9966887417218543\n",
      "Recall metric in the training dataset:  0.9701986754966887\n",
      "Recall metric in the training dataset:  0.9304635761589404\n",
      "Recall metric in the training dataset:  0.9006622516556292\n",
      "Recall metric in the training dataset:  0.8576158940397351\n"
     ]
    },
    {
     "data": {
      "image/png": "[encoded data removed]",
      "text/plain": [
       "<Figure size 864x864 with 18 Axes>"
      ]
     },
     "metadata": {
      "needs_background": "light"
     },
     "output_type": "display_data"
    }
   ],
   "source": [
    "\n",
    "thresholds = [0.1,0.2,0.3,0.4,0.5,0.6,0.7,0.8,0.9]\n",
    "\n",
    "plt.figure(figsize=(12,12))\n",
    "j = 1\n",
    "for i in thresholds:\n",
    "    y_train_predictions_high_recall = y_proba_forest[:,1] > i\n",
    "\n",
    "    plt.subplot(3,3,j)\n",
    "    j += 1\n",
    "\n",
    "    # Compute confusion matrix\n",
    "    cnf_matrix = confusion_matrix(y_train_u,y_train_predictions_high_recall)\n",
    "    np.set_printoptions(precision=2)\n",
    "\n",
    "    print(\"Recall metric in the training dataset: \", cnf_matrix[1,1]/(cnf_matrix[1,0]+cnf_matrix[1,1]))\n",
    "    \n",
    "    # Plot non-normalized confusion matrix\n",
    "    class_names = [0,1]\n",
    "    plot_confusion_matrix(cnf_matrix\n",
    "                          , classes=class_names\n",
    "                          , title='Threshold >= %s'%i) "
   ]
  },
  {
   "cell_type": "markdown",
   "metadata": {},
   "source": [
    "This looks promising, however choosing the best threshold while avoiding overfitting is very hard again.\n",
    "\n",
    "Time to look at the undersampled test data."
   ]
  },
  {
   "cell_type": "code",
   "execution_count": 44,
   "metadata": {},
   "outputs": [],
   "source": [
    "y_test_proba = forest_clf.predict_proba(X_test_scaled_u)\n",
    "threshold = 0.2 #hard to say which one to pick\n",
    "y_test_predictions_high_recall = y_test_proba[:,1] > threshold"
   ]
  },
  {
   "cell_type": "code",
   "execution_count": 45,
   "metadata": {},
   "outputs": [
    {
     "name": "stdout",
     "output_type": "stream",
     "text": [
      "Precision:  0.8888888888888888\n",
      "Recall:  0.9473684210526315\n",
      "TN       FP\n",
      "[[67  9]\n",
      " [ 4 72]]\n",
      "FN       TP\n"
     ]
    },
    {
     "data": {
      "image/png": "[encoded data removed]",
      "text/plain": [
       "<Figure size 432x288 with 1 Axes>"
      ]
     },
     "metadata": {
      "needs_background": "light"
     },
     "output_type": "display_data"
    },
    {
     "data": {
      "text/plain": [
       "<Figure size 576x288 with 0 Axes>"
      ]
     },
     "metadata": {},
     "output_type": "display_data"
    }
   ],
   "source": [
    "print(\"Precision: \", precision_score(y_test_u,y_test_predictions_high_recall))\n",
    "print(\"Recall: \", recall_score(y_test_u,y_test_predictions_high_recall))\n",
    "print(\"TN       FP\")\n",
    "print(confusion_matrix(y_test_u,y_test_predictions_high_recall)) \n",
    "print(\"FN       TP\")\n",
    "precisions, recalls, thresholds = precision_recall_curve(y_test_u,y_test_predictions_high_recall)\n",
    "plot_precision_vs_recall(precisions,recalls) #plot precision recall curve\n",
    "plt.figure(figsize=(8,4))\n",
    "plt.show()"
   ]
  },
  {
   "cell_type": "markdown",
   "metadata": {},
   "source": [
    "This again looks promising. However guessing at what the best threshold is, does not seem like a very good strategy. As the normal predictions also did a very good job I will use them to evaluate our undersampling model on the real test set. Remember this was split of before any undersampling to avoid data leakage, it does not contain an equal amount of instances per target class."
   ]
  },
  {
   "cell_type": "code",
   "execution_count": 46,
   "metadata": {},
   "outputs": [],
   "source": [
    "#testing the clf on the full test dataset\n",
    "y_test_pred_forest = forest_clf.predict(X_test)"
   ]
  },
  {
   "cell_type": "code",
   "execution_count": 47,
   "metadata": {},
   "outputs": [
    {
     "name": "stdout",
     "output_type": "stream",
     "text": [
      "Accuracy:  0.05857681598702992\n",
      "Precision:  0.0017565168644305335\n",
      "Recall:  0.9894736842105263\n",
      "TN       FP\n",
      "[[ 3230 53421]\n",
      " [    1    94]]\n",
      "FN       TP\n"
     ]
    },
    {
     "data": {
      "image/png": "[encoded data removed]",
      "text/plain": [
       "<Figure size 432x288 with 1 Axes>"
      ]
     },
     "metadata": {
      "needs_background": "light"
     },
     "output_type": "display_data"
    },
    {
     "data": {
      "text/plain": [
       "<Figure size 576x288 with 0 Axes>"
      ]
     },
     "metadata": {},
     "output_type": "display_data"
    }
   ],
   "source": [
    "print(\"Accuracy: \", accuracy_score(y_test, y_test_pred_forest))\n",
    "print(\"Precision: \", precision_score(y_test,y_test_pred_forest))\n",
    "print(\"Recall: \", recall_score(y_test,y_test_pred_forest))\n",
    "print(\"TN       FP\")\n",
    "print(confusion_matrix(y_test,y_test_pred_forest)) \n",
    "print(\"FN       TP\")\n",
    "precisions, recalls, thresholds = precision_recall_curve(y_test,y_test_pred_forest)\n",
    "plot_precision_vs_recall(precisions,recalls) #plot precision recall curve\n",
    "plt.figure(figsize=(8,4))\n",
    "plt.show()"
   ]
  },
  {
   "cell_type": "markdown",
   "metadata": {},
   "source": [
    "The undersampling led to massiv overfitting.\n",
    "\n",
    "The Recall is as high as it can be, yet the precision is basically non existent. Our classifier just flagged most cases as fraud which is obviously not a viable strategy in any real-life context.\n",
    "\n",
    "The Random Forest created earlier will thus stay the choice for an algorithm with decent Recall and high precision.\n",
    "\n",
    "### Conclusion\n",
    "\n",
    "Depending on the business context and factors such as \"cost per false positive\" a model with less FN and more FP could be preferred. In this case the Isolation Forest from the model exploration may be a viable choice, as it did have about half the FN of the Random Forest but many more false positives.\n",
    "\n",
    "Going from my personal understanding, that although undected fraud is certainly the bigger problem a lot of \"false alarms\" are also frustrating for customers and thus bad for business I am choosing the Random Forest Classifier trained on the skewed data as my final model."
   ]
  }
 ],
 "metadata": {
  "kernelspec": {
   "display_name": "Python 3",
   "language": "python",
   "name": "python3"
  },
  "language_info": {
   "codemirror_mode": {
    "name": "ipython",
    "version": 3
   },
   "file_extension": ".py",
   "mimetype": "text/x-python",
   "name": "python",
   "nbconvert_exporter": "python",
   "pygments_lexer": "ipython3",
   "version": "3.7.7"
  }
 },
 "nbformat": 4,
 "nbformat_minor": 4
}
