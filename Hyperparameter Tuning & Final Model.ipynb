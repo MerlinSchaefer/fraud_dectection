{
 "cells": [
  {
   "cell_type": "markdown",
   "metadata": {},
   "source": [
    "# Credit Card Fraud Detection\n",
    "\n",
    "## Hyperparameter Tuning\n",
    "\n",
    "In the Model Selection Stage multiple classification algorithms were tested. I employed more \"classic\" models as well as those that are often used for anomaly detection, which this problem could be framed as.\n",
    "\n",
    "After some exploration the Random Forest and MLP showed good recall, which is the important metric here, as I am trying to minimize False Negatives. This did not came at the expense of precision. Some algorithms had fewer False Negatives but a large number of False Positives. I did not choose them, as tuning toward even better recall, thus less False Negatives would have driven up the number of Flase Positives considerably."
   ]
  },
  {
   "cell_type": "code",
   "execution_count": 1,
   "metadata": {},
   "outputs": [],
   "source": [
    "# import the needed libraries\n",
    "import pandas as pd\n",
    "import numpy as np\n",
    "import matplotlib.pyplot as plt\n",
    "#sklearn will be imported partially when necessary\n",
    "\n",
    "#read in the data and make a copy of it in case anything goes wrong\n",
    "path = \"C:/Users/ms101/OneDrive/datasets\"\n",
    "credit_data = pd.read_csv(path + \"/creditcard.csv\")\n",
    "\n",
    "data = credit_data.copy()\n",
    "\n",
    "data.drop_duplicates(inplace = True)\n",
    "data.reset_index(inplace = True, drop = True)\n",
    "assert data.shape == (283726,31)#check if duplicates are removed correctly\n",
    "data_red = data[[\"V17\",\"V14\",\"V12\",\"V10\",\"V16\",\"V3\",\"V7\",\"V11\",\"Class\"]].copy()"
   ]
  },
  {
   "cell_type": "code",
   "execution_count": 2,
   "metadata": {},
   "outputs": [],
   "source": [
    "data_red.to_csv(path + \"/creditcard_reduced.csv\")"
   ]
  },
  {
   "cell_type": "code",
   "execution_count": 3,
   "metadata": {},
   "outputs": [],
   "source": [
    "X = data_red.drop(\"Class\", axis = 1)\n",
    "y = data_red[\"Class\"]\n",
    "assert X.shape == (283726,8)\n",
    "assert y.shape == (283726,)"
   ]
  },
  {
   "cell_type": "code",
   "execution_count": 4,
   "metadata": {},
   "outputs": [],
   "source": [
    "from sklearn.model_selection import StratifiedShuffleSplit\n",
    "\n",
    "strat_split = StratifiedShuffleSplit(test_size = 0.2, random_state = 13)\n",
    "for train_index, test_index in strat_split.split(X,y):\n",
    "    X_train, X_test = X.loc[train_index], X.loc[test_index]\n",
    "    y_train, y_test = y.loc[train_index], y.loc[test_index]"
   ]
  },
  {
   "cell_type": "code",
   "execution_count": 5,
   "metadata": {},
   "outputs": [],
   "source": [
    "# import the metrics\n",
    "from sklearn.metrics import confusion_matrix, precision_score, recall_score, precision_recall_curve\n"
   ]
  },
  {
   "cell_type": "code",
   "execution_count": 6,
   "metadata": {},
   "outputs": [],
   "source": [
    "# Scaling the data\n",
    "from sklearn.preprocessing import StandardScaler\n",
    "\n",
    "scaler = StandardScaler()\n",
    "X_train_scaled = scaler.fit_transform(X_train)\n",
    "X_test_scaled = scaler.transform(X_test)"
   ]
  },
  {
   "cell_type": "code",
   "execution_count": 11,
   "metadata": {},
   "outputs": [],
   "source": [
    "from sklearn.model_selection import GridSearchCV, RandomizedSearchCV"
   ]
  },
  {
   "cell_type": "markdown",
   "metadata": {},
   "source": [
    "### Tuning the Random Forest Classifier\n",
    "\n",
    "I will start with the Random Forest classifier."
   ]
  },
  {
   "cell_type": "code",
   "execution_count": 12,
   "metadata": {},
   "outputs": [],
   "source": [
    "from sklearn.ensemble import RandomForestClassifier\n",
    "\n",
    "forest_clf = RandomForestClassifier(random_state = 13, n_jobs = -1)"
   ]
  },
  {
   "cell_type": "code",
   "execution_count": 9,
   "metadata": {},
   "outputs": [],
   "source": [
    "#param_grid = {\"n_estimators\": [100,250,500], \n",
    "   #            \"max_features\": [4,\"auto\",None], \n",
    "   #            \"max_depth\": [4,None],\n",
    "    #            \"bootstrap\": [True,False]}\n",
    "\n",
    "#grid_search = GridSearchCV(forest_clf,param_grid,cv = 5,\n",
    " #                         scoring = \"recall\")"
   ]
  },
  {
   "cell_type": "code",
   "execution_count": 15,
   "metadata": {},
   "outputs": [
    {
     "name": "stdout",
     "output_type": "stream",
     "text": [
      "{'n_estimators': [100, 144, 188, 233, 277, 322, 366, 411, 455, 500], 'max_features': ['auto', None], 'max_depth': [10, 19, 28, 37, 46, 55, 64, 73, 82, 91, 100, None], 'min_samples_split': [2, 5, 10], 'min_samples_leaf': [1, 2, 4], 'bootstrap': [True, False]}\n"
     ]
    }
   ],
   "source": [
    "#trees in random forest\n",
    "n_estimators = [int(x) for x in np.linspace(start = 100, stop = 500, num = 10)]\n",
    "# Number of features to consider at every split\n",
    "max_features = ['auto', None]\n",
    "# Maximum number of levels in tree\n",
    "max_depth = [int(x) for x in np.linspace(10, 100, num = 11)]\n",
    "max_depth.append(None)\n",
    "# Minimum number of samples required to split a node\n",
    "min_samples_split = [2, 5, 10]\n",
    "# Minimum number of samples required at each leaf node\n",
    "min_samples_leaf = [1, 2, 4]\n",
    "# Method of selecting samples for training each tree\n",
    "bootstrap = [True, False]\n",
    "\n",
    "random_grid = {'n_estimators': n_estimators,\n",
    "               'max_features': max_features,\n",
    "               'max_depth': max_depth,\n",
    "               'min_samples_split': min_samples_split,\n",
    "               'min_samples_leaf': min_samples_leaf,\n",
    "               'bootstrap': bootstrap}\n",
    "print(random_grid)"
   ]
  },
  {
   "cell_type": "code",
   "execution_count": 22,
   "metadata": {},
   "outputs": [],
   "source": [
    "forest_random_search = RandomizedSearchCV(forest_clf, random_grid, scoring = \"recall\",\n",
    "                                          n_iter = 50, cv = 3, verbose = 2)"
   ]
  },
  {
   "cell_type": "code",
   "execution_count": 23,
   "metadata": {
    "scrolled": true
   },
   "outputs": [
    {
     "name": "stdout",
     "output_type": "stream",
     "text": [
      "Fitting 3 folds for each of 50 candidates, totalling 150 fits\n",
      "[CV] n_estimators=100, min_samples_split=2, min_samples_leaf=4, max_features=None, max_depth=46, bootstrap=True \n"
     ]
    },
    {
     "name": "stderr",
     "output_type": "stream",
     "text": [
      "[Parallel(n_jobs=1)]: Using backend SequentialBackend with 1 concurrent workers.\n"
     ]
    },
    {
     "name": "stdout",
     "output_type": "stream",
     "text": [
      "[CV]  n_estimators=100, min_samples_split=2, min_samples_leaf=4, max_features=None, max_depth=46, bootstrap=True, total=  23.5s\n",
      "[CV] n_estimators=100, min_samples_split=2, min_samples_leaf=4, max_features=None, max_depth=46, bootstrap=True \n"
     ]
    },
    {
     "name": "stderr",
     "output_type": "stream",
     "text": [
      "[Parallel(n_jobs=1)]: Done   1 out of   1 | elapsed:   23.4s remaining:    0.0s\n"
     ]
    },
    {
     "name": "stdout",
     "output_type": "stream",
     "text": [
      "[CV]  n_estimators=100, min_samples_split=2, min_samples_leaf=4, max_features=None, max_depth=46, bootstrap=True, total=  21.7s\n",
      "[CV] n_estimators=100, min_samples_split=2, min_samples_leaf=4, max_features=None, max_depth=46, bootstrap=True \n",
      "[CV]  n_estimators=100, min_samples_split=2, min_samples_leaf=4, max_features=None, max_depth=46, bootstrap=True, total=  23.5s\n",
      "[CV] n_estimators=455, min_samples_split=10, min_samples_leaf=4, max_features=None, max_depth=91, bootstrap=False \n",
      "[CV]  n_estimators=455, min_samples_split=10, min_samples_leaf=4, max_features=None, max_depth=91, bootstrap=False, total= 2.3min\n",
      "[CV] n_estimators=455, min_samples_split=10, min_samples_leaf=4, max_features=None, max_depth=91, bootstrap=False \n",
      "[CV]  n_estimators=455, min_samples_split=10, min_samples_leaf=4, max_features=None, max_depth=91, bootstrap=False, total= 2.1min\n",
      "[CV] n_estimators=455, min_samples_split=10, min_samples_leaf=4, max_features=None, max_depth=91, bootstrap=False \n",
      "[CV]  n_estimators=455, min_samples_split=10, min_samples_leaf=4, max_features=None, max_depth=91, bootstrap=False, total= 2.6min\n",
      "[CV] n_estimators=144, min_samples_split=10, min_samples_leaf=4, max_features=None, max_depth=100, bootstrap=True \n",
      "[CV]  n_estimators=144, min_samples_split=10, min_samples_leaf=4, max_features=None, max_depth=100, bootstrap=True, total=  28.9s\n",
      "[CV] n_estimators=144, min_samples_split=10, min_samples_leaf=4, max_features=None, max_depth=100, bootstrap=True \n",
      "[CV]  n_estimators=144, min_samples_split=10, min_samples_leaf=4, max_features=None, max_depth=100, bootstrap=True, total=  26.7s\n",
      "[CV] n_estimators=144, min_samples_split=10, min_samples_leaf=4, max_features=None, max_depth=100, bootstrap=True \n",
      "[CV]  n_estimators=144, min_samples_split=10, min_samples_leaf=4, max_features=None, max_depth=100, bootstrap=True, total=  32.2s\n",
      "[CV] n_estimators=455, min_samples_split=5, min_samples_leaf=1, max_features=None, max_depth=91, bootstrap=False \n",
      "[CV]  n_estimators=455, min_samples_split=5, min_samples_leaf=1, max_features=None, max_depth=91, bootstrap=False, total= 2.3min\n",
      "[CV] n_estimators=455, min_samples_split=5, min_samples_leaf=1, max_features=None, max_depth=91, bootstrap=False \n",
      "[CV]  n_estimators=455, min_samples_split=5, min_samples_leaf=1, max_features=None, max_depth=91, bootstrap=False, total= 2.0min\n",
      "[CV] n_estimators=455, min_samples_split=5, min_samples_leaf=1, max_features=None, max_depth=91, bootstrap=False \n",
      "[CV]  n_estimators=455, min_samples_split=5, min_samples_leaf=1, max_features=None, max_depth=91, bootstrap=False, total= 2.7min\n",
      "[CV] n_estimators=233, min_samples_split=10, min_samples_leaf=1, max_features=auto, max_depth=82, bootstrap=False \n",
      "[CV]  n_estimators=233, min_samples_split=10, min_samples_leaf=1, max_features=auto, max_depth=82, bootstrap=False, total=  22.2s\n",
      "[CV] n_estimators=233, min_samples_split=10, min_samples_leaf=1, max_features=auto, max_depth=82, bootstrap=False \n",
      "[CV]  n_estimators=233, min_samples_split=10, min_samples_leaf=1, max_features=auto, max_depth=82, bootstrap=False, total=  21.6s\n",
      "[CV] n_estimators=233, min_samples_split=10, min_samples_leaf=1, max_features=auto, max_depth=82, bootstrap=False \n",
      "[CV]  n_estimators=233, min_samples_split=10, min_samples_leaf=1, max_features=auto, max_depth=82, bootstrap=False, total=  23.3s\n",
      "[CV] n_estimators=500, min_samples_split=10, min_samples_leaf=4, max_features=None, max_depth=55, bootstrap=False \n",
      "[CV]  n_estimators=500, min_samples_split=10, min_samples_leaf=4, max_features=None, max_depth=55, bootstrap=False, total= 2.5min\n",
      "[CV] n_estimators=500, min_samples_split=10, min_samples_leaf=4, max_features=None, max_depth=55, bootstrap=False \n",
      "[CV]  n_estimators=500, min_samples_split=10, min_samples_leaf=4, max_features=None, max_depth=55, bootstrap=False, total= 2.2min\n",
      "[CV] n_estimators=500, min_samples_split=10, min_samples_leaf=4, max_features=None, max_depth=55, bootstrap=False \n",
      "[CV]  n_estimators=500, min_samples_split=10, min_samples_leaf=4, max_features=None, max_depth=55, bootstrap=False, total= 2.9min\n",
      "[CV] n_estimators=455, min_samples_split=2, min_samples_leaf=1, max_features=auto, max_depth=19, bootstrap=False \n",
      "[CV]  n_estimators=455, min_samples_split=2, min_samples_leaf=1, max_features=auto, max_depth=19, bootstrap=False, total=  42.7s\n",
      "[CV] n_estimators=455, min_samples_split=2, min_samples_leaf=1, max_features=auto, max_depth=19, bootstrap=False \n",
      "[CV]  n_estimators=455, min_samples_split=2, min_samples_leaf=1, max_features=auto, max_depth=19, bootstrap=False, total=  41.0s\n",
      "[CV] n_estimators=455, min_samples_split=2, min_samples_leaf=1, max_features=auto, max_depth=19, bootstrap=False \n",
      "[CV]  n_estimators=455, min_samples_split=2, min_samples_leaf=1, max_features=auto, max_depth=19, bootstrap=False, total=  44.0s\n",
      "[CV] n_estimators=366, min_samples_split=2, min_samples_leaf=2, max_features=auto, max_depth=19, bootstrap=True \n",
      "[CV]  n_estimators=366, min_samples_split=2, min_samples_leaf=2, max_features=auto, max_depth=19, bootstrap=True, total=  22.7s\n",
      "[CV] n_estimators=366, min_samples_split=2, min_samples_leaf=2, max_features=auto, max_depth=19, bootstrap=True \n",
      "[CV]  n_estimators=366, min_samples_split=2, min_samples_leaf=2, max_features=auto, max_depth=19, bootstrap=True, total=  22.1s\n",
      "[CV] n_estimators=366, min_samples_split=2, min_samples_leaf=2, max_features=auto, max_depth=19, bootstrap=True \n",
      "[CV]  n_estimators=366, min_samples_split=2, min_samples_leaf=2, max_features=auto, max_depth=19, bootstrap=True, total=  23.7s\n",
      "[CV] n_estimators=144, min_samples_split=10, min_samples_leaf=2, max_features=auto, max_depth=91, bootstrap=True \n",
      "[CV]  n_estimators=144, min_samples_split=10, min_samples_leaf=2, max_features=auto, max_depth=91, bootstrap=True, total=   9.4s\n",
      "[CV] n_estimators=144, min_samples_split=10, min_samples_leaf=2, max_features=auto, max_depth=91, bootstrap=True \n",
      "[CV]  n_estimators=144, min_samples_split=10, min_samples_leaf=2, max_features=auto, max_depth=91, bootstrap=True, total=   8.8s\n",
      "[CV] n_estimators=144, min_samples_split=10, min_samples_leaf=2, max_features=auto, max_depth=91, bootstrap=True \n",
      "[CV]  n_estimators=144, min_samples_split=10, min_samples_leaf=2, max_features=auto, max_depth=91, bootstrap=True, total=   9.7s\n",
      "[CV] n_estimators=411, min_samples_split=2, min_samples_leaf=1, max_features=auto, max_depth=37, bootstrap=False \n",
      "[CV]  n_estimators=411, min_samples_split=2, min_samples_leaf=1, max_features=auto, max_depth=37, bootstrap=False, total=  39.6s\n",
      "[CV] n_estimators=411, min_samples_split=2, min_samples_leaf=1, max_features=auto, max_depth=37, bootstrap=False \n",
      "[CV]  n_estimators=411, min_samples_split=2, min_samples_leaf=1, max_features=auto, max_depth=37, bootstrap=False, total=  37.8s\n",
      "[CV] n_estimators=411, min_samples_split=2, min_samples_leaf=1, max_features=auto, max_depth=37, bootstrap=False \n",
      "[CV]  n_estimators=411, min_samples_split=2, min_samples_leaf=1, max_features=auto, max_depth=37, bootstrap=False, total=  40.8s\n",
      "[CV] n_estimators=455, min_samples_split=2, min_samples_leaf=1, max_features=None, max_depth=10, bootstrap=True \n",
      "[CV]  n_estimators=455, min_samples_split=2, min_samples_leaf=1, max_features=None, max_depth=10, bootstrap=True, total= 1.2min\n",
      "[CV] n_estimators=455, min_samples_split=2, min_samples_leaf=1, max_features=None, max_depth=10, bootstrap=True \n",
      "[CV]  n_estimators=455, min_samples_split=2, min_samples_leaf=1, max_features=None, max_depth=10, bootstrap=True, total= 1.2min\n",
      "[CV] n_estimators=455, min_samples_split=2, min_samples_leaf=1, max_features=None, max_depth=10, bootstrap=True \n",
      "[CV]  n_estimators=455, min_samples_split=2, min_samples_leaf=1, max_features=None, max_depth=10, bootstrap=True, total= 1.2min\n",
      "[CV] n_estimators=100, min_samples_split=2, min_samples_leaf=1, max_features=None, max_depth=91, bootstrap=False \n",
      "[CV]  n_estimators=100, min_samples_split=2, min_samples_leaf=1, max_features=None, max_depth=91, bootstrap=False, total=  31.8s\n",
      "[CV] n_estimators=100, min_samples_split=2, min_samples_leaf=1, max_features=None, max_depth=91, bootstrap=False \n",
      "[CV]  n_estimators=100, min_samples_split=2, min_samples_leaf=1, max_features=None, max_depth=91, bootstrap=False, total=  27.3s\n",
      "[CV] n_estimators=100, min_samples_split=2, min_samples_leaf=1, max_features=None, max_depth=91, bootstrap=False \n"
     ]
    },
    {
     "name": "stdout",
     "output_type": "stream",
     "text": [
      "[CV]  n_estimators=100, min_samples_split=2, min_samples_leaf=1, max_features=None, max_depth=91, bootstrap=False, total=  35.9s\n",
      "[CV] n_estimators=366, min_samples_split=2, min_samples_leaf=1, max_features=None, max_depth=91, bootstrap=True \n",
      "[CV]  n_estimators=366, min_samples_split=2, min_samples_leaf=1, max_features=None, max_depth=91, bootstrap=True, total= 1.2min\n",
      "[CV] n_estimators=366, min_samples_split=2, min_samples_leaf=1, max_features=None, max_depth=91, bootstrap=True \n",
      "[CV]  n_estimators=366, min_samples_split=2, min_samples_leaf=1, max_features=None, max_depth=91, bootstrap=True, total= 1.1min\n",
      "[CV] n_estimators=366, min_samples_split=2, min_samples_leaf=1, max_features=None, max_depth=91, bootstrap=True \n",
      "[CV]  n_estimators=366, min_samples_split=2, min_samples_leaf=1, max_features=None, max_depth=91, bootstrap=True, total= 1.3min\n",
      "[CV] n_estimators=233, min_samples_split=2, min_samples_leaf=4, max_features=auto, max_depth=28, bootstrap=True \n",
      "[CV]  n_estimators=233, min_samples_split=2, min_samples_leaf=4, max_features=auto, max_depth=28, bootstrap=True, total=  15.1s\n",
      "[CV] n_estimators=233, min_samples_split=2, min_samples_leaf=4, max_features=auto, max_depth=28, bootstrap=True \n",
      "[CV]  n_estimators=233, min_samples_split=2, min_samples_leaf=4, max_features=auto, max_depth=28, bootstrap=True, total=  14.1s\n",
      "[CV] n_estimators=233, min_samples_split=2, min_samples_leaf=4, max_features=auto, max_depth=28, bootstrap=True \n",
      "[CV]  n_estimators=233, min_samples_split=2, min_samples_leaf=4, max_features=auto, max_depth=28, bootstrap=True, total=  15.3s\n",
      "[CV] n_estimators=455, min_samples_split=2, min_samples_leaf=2, max_features=auto, max_depth=91, bootstrap=False \n",
      "[CV]  n_estimators=455, min_samples_split=2, min_samples_leaf=2, max_features=auto, max_depth=91, bootstrap=False, total=  42.3s\n",
      "[CV] n_estimators=455, min_samples_split=2, min_samples_leaf=2, max_features=auto, max_depth=91, bootstrap=False \n",
      "[CV]  n_estimators=455, min_samples_split=2, min_samples_leaf=2, max_features=auto, max_depth=91, bootstrap=False, total=  41.4s\n",
      "[CV] n_estimators=455, min_samples_split=2, min_samples_leaf=2, max_features=auto, max_depth=91, bootstrap=False \n",
      "[CV]  n_estimators=455, min_samples_split=2, min_samples_leaf=2, max_features=auto, max_depth=91, bootstrap=False, total=  44.9s\n",
      "[CV] n_estimators=144, min_samples_split=10, min_samples_leaf=2, max_features=None, max_depth=None, bootstrap=True \n",
      "[CV]  n_estimators=144, min_samples_split=10, min_samples_leaf=2, max_features=None, max_depth=None, bootstrap=True, total=  29.2s\n",
      "[CV] n_estimators=144, min_samples_split=10, min_samples_leaf=2, max_features=None, max_depth=None, bootstrap=True \n",
      "[CV]  n_estimators=144, min_samples_split=10, min_samples_leaf=2, max_features=None, max_depth=None, bootstrap=True, total=  26.7s\n",
      "[CV] n_estimators=144, min_samples_split=10, min_samples_leaf=2, max_features=None, max_depth=None, bootstrap=True \n",
      "[CV]  n_estimators=144, min_samples_split=10, min_samples_leaf=2, max_features=None, max_depth=None, bootstrap=True, total=  32.9s\n",
      "[CV] n_estimators=188, min_samples_split=5, min_samples_leaf=4, max_features=auto, max_depth=46, bootstrap=False \n",
      "[CV]  n_estimators=188, min_samples_split=5, min_samples_leaf=4, max_features=auto, max_depth=46, bootstrap=False, total=  18.5s\n",
      "[CV] n_estimators=188, min_samples_split=5, min_samples_leaf=4, max_features=auto, max_depth=46, bootstrap=False \n",
      "[CV]  n_estimators=188, min_samples_split=5, min_samples_leaf=4, max_features=auto, max_depth=46, bootstrap=False, total=  18.4s\n",
      "[CV] n_estimators=188, min_samples_split=5, min_samples_leaf=4, max_features=auto, max_depth=46, bootstrap=False \n",
      "[CV]  n_estimators=188, min_samples_split=5, min_samples_leaf=4, max_features=auto, max_depth=46, bootstrap=False, total=  19.4s\n",
      "[CV] n_estimators=188, min_samples_split=5, min_samples_leaf=2, max_features=None, max_depth=55, bootstrap=False \n",
      "[CV]  n_estimators=188, min_samples_split=5, min_samples_leaf=2, max_features=None, max_depth=55, bootstrap=False, total=  57.6s\n",
      "[CV] n_estimators=188, min_samples_split=5, min_samples_leaf=2, max_features=None, max_depth=55, bootstrap=False \n",
      "[CV]  n_estimators=188, min_samples_split=5, min_samples_leaf=2, max_features=None, max_depth=55, bootstrap=False, total=  49.9s\n",
      "[CV] n_estimators=188, min_samples_split=5, min_samples_leaf=2, max_features=None, max_depth=55, bootstrap=False \n",
      "[CV]  n_estimators=188, min_samples_split=5, min_samples_leaf=2, max_features=None, max_depth=55, bootstrap=False, total= 1.1min\n",
      "[CV] n_estimators=455, min_samples_split=5, min_samples_leaf=4, max_features=None, max_depth=55, bootstrap=False \n",
      "[CV]  n_estimators=455, min_samples_split=5, min_samples_leaf=4, max_features=None, max_depth=55, bootstrap=False, total= 2.3min\n",
      "[CV] n_estimators=455, min_samples_split=5, min_samples_leaf=4, max_features=None, max_depth=55, bootstrap=False \n",
      "[CV]  n_estimators=455, min_samples_split=5, min_samples_leaf=4, max_features=None, max_depth=55, bootstrap=False, total= 2.0min\n",
      "[CV] n_estimators=455, min_samples_split=5, min_samples_leaf=4, max_features=None, max_depth=55, bootstrap=False \n",
      "[CV]  n_estimators=455, min_samples_split=5, min_samples_leaf=4, max_features=None, max_depth=55, bootstrap=False, total= 2.6min\n",
      "[CV] n_estimators=100, min_samples_split=5, min_samples_leaf=2, max_features=None, max_depth=19, bootstrap=True \n",
      "[CV]  n_estimators=100, min_samples_split=5, min_samples_leaf=2, max_features=None, max_depth=19, bootstrap=True, total=  20.8s\n",
      "[CV] n_estimators=100, min_samples_split=5, min_samples_leaf=2, max_features=None, max_depth=19, bootstrap=True \n",
      "[CV]  n_estimators=100, min_samples_split=5, min_samples_leaf=2, max_features=None, max_depth=19, bootstrap=True, total=  18.7s\n",
      "[CV] n_estimators=100, min_samples_split=5, min_samples_leaf=2, max_features=None, max_depth=19, bootstrap=True \n",
      "[CV]  n_estimators=100, min_samples_split=5, min_samples_leaf=2, max_features=None, max_depth=19, bootstrap=True, total=  21.9s\n",
      "[CV] n_estimators=188, min_samples_split=10, min_samples_leaf=2, max_features=auto, max_depth=37, bootstrap=True \n",
      "[CV]  n_estimators=188, min_samples_split=10, min_samples_leaf=2, max_features=auto, max_depth=37, bootstrap=True, total=  11.7s\n",
      "[CV] n_estimators=188, min_samples_split=10, min_samples_leaf=2, max_features=auto, max_depth=37, bootstrap=True \n",
      "[CV]  n_estimators=188, min_samples_split=10, min_samples_leaf=2, max_features=auto, max_depth=37, bootstrap=True, total=  11.3s\n",
      "[CV] n_estimators=188, min_samples_split=10, min_samples_leaf=2, max_features=auto, max_depth=37, bootstrap=True \n",
      "[CV]  n_estimators=188, min_samples_split=10, min_samples_leaf=2, max_features=auto, max_depth=37, bootstrap=True, total=  12.4s\n",
      "[CV] n_estimators=144, min_samples_split=2, min_samples_leaf=2, max_features=None, max_depth=19, bootstrap=True \n",
      "[CV]  n_estimators=144, min_samples_split=2, min_samples_leaf=2, max_features=None, max_depth=19, bootstrap=True, total=  28.9s\n",
      "[CV] n_estimators=144, min_samples_split=2, min_samples_leaf=2, max_features=None, max_depth=19, bootstrap=True \n",
      "[CV]  n_estimators=144, min_samples_split=2, min_samples_leaf=2, max_features=None, max_depth=19, bootstrap=True, total=  26.6s\n",
      "[CV] n_estimators=144, min_samples_split=2, min_samples_leaf=2, max_features=None, max_depth=19, bootstrap=True \n",
      "[CV]  n_estimators=144, min_samples_split=2, min_samples_leaf=2, max_features=None, max_depth=19, bootstrap=True, total=  31.3s\n",
      "[CV] n_estimators=233, min_samples_split=10, min_samples_leaf=4, max_features=auto, max_depth=100, bootstrap=False \n",
      "[CV]  n_estimators=233, min_samples_split=10, min_samples_leaf=4, max_features=auto, max_depth=100, bootstrap=False, total=  22.0s\n",
      "[CV] n_estimators=233, min_samples_split=10, min_samples_leaf=4, max_features=auto, max_depth=100, bootstrap=False \n",
      "[CV]  n_estimators=233, min_samples_split=10, min_samples_leaf=4, max_features=auto, max_depth=100, bootstrap=False, total=  21.0s\n",
      "[CV] n_estimators=233, min_samples_split=10, min_samples_leaf=4, max_features=auto, max_depth=100, bootstrap=False \n",
      "[CV]  n_estimators=233, min_samples_split=10, min_samples_leaf=4, max_features=auto, max_depth=100, bootstrap=False, total=  22.9s\n",
      "[CV] n_estimators=411, min_samples_split=2, min_samples_leaf=4, max_features=None, max_depth=73, bootstrap=True \n"
     ]
    },
    {
     "name": "stdout",
     "output_type": "stream",
     "text": [
      "[CV]  n_estimators=411, min_samples_split=2, min_samples_leaf=4, max_features=None, max_depth=73, bootstrap=True, total= 1.4min\n",
      "[CV] n_estimators=411, min_samples_split=2, min_samples_leaf=4, max_features=None, max_depth=73, bootstrap=True \n",
      "[CV]  n_estimators=411, min_samples_split=2, min_samples_leaf=4, max_features=None, max_depth=73, bootstrap=True, total= 1.2min\n",
      "[CV] n_estimators=411, min_samples_split=2, min_samples_leaf=4, max_features=None, max_depth=73, bootstrap=True \n",
      "[CV]  n_estimators=411, min_samples_split=2, min_samples_leaf=4, max_features=None, max_depth=73, bootstrap=True, total= 1.4min\n",
      "[CV] n_estimators=322, min_samples_split=2, min_samples_leaf=4, max_features=auto, max_depth=91, bootstrap=True \n",
      "[CV]  n_estimators=322, min_samples_split=2, min_samples_leaf=4, max_features=auto, max_depth=91, bootstrap=True, total=  19.8s\n",
      "[CV] n_estimators=322, min_samples_split=2, min_samples_leaf=4, max_features=auto, max_depth=91, bootstrap=True \n",
      "[CV]  n_estimators=322, min_samples_split=2, min_samples_leaf=4, max_features=auto, max_depth=91, bootstrap=True, total=  19.5s\n",
      "[CV] n_estimators=322, min_samples_split=2, min_samples_leaf=4, max_features=auto, max_depth=91, bootstrap=True \n",
      "[CV]  n_estimators=322, min_samples_split=2, min_samples_leaf=4, max_features=auto, max_depth=91, bootstrap=True, total=  21.1s\n",
      "[CV] n_estimators=277, min_samples_split=2, min_samples_leaf=1, max_features=None, max_depth=46, bootstrap=True \n",
      "[CV]  n_estimators=277, min_samples_split=2, min_samples_leaf=1, max_features=None, max_depth=46, bootstrap=True, total=  55.8s\n",
      "[CV] n_estimators=277, min_samples_split=2, min_samples_leaf=1, max_features=None, max_depth=46, bootstrap=True \n",
      "[CV]  n_estimators=277, min_samples_split=2, min_samples_leaf=1, max_features=None, max_depth=46, bootstrap=True, total=  50.9s\n",
      "[CV] n_estimators=277, min_samples_split=2, min_samples_leaf=1, max_features=None, max_depth=46, bootstrap=True \n",
      "[CV]  n_estimators=277, min_samples_split=2, min_samples_leaf=1, max_features=None, max_depth=46, bootstrap=True, total=  59.1s\n",
      "[CV] n_estimators=100, min_samples_split=5, min_samples_leaf=2, max_features=None, max_depth=91, bootstrap=True \n",
      "[CV]  n_estimators=100, min_samples_split=5, min_samples_leaf=2, max_features=None, max_depth=91, bootstrap=True, total=  20.2s\n",
      "[CV] n_estimators=100, min_samples_split=5, min_samples_leaf=2, max_features=None, max_depth=91, bootstrap=True \n",
      "[CV]  n_estimators=100, min_samples_split=5, min_samples_leaf=2, max_features=None, max_depth=91, bootstrap=True, total=  18.7s\n",
      "[CV] n_estimators=100, min_samples_split=5, min_samples_leaf=2, max_features=None, max_depth=91, bootstrap=True \n",
      "[CV]  n_estimators=100, min_samples_split=5, min_samples_leaf=2, max_features=None, max_depth=91, bootstrap=True, total=  21.9s\n",
      "[CV] n_estimators=277, min_samples_split=2, min_samples_leaf=2, max_features=None, max_depth=73, bootstrap=False \n",
      "[CV]  n_estimators=277, min_samples_split=2, min_samples_leaf=2, max_features=None, max_depth=73, bootstrap=False, total= 1.4min\n",
      "[CV] n_estimators=277, min_samples_split=2, min_samples_leaf=2, max_features=None, max_depth=73, bootstrap=False \n",
      "[CV]  n_estimators=277, min_samples_split=2, min_samples_leaf=2, max_features=None, max_depth=73, bootstrap=False, total= 1.2min\n",
      "[CV] n_estimators=277, min_samples_split=2, min_samples_leaf=2, max_features=None, max_depth=73, bootstrap=False \n",
      "[CV]  n_estimators=277, min_samples_split=2, min_samples_leaf=2, max_features=None, max_depth=73, bootstrap=False, total= 1.6min\n",
      "[CV] n_estimators=366, min_samples_split=10, min_samples_leaf=2, max_features=auto, max_depth=10, bootstrap=False \n",
      "[CV]  n_estimators=366, min_samples_split=10, min_samples_leaf=2, max_features=auto, max_depth=10, bootstrap=False, total=  22.6s\n",
      "[CV] n_estimators=366, min_samples_split=10, min_samples_leaf=2, max_features=auto, max_depth=10, bootstrap=False \n",
      "[CV]  n_estimators=366, min_samples_split=10, min_samples_leaf=2, max_features=auto, max_depth=10, bootstrap=False, total=  22.8s\n",
      "[CV] n_estimators=366, min_samples_split=10, min_samples_leaf=2, max_features=auto, max_depth=10, bootstrap=False \n",
      "[CV]  n_estimators=366, min_samples_split=10, min_samples_leaf=2, max_features=auto, max_depth=10, bootstrap=False, total=  22.6s\n",
      "[CV] n_estimators=322, min_samples_split=5, min_samples_leaf=1, max_features=auto, max_depth=100, bootstrap=True \n",
      "[CV]  n_estimators=322, min_samples_split=5, min_samples_leaf=1, max_features=auto, max_depth=100, bootstrap=True, total=  20.1s\n",
      "[CV] n_estimators=322, min_samples_split=5, min_samples_leaf=1, max_features=auto, max_depth=100, bootstrap=True \n",
      "[CV]  n_estimators=322, min_samples_split=5, min_samples_leaf=1, max_features=auto, max_depth=100, bootstrap=True, total=  19.0s\n",
      "[CV] n_estimators=322, min_samples_split=5, min_samples_leaf=1, max_features=auto, max_depth=100, bootstrap=True \n",
      "[CV]  n_estimators=322, min_samples_split=5, min_samples_leaf=1, max_features=auto, max_depth=100, bootstrap=True, total=  21.1s\n",
      "[CV] n_estimators=500, min_samples_split=5, min_samples_leaf=2, max_features=None, max_depth=64, bootstrap=False \n",
      "[CV]  n_estimators=500, min_samples_split=5, min_samples_leaf=2, max_features=None, max_depth=64, bootstrap=False, total= 2.5min\n",
      "[CV] n_estimators=500, min_samples_split=5, min_samples_leaf=2, max_features=None, max_depth=64, bootstrap=False \n",
      "[CV]  n_estimators=500, min_samples_split=5, min_samples_leaf=2, max_features=None, max_depth=64, bootstrap=False, total= 2.2min\n",
      "[CV] n_estimators=500, min_samples_split=5, min_samples_leaf=2, max_features=None, max_depth=64, bootstrap=False \n",
      "[CV]  n_estimators=500, min_samples_split=5, min_samples_leaf=2, max_features=None, max_depth=64, bootstrap=False, total= 2.9min\n",
      "[CV] n_estimators=411, min_samples_split=5, min_samples_leaf=2, max_features=None, max_depth=55, bootstrap=False \n",
      "[CV]  n_estimators=411, min_samples_split=5, min_samples_leaf=2, max_features=None, max_depth=55, bootstrap=False, total= 2.1min\n",
      "[CV] n_estimators=411, min_samples_split=5, min_samples_leaf=2, max_features=None, max_depth=55, bootstrap=False \n",
      "[CV]  n_estimators=411, min_samples_split=5, min_samples_leaf=2, max_features=None, max_depth=55, bootstrap=False, total= 1.8min\n",
      "[CV] n_estimators=411, min_samples_split=5, min_samples_leaf=2, max_features=None, max_depth=55, bootstrap=False \n",
      "[CV]  n_estimators=411, min_samples_split=5, min_samples_leaf=2, max_features=None, max_depth=55, bootstrap=False, total= 2.4min\n",
      "[CV] n_estimators=455, min_samples_split=2, min_samples_leaf=4, max_features=auto, max_depth=46, bootstrap=False \n",
      "[CV]  n_estimators=455, min_samples_split=2, min_samples_leaf=4, max_features=auto, max_depth=46, bootstrap=False, total=  42.3s\n",
      "[CV] n_estimators=455, min_samples_split=2, min_samples_leaf=4, max_features=auto, max_depth=46, bootstrap=False \n",
      "[CV]  n_estimators=455, min_samples_split=2, min_samples_leaf=4, max_features=auto, max_depth=46, bootstrap=False, total=  41.5s\n",
      "[CV] n_estimators=455, min_samples_split=2, min_samples_leaf=4, max_features=auto, max_depth=46, bootstrap=False \n",
      "[CV]  n_estimators=455, min_samples_split=2, min_samples_leaf=4, max_features=auto, max_depth=46, bootstrap=False, total=  44.3s\n",
      "[CV] n_estimators=188, min_samples_split=2, min_samples_leaf=2, max_features=None, max_depth=46, bootstrap=True \n",
      "[CV]  n_estimators=188, min_samples_split=2, min_samples_leaf=2, max_features=None, max_depth=46, bootstrap=True, total=  39.5s\n",
      "[CV] n_estimators=188, min_samples_split=2, min_samples_leaf=2, max_features=None, max_depth=46, bootstrap=True \n",
      "[CV]  n_estimators=188, min_samples_split=2, min_samples_leaf=2, max_features=None, max_depth=46, bootstrap=True, total=  34.7s\n",
      "[CV] n_estimators=188, min_samples_split=2, min_samples_leaf=2, max_features=None, max_depth=46, bootstrap=True \n",
      "[CV]  n_estimators=188, min_samples_split=2, min_samples_leaf=2, max_features=None, max_depth=46, bootstrap=True, total=  40.5s\n",
      "[CV] n_estimators=188, min_samples_split=2, min_samples_leaf=2, max_features=auto, max_depth=28, bootstrap=False \n",
      "[CV]  n_estimators=188, min_samples_split=2, min_samples_leaf=2, max_features=auto, max_depth=28, bootstrap=False, total=  17.5s\n",
      "[CV] n_estimators=188, min_samples_split=2, min_samples_leaf=2, max_features=auto, max_depth=28, bootstrap=False \n"
     ]
    },
    {
     "name": "stdout",
     "output_type": "stream",
     "text": [
      "[CV]  n_estimators=188, min_samples_split=2, min_samples_leaf=2, max_features=auto, max_depth=28, bootstrap=False, total=  17.0s\n",
      "[CV] n_estimators=188, min_samples_split=2, min_samples_leaf=2, max_features=auto, max_depth=28, bootstrap=False \n",
      "[CV]  n_estimators=188, min_samples_split=2, min_samples_leaf=2, max_features=auto, max_depth=28, bootstrap=False, total=  18.7s\n",
      "[CV] n_estimators=188, min_samples_split=10, min_samples_leaf=2, max_features=auto, max_depth=19, bootstrap=False \n",
      "[CV]  n_estimators=188, min_samples_split=10, min_samples_leaf=2, max_features=auto, max_depth=19, bootstrap=False, total=  17.8s\n",
      "[CV] n_estimators=188, min_samples_split=10, min_samples_leaf=2, max_features=auto, max_depth=19, bootstrap=False \n",
      "[CV]  n_estimators=188, min_samples_split=10, min_samples_leaf=2, max_features=auto, max_depth=19, bootstrap=False, total=  17.3s\n",
      "[CV] n_estimators=188, min_samples_split=10, min_samples_leaf=2, max_features=auto, max_depth=19, bootstrap=False \n",
      "[CV]  n_estimators=188, min_samples_split=10, min_samples_leaf=2, max_features=auto, max_depth=19, bootstrap=False, total=  18.5s\n",
      "[CV] n_estimators=233, min_samples_split=2, min_samples_leaf=4, max_features=None, max_depth=64, bootstrap=False \n",
      "[CV]  n_estimators=233, min_samples_split=2, min_samples_leaf=4, max_features=None, max_depth=64, bootstrap=False, total= 1.2min\n",
      "[CV] n_estimators=233, min_samples_split=2, min_samples_leaf=4, max_features=None, max_depth=64, bootstrap=False \n",
      "[CV]  n_estimators=233, min_samples_split=2, min_samples_leaf=4, max_features=None, max_depth=64, bootstrap=False, total= 1.0min\n",
      "[CV] n_estimators=233, min_samples_split=2, min_samples_leaf=4, max_features=None, max_depth=64, bootstrap=False \n",
      "[CV]  n_estimators=233, min_samples_split=2, min_samples_leaf=4, max_features=None, max_depth=64, bootstrap=False, total= 1.3min\n",
      "[CV] n_estimators=455, min_samples_split=10, min_samples_leaf=2, max_features=auto, max_depth=28, bootstrap=True \n",
      "[CV]  n_estimators=455, min_samples_split=10, min_samples_leaf=2, max_features=auto, max_depth=28, bootstrap=True, total=  28.1s\n",
      "[CV] n_estimators=455, min_samples_split=10, min_samples_leaf=2, max_features=auto, max_depth=28, bootstrap=True \n",
      "[CV]  n_estimators=455, min_samples_split=10, min_samples_leaf=2, max_features=auto, max_depth=28, bootstrap=True, total=  27.1s\n",
      "[CV] n_estimators=455, min_samples_split=10, min_samples_leaf=2, max_features=auto, max_depth=28, bootstrap=True \n",
      "[CV]  n_estimators=455, min_samples_split=10, min_samples_leaf=2, max_features=auto, max_depth=28, bootstrap=True, total=  29.3s\n",
      "[CV] n_estimators=366, min_samples_split=10, min_samples_leaf=2, max_features=auto, max_depth=19, bootstrap=False \n",
      "[CV]  n_estimators=366, min_samples_split=10, min_samples_leaf=2, max_features=auto, max_depth=19, bootstrap=False, total=  34.3s\n",
      "[CV] n_estimators=366, min_samples_split=10, min_samples_leaf=2, max_features=auto, max_depth=19, bootstrap=False \n",
      "[CV]  n_estimators=366, min_samples_split=10, min_samples_leaf=2, max_features=auto, max_depth=19, bootstrap=False, total=  32.9s\n",
      "[CV] n_estimators=366, min_samples_split=10, min_samples_leaf=2, max_features=auto, max_depth=19, bootstrap=False \n",
      "[CV]  n_estimators=366, min_samples_split=10, min_samples_leaf=2, max_features=auto, max_depth=19, bootstrap=False, total=  35.4s\n",
      "[CV] n_estimators=455, min_samples_split=2, min_samples_leaf=4, max_features=None, max_depth=64, bootstrap=True \n",
      "[CV]  n_estimators=455, min_samples_split=2, min_samples_leaf=4, max_features=None, max_depth=64, bootstrap=True, total= 1.5min\n",
      "[CV] n_estimators=455, min_samples_split=2, min_samples_leaf=4, max_features=None, max_depth=64, bootstrap=True \n",
      "[CV]  n_estimators=455, min_samples_split=2, min_samples_leaf=4, max_features=None, max_depth=64, bootstrap=True, total= 1.4min\n",
      "[CV] n_estimators=455, min_samples_split=2, min_samples_leaf=4, max_features=None, max_depth=64, bootstrap=True \n",
      "[CV]  n_estimators=455, min_samples_split=2, min_samples_leaf=4, max_features=None, max_depth=64, bootstrap=True, total= 1.6min\n",
      "[CV] n_estimators=233, min_samples_split=2, min_samples_leaf=2, max_features=auto, max_depth=10, bootstrap=False \n",
      "[CV]  n_estimators=233, min_samples_split=2, min_samples_leaf=2, max_features=auto, max_depth=10, bootstrap=False, total=  14.6s\n",
      "[CV] n_estimators=233, min_samples_split=2, min_samples_leaf=2, max_features=auto, max_depth=10, bootstrap=False \n",
      "[CV]  n_estimators=233, min_samples_split=2, min_samples_leaf=2, max_features=auto, max_depth=10, bootstrap=False, total=  14.8s\n",
      "[CV] n_estimators=233, min_samples_split=2, min_samples_leaf=2, max_features=auto, max_depth=10, bootstrap=False \n",
      "[CV]  n_estimators=233, min_samples_split=2, min_samples_leaf=2, max_features=auto, max_depth=10, bootstrap=False, total=  14.6s\n",
      "[CV] n_estimators=322, min_samples_split=10, min_samples_leaf=2, max_features=auto, max_depth=37, bootstrap=True \n",
      "[CV]  n_estimators=322, min_samples_split=10, min_samples_leaf=2, max_features=auto, max_depth=37, bootstrap=True, total=  20.6s\n",
      "[CV] n_estimators=322, min_samples_split=10, min_samples_leaf=2, max_features=auto, max_depth=37, bootstrap=True \n",
      "[CV]  n_estimators=322, min_samples_split=10, min_samples_leaf=2, max_features=auto, max_depth=37, bootstrap=True, total=  19.0s\n",
      "[CV] n_estimators=322, min_samples_split=10, min_samples_leaf=2, max_features=auto, max_depth=37, bootstrap=True \n",
      "[CV]  n_estimators=322, min_samples_split=10, min_samples_leaf=2, max_features=auto, max_depth=37, bootstrap=True, total=  20.8s\n",
      "[CV] n_estimators=277, min_samples_split=5, min_samples_leaf=2, max_features=auto, max_depth=37, bootstrap=True \n",
      "[CV]  n_estimators=277, min_samples_split=5, min_samples_leaf=2, max_features=auto, max_depth=37, bootstrap=True, total=  17.0s\n",
      "[CV] n_estimators=277, min_samples_split=5, min_samples_leaf=2, max_features=auto, max_depth=37, bootstrap=True \n",
      "[CV]  n_estimators=277, min_samples_split=5, min_samples_leaf=2, max_features=auto, max_depth=37, bootstrap=True, total=  16.5s\n",
      "[CV] n_estimators=277, min_samples_split=5, min_samples_leaf=2, max_features=auto, max_depth=37, bootstrap=True \n",
      "[CV]  n_estimators=277, min_samples_split=5, min_samples_leaf=2, max_features=auto, max_depth=37, bootstrap=True, total=  18.2s\n",
      "[CV] n_estimators=322, min_samples_split=10, min_samples_leaf=4, max_features=auto, max_depth=82, bootstrap=True \n",
      "[CV]  n_estimators=322, min_samples_split=10, min_samples_leaf=4, max_features=auto, max_depth=82, bootstrap=True, total=  20.1s\n",
      "[CV] n_estimators=322, min_samples_split=10, min_samples_leaf=4, max_features=auto, max_depth=82, bootstrap=True \n",
      "[CV]  n_estimators=322, min_samples_split=10, min_samples_leaf=4, max_features=auto, max_depth=82, bootstrap=True, total=  18.9s\n",
      "[CV] n_estimators=322, min_samples_split=10, min_samples_leaf=4, max_features=auto, max_depth=82, bootstrap=True \n",
      "[CV]  n_estimators=322, min_samples_split=10, min_samples_leaf=4, max_features=auto, max_depth=82, bootstrap=True, total=  20.6s\n",
      "[CV] n_estimators=322, min_samples_split=5, min_samples_leaf=2, max_features=auto, max_depth=91, bootstrap=True \n",
      "[CV]  n_estimators=322, min_samples_split=5, min_samples_leaf=2, max_features=auto, max_depth=91, bootstrap=True, total=  19.7s\n",
      "[CV] n_estimators=322, min_samples_split=5, min_samples_leaf=2, max_features=auto, max_depth=91, bootstrap=True \n",
      "[CV]  n_estimators=322, min_samples_split=5, min_samples_leaf=2, max_features=auto, max_depth=91, bootstrap=True, total=  19.0s\n",
      "[CV] n_estimators=322, min_samples_split=5, min_samples_leaf=2, max_features=auto, max_depth=91, bootstrap=True \n",
      "[CV]  n_estimators=322, min_samples_split=5, min_samples_leaf=2, max_features=auto, max_depth=91, bootstrap=True, total=  21.0s\n",
      "[CV] n_estimators=100, min_samples_split=5, min_samples_leaf=4, max_features=auto, max_depth=19, bootstrap=False \n",
      "[CV]  n_estimators=100, min_samples_split=5, min_samples_leaf=4, max_features=auto, max_depth=19, bootstrap=False, total=   9.4s\n",
      "[CV] n_estimators=100, min_samples_split=5, min_samples_leaf=4, max_features=auto, max_depth=19, bootstrap=False \n",
      "[CV]  n_estimators=100, min_samples_split=5, min_samples_leaf=4, max_features=auto, max_depth=19, bootstrap=False, total=   9.2s\n",
      "[CV] n_estimators=100, min_samples_split=5, min_samples_leaf=4, max_features=auto, max_depth=19, bootstrap=False \n"
     ]
    },
    {
     "name": "stdout",
     "output_type": "stream",
     "text": [
      "[CV]  n_estimators=100, min_samples_split=5, min_samples_leaf=4, max_features=auto, max_depth=19, bootstrap=False, total=   9.8s\n",
      "[CV] n_estimators=322, min_samples_split=5, min_samples_leaf=4, max_features=auto, max_depth=46, bootstrap=True \n",
      "[CV]  n_estimators=322, min_samples_split=5, min_samples_leaf=4, max_features=auto, max_depth=46, bootstrap=True, total=  19.7s\n",
      "[CV] n_estimators=322, min_samples_split=5, min_samples_leaf=4, max_features=auto, max_depth=46, bootstrap=True \n",
      "[CV]  n_estimators=322, min_samples_split=5, min_samples_leaf=4, max_features=auto, max_depth=46, bootstrap=True, total=  19.2s\n",
      "[CV] n_estimators=322, min_samples_split=5, min_samples_leaf=4, max_features=auto, max_depth=46, bootstrap=True \n",
      "[CV]  n_estimators=322, min_samples_split=5, min_samples_leaf=4, max_features=auto, max_depth=46, bootstrap=True, total=  21.4s\n",
      "[CV] n_estimators=455, min_samples_split=10, min_samples_leaf=1, max_features=None, max_depth=100, bootstrap=True \n",
      "[CV]  n_estimators=455, min_samples_split=10, min_samples_leaf=1, max_features=None, max_depth=100, bootstrap=True, total= 1.5min\n",
      "[CV] n_estimators=455, min_samples_split=10, min_samples_leaf=1, max_features=None, max_depth=100, bootstrap=True \n",
      "[CV]  n_estimators=455, min_samples_split=10, min_samples_leaf=1, max_features=None, max_depth=100, bootstrap=True, total= 1.4min\n",
      "[CV] n_estimators=455, min_samples_split=10, min_samples_leaf=1, max_features=None, max_depth=100, bootstrap=True \n",
      "[CV]  n_estimators=455, min_samples_split=10, min_samples_leaf=1, max_features=None, max_depth=100, bootstrap=True, total= 1.6min\n",
      "[CV] n_estimators=233, min_samples_split=10, min_samples_leaf=2, max_features=auto, max_depth=73, bootstrap=True \n",
      "[CV]  n_estimators=233, min_samples_split=10, min_samples_leaf=2, max_features=auto, max_depth=73, bootstrap=True, total=  14.5s\n",
      "[CV] n_estimators=233, min_samples_split=10, min_samples_leaf=2, max_features=auto, max_depth=73, bootstrap=True \n",
      "[CV]  n_estimators=233, min_samples_split=10, min_samples_leaf=2, max_features=auto, max_depth=73, bootstrap=True, total=  13.8s\n",
      "[CV] n_estimators=233, min_samples_split=10, min_samples_leaf=2, max_features=auto, max_depth=73, bootstrap=True \n",
      "[CV]  n_estimators=233, min_samples_split=10, min_samples_leaf=2, max_features=auto, max_depth=73, bootstrap=True, total=  15.7s\n",
      "[CV] n_estimators=100, min_samples_split=2, min_samples_leaf=2, max_features=None, max_depth=91, bootstrap=False \n",
      "[CV]  n_estimators=100, min_samples_split=2, min_samples_leaf=2, max_features=None, max_depth=91, bootstrap=False, total=  31.1s\n",
      "[CV] n_estimators=100, min_samples_split=2, min_samples_leaf=2, max_features=None, max_depth=91, bootstrap=False \n",
      "[CV]  n_estimators=100, min_samples_split=2, min_samples_leaf=2, max_features=None, max_depth=91, bootstrap=False, total=  27.1s\n",
      "[CV] n_estimators=100, min_samples_split=2, min_samples_leaf=2, max_features=None, max_depth=91, bootstrap=False \n",
      "[CV]  n_estimators=100, min_samples_split=2, min_samples_leaf=2, max_features=None, max_depth=91, bootstrap=False, total=  35.6s\n"
     ]
    },
    {
     "name": "stderr",
     "output_type": "stream",
     "text": [
      "[Parallel(n_jobs=1)]: Done 150 out of 150 | elapsed: 118.2min finished\n"
     ]
    },
    {
     "data": {
      "text/plain": [
       "RandomizedSearchCV(cv=3,\n",
       "                   estimator=RandomForestClassifier(n_jobs=-1, random_state=13),\n",
       "                   n_iter=50,\n",
       "                   param_distributions={'bootstrap': [True, False],\n",
       "                                        'max_depth': [10, 19, 28, 37, 46, 55,\n",
       "                                                      64, 73, 82, 91, 100,\n",
       "                                                      None],\n",
       "                                        'max_features': ['auto', None],\n",
       "                                        'min_samples_leaf': [1, 2, 4],\n",
       "                                        'min_samples_split': [2, 5, 10],\n",
       "                                        'n_estimators': [100, 144, 188, 233,\n",
       "                                                         277, 322, 366, 411,\n",
       "                                                         455, 500]},\n",
       "                   scoring='recall', verbose=2)"
      ]
     },
     "execution_count": 23,
     "metadata": {},
     "output_type": "execute_result"
    }
   ],
   "source": [
    "forest_random_search.fit(X_train_scaled,y_train)"
   ]
  },
  {
   "cell_type": "code",
   "execution_count": 25,
   "metadata": {
    "scrolled": true
   },
   "outputs": [
    {
     "data": {
      "text/plain": [
       "{'n_estimators': 233,\n",
       " 'min_samples_split': 10,\n",
       " 'min_samples_leaf': 1,\n",
       " 'max_features': 'auto',\n",
       " 'max_depth': 82,\n",
       " 'bootstrap': False}"
      ]
     },
     "execution_count": 25,
     "metadata": {},
     "output_type": "execute_result"
    }
   ],
   "source": [
    "forest_random_search.best_params_"
   ]
  },
  {
   "cell_type": "code",
   "execution_count": 35,
   "metadata": {},
   "outputs": [],
   "source": [
    "forest_clf = forest_random_search.best_estimator_"
   ]
  },
  {
   "cell_type": "markdown",
   "metadata": {},
   "source": [
    "{'n_estimators': 233,\n",
    " 'min_samples_split': 10,\n",
    " 'min_samples_leaf': 1,\n",
    " 'max_features': 'auto',\n",
    " 'max_depth': 82,\n",
    " 'bootstrap': False}"
   ]
  },
  {
   "cell_type": "code",
   "execution_count": 36,
   "metadata": {},
   "outputs": [
    {
     "data": {
      "text/plain": [
       "{'bootstrap': False,\n",
       " 'ccp_alpha': 0.0,\n",
       " 'class_weight': None,\n",
       " 'criterion': 'gini',\n",
       " 'max_depth': 82,\n",
       " 'max_features': 'auto',\n",
       " 'max_leaf_nodes': None,\n",
       " 'max_samples': None,\n",
       " 'min_impurity_decrease': 0.0,\n",
       " 'min_impurity_split': None,\n",
       " 'min_samples_leaf': 1,\n",
       " 'min_samples_split': 10,\n",
       " 'min_weight_fraction_leaf': 0.0,\n",
       " 'n_estimators': 233,\n",
       " 'n_jobs': -1,\n",
       " 'oob_score': False,\n",
       " 'random_state': 13,\n",
       " 'verbose': 0,\n",
       " 'warm_start': False}"
      ]
     },
     "execution_count": 36,
     "metadata": {},
     "output_type": "execute_result"
    }
   ],
   "source": [
    "forest_clf.get_params()"
   ]
  },
  {
   "cell_type": "code",
   "execution_count": 37,
   "metadata": {},
   "outputs": [
    {
     "data": {
      "text/plain": [
       "RandomForestClassifier(bootstrap=False, max_depth=82, min_samples_split=10,\n",
       "                       n_estimators=233, n_jobs=-1, random_state=13)"
      ]
     },
     "execution_count": 37,
     "metadata": {},
     "output_type": "execute_result"
    }
   ],
   "source": [
    "forest_clf.fit(X_train_scaled,y_train)"
   ]
  },
  {
   "cell_type": "code",
   "execution_count": 38,
   "metadata": {},
   "outputs": [],
   "source": [
    "def plot_precision_vs_recall(precisions, recalls):\n",
    "    plt.plot(recalls, precisions, \"b-\", linewidth=2)\n",
    "    plt.xlabel(\"Recall\", fontsize=16)\n",
    "    plt.ylabel(\"Precision\", fontsize=16)\n",
    "    plt.axis([0, 1, 0, 1])\n",
    "    plt.grid(True) "
   ]
  },
  {
   "cell_type": "code",
   "execution_count": 39,
   "metadata": {},
   "outputs": [],
   "source": [
    "from sklearn.model_selection import cross_val_predict"
   ]
  },
  {
   "cell_type": "code",
   "execution_count": 40,
   "metadata": {},
   "outputs": [],
   "source": [
    "y_pred_forest = cross_val_predict(forest_clf,X_train_scaled, y_train)"
   ]
  },
  {
   "cell_type": "code",
   "execution_count": 41,
   "metadata": {},
   "outputs": [
    {
     "name": "stdout",
     "output_type": "stream",
     "text": [
      "Precision:  0.9174311926605505\n",
      "Recall:  0.7936507936507936\n",
      "TN       FP\n",
      "[[226575     27]\n",
      " [    78    300]]\n",
      "FN       TP\n"
     ]
    },
    {
     "data": {
      "image/png": "[encoded data removed]",
      "text/plain": [
       "<Figure size 432x288 with 1 Axes>"
      ]
     },
     "metadata": {
      "needs_background": "light"
     },
     "output_type": "display_data"
    },
    {
     "data": {
      "text/plain": [
       "<Figure size 576x288 with 0 Axes>"
      ]
     },
     "metadata": {},
     "output_type": "display_data"
    }
   ],
   "source": [
    "print(\"Precision: \", precision_score(y_train,y_pred_forest))\n",
    "print(\"Recall: \", recall_score(y_train,y_pred_forest))\n",
    "print(\"TN       FP\")\n",
    "print(confusion_matrix(y_train,y_pred_forest)) \n",
    "print(\"FN       TP\")\n",
    "precisions, recalls, thresholds = precision_recall_curve(y_train,y_pred_forest)\n",
    "plot_precision_vs_recall(precisions,recalls) #plot precision recall curve\n",
    "plt.figure(figsize=(8,4))\n",
    "plt.show()"
   ]
  },
  {
   "cell_type": "markdown",
   "metadata": {},
   "source": [
    "**OLD default Model**\n",
    "\n",
    "Random Forest\n",
    "\n",
    "- Precision:  0.9283489096573209\n",
    "- Recall:  0.7883597883597884\n",
    "\n",
    "      TN       FP\n",
    "\n",
    "      [[226579     23]\n",
    "\n",
    "      [    80    298]]\n",
    " \n",
    "      FN       TP\n"
   ]
  },
  {
   "cell_type": "code",
   "execution_count": 42,
   "metadata": {},
   "outputs": [],
   "source": [
    "from sklearn.neural_network import MLPClassifier\n",
    "\n",
    "MLP_clf = MLPClassifier()"
   ]
  },
  {
   "cell_type": "code",
   "execution_count": 50,
   "metadata": {
    "scrolled": true
   },
   "outputs": [
    {
     "name": "stdout",
     "output_type": "stream",
     "text": [
      "{'hidden_layer_sizes': [(50, 50, 50), (50, 100, 50), (100,)], 'activation': ['tanh', 'relu'], 'solver': ['sgd', 'adam'], 'alpha': [5e-05, 0.0125375, 0.025025000000000002, 0.037512500000000004, 0.05], 'learning_rate': ['constant', 'adaptive']}\n"
     ]
    }
   ],
   "source": [
    "alpha = [float(x) for x in np.linspace(0.00005, 0.05, num = 5)]\n",
    "random_grid_MLP = {\n",
    "    'hidden_layer_sizes': [(50,50,50), (50,100,50), (100,)],\n",
    "    'activation': ['tanh', 'relu'],\n",
    "    'solver': ['sgd', 'adam'],\n",
    "    'alpha': alpha,\n",
    "    'learning_rate': ['constant','adaptive'],\n",
    "}\n",
    "\n",
    "print(random_grid_MLP)"
   ]
  },
  {
   "cell_type": "code",
   "execution_count": 51,
   "metadata": {},
   "outputs": [],
   "source": [
    "MLP_random_search = RandomizedSearchCV(MLP_clf, random_grid_MLP,scoring = \"recall\",\n",
    "                                          n_iter = 50, cv = 3, n_jobs = -1, verbose = 2)"
   ]
  },
  {
   "cell_type": "code",
   "execution_count": 52,
   "metadata": {},
   "outputs": [
    {
     "name": "stdout",
     "output_type": "stream",
     "text": [
      "Fitting 3 folds for each of 50 candidates, totalling 150 fits\n"
     ]
    },
    {
     "name": "stderr",
     "output_type": "stream",
     "text": [
      "[Parallel(n_jobs=-1)]: Using backend LokyBackend with 12 concurrent workers.\n",
      "[Parallel(n_jobs=-1)]: Done  17 tasks      | elapsed:  1.7min\n",
      "[Parallel(n_jobs=-1)]: Done 150 out of 150 | elapsed: 14.0min finished\n"
     ]
    },
    {
     "data": {
      "text/plain": [
       "RandomizedSearchCV(cv=3, estimator=MLPClassifier(), n_iter=50, n_jobs=-1,\n",
       "                   param_distributions={'activation': ['tanh', 'relu'],\n",
       "                                        'alpha': [5e-05, 0.0125375,\n",
       "                                                  0.025025000000000002,\n",
       "                                                  0.037512500000000004, 0.05],\n",
       "                                        'hidden_layer_sizes': [(50, 50, 50),\n",
       "                                                               (50, 100, 50),\n",
       "                                                               (100,)],\n",
       "                                        'learning_rate': ['constant',\n",
       "                                                          'adaptive'],\n",
       "                                        'solver': ['sgd', 'adam']},\n",
       "                   scoring='recall', verbose=2)"
      ]
     },
     "execution_count": 52,
     "metadata": {},
     "output_type": "execute_result"
    }
   ],
   "source": [
    "MLP_random_search.fit(X_train_scaled,y_train)"
   ]
  },
  {
   "cell_type": "code",
   "execution_count": 53,
   "metadata": {},
   "outputs": [
    {
     "data": {
      "text/plain": [
       "{'solver': 'adam',\n",
       " 'learning_rate': 'adaptive',\n",
       " 'hidden_layer_sizes': (50, 100, 50),\n",
       " 'alpha': 0.0125375,\n",
       " 'activation': 'relu'}"
      ]
     },
     "execution_count": 53,
     "metadata": {},
     "output_type": "execute_result"
    }
   ],
   "source": [
    "MLP_random_search.best_params_"
   ]
  },
  {
   "cell_type": "code",
   "execution_count": 55,
   "metadata": {},
   "outputs": [],
   "source": [
    "MLP_clf = MLP_random_search.best_estimator_"
   ]
  },
  {
   "cell_type": "code",
   "execution_count": 56,
   "metadata": {},
   "outputs": [
    {
     "data": {
      "text/plain": [
       "MLPClassifier(alpha=0.0125375, hidden_layer_sizes=(50, 100, 50),\n",
       "              learning_rate='adaptive')"
      ]
     },
     "execution_count": 56,
     "metadata": {},
     "output_type": "execute_result"
    }
   ],
   "source": [
    "MLP_clf.fit(X_train_scaled,y_train)"
   ]
  },
  {
   "cell_type": "code",
   "execution_count": 57,
   "metadata": {},
   "outputs": [],
   "source": [
    "y_pred_MLP = cross_val_predict(MLP_clf,X_train_scaled, y_train)"
   ]
  },
  {
   "cell_type": "code",
   "execution_count": 58,
   "metadata": {},
   "outputs": [
    {
     "name": "stdout",
     "output_type": "stream",
     "text": [
      "Precision:  0.8583815028901735\n",
      "Recall:  0.7857142857142857\n",
      "TN       FP\n",
      "[[226553     49]\n",
      " [    81    297]]\n",
      "FN       TP\n"
     ]
    },
    {
     "data": {
      "image/png": "[encoded data removed]",
      "text/plain": [
       "<Figure size 432x288 with 1 Axes>"
      ]
     },
     "metadata": {
      "needs_background": "light"
     },
     "output_type": "display_data"
    },
    {
     "data": {
      "text/plain": [
       "<Figure size 576x288 with 0 Axes>"
      ]
     },
     "metadata": {},
     "output_type": "display_data"
    }
   ],
   "source": [
    "print(\"Precision: \", precision_score(y_train,y_pred_MLP))\n",
    "print(\"Recall: \", recall_score(y_train,y_pred_MLP))\n",
    "print(\"TN       FP\")\n",
    "print(confusion_matrix(y_train,y_pred_MLP)) \n",
    "print(\"FN       TP\")\n",
    "precisions, recalls, thresholds = precision_recall_curve(y_train,y_pred_MLP)\n",
    "plot_precision_vs_recall(precisions,recalls) #plot precision recall curve\n",
    "plt.figure(figsize=(8,4))\n",
    "plt.show()"
   ]
  },
  {
   "cell_type": "markdown",
   "metadata": {},
   "source": [
    "**OLD default MLP**\n",
    "- Precision:  0.8605341246290801\n",
    "- Recall:  0.7671957671957672\n",
    "\n",
    "        TN       FP\n",
    "       [[226555     47]\n",
    "       [    88    290]]\n",
    "        FN       TP"
   ]
  },
  {
   "cell_type": "code",
   "execution_count": 59,
   "metadata": {},
   "outputs": [],
   "source": [
    "from sklearn.ensemble import VotingClassifier\n",
    "\n",
    "ensemble_clf = VotingClassifier([(\"RF\",forest_clf),(\"MLP\", MLP_clf)], n_jobs = -1)"
   ]
  },
  {
   "cell_type": "code",
   "execution_count": 60,
   "metadata": {},
   "outputs": [],
   "source": [
    "ensemble_clf.fit(X_train_scaled,y_train)\n",
    "y_pred_ensemble = cross_val_predict(ensemble_clf,X_train_scaled, y_train)"
   ]
  },
  {
   "cell_type": "code",
   "execution_count": 61,
   "metadata": {},
   "outputs": [
    {
     "name": "stdout",
     "output_type": "stream",
     "text": [
      "Precision:  0.9288025889967637\n",
      "Recall:  0.7592592592592593\n",
      "TN       FP\n",
      "[[226580     22]\n",
      " [    91    287]]\n",
      "FN       TP\n"
     ]
    },
    {
     "data": {
      "image/png": "[encoded data removed]",
      "text/plain": [
       "<Figure size 432x288 with 1 Axes>"
      ]
     },
     "metadata": {
      "needs_background": "light"
     },
     "output_type": "display_data"
    },
    {
     "data": {
      "text/plain": [
       "<Figure size 576x288 with 0 Axes>"
      ]
     },
     "metadata": {},
     "output_type": "display_data"
    }
   ],
   "source": [
    "print(\"Precision: \", precision_score(y_train,y_pred_ensemble))\n",
    "print(\"Recall: \", recall_score(y_train,y_pred_ensemble))\n",
    "print(\"TN       FP\")\n",
    "print(confusion_matrix(y_train,y_pred_ensemble)) \n",
    "print(\"FN       TP\")\n",
    "precisions, recalls, thresholds = precision_recall_curve(y_train,y_pred_ensemble)\n",
    "plot_precision_vs_recall(precisions,recalls) #plot precision recall curve\n",
    "plt.figure(figsize=(8,4))\n",
    "plt.show()"
   ]
  },
  {
   "cell_type": "code",
   "execution_count": 63,
   "metadata": {},
   "outputs": [],
   "source": [
    "#saving all current models to get later\n",
    "import pickle\n",
    "pickle.dump(forest_clf,open(path + \"/forest_model.pickle\", \"wb\"))\n",
    "pickle.dump(MLP_clf,open(path + \"/MLP_model.pickle\", \"wb\"))"
   ]
  },
  {
   "cell_type": "code",
   "execution_count": null,
   "metadata": {},
   "outputs": [],
   "source": [
    "path = \"C:/Users/ms101/OneDrive/DataScience_ML/projects/Credit card fraud detection/models\""
   ]
  },
  {
   "cell_type": "markdown",
   "metadata": {},
   "source": [
    "## To do\n",
    "\n",
    "- document\n",
    "- try a Blender?\n",
    "- look into leaning more towards recall\n",
    "- build script with end-to-end final model"
   ]
  },
  {
   "cell_type": "code",
   "execution_count": null,
   "metadata": {},
   "outputs": [],
   "source": [
    "forest_clf = pickle.load(open(path+ \"/forest_model.pickle\", \"rb\"))\n",
    "MLP_clf = pickle.load(open(path + \"/MLP_model.pickle\", \"rb\"))"
   ]
  }
 ],
 "metadata": {
  "kernelspec": {
   "display_name": "Python 3",
   "language": "python",
   "name": "python3"
  },
  "language_info": {
   "codemirror_mode": {
    "name": "ipython",
    "version": 3
   },
   "file_extension": ".py",
   "mimetype": "text/x-python",
   "name": "python",
   "nbconvert_exporter": "python",
   "pygments_lexer": "ipython3",
   "version": "3.7.7"
  }
 },
 "nbformat": 4,
 "nbformat_minor": 4
}
