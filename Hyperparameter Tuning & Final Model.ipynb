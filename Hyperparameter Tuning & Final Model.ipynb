{
 "cells": [
  {
   "cell_type": "markdown",
   "metadata": {},
   "source": [
    "# Credit Card Fraud Detection\n",
    "\n",
    "## Hyperparameter Tuning\n",
    "\n",
    "In the Model Selection Stage multiple classification algorithms were tested. I employed more \"classic\" models as well as those that are often used for anomaly detection, which this problem could be framed as.\n",
    "\n",
    "After some exploration the Random Forest and MLP showed good recall, which is the important metric here, as I am trying to minimize False Negatives. This did not came at the expense of precision. Some algorithms had fewer False Negatives but a large number of False Positives. I did not choose them, as tuning toward even better recall, thus less False Negatives would have driven up the number of Flase Positives considerably."
   ]
  },
  {
   "cell_type": "code",
   "execution_count": 1,
   "metadata": {},
   "outputs": [],
   "source": [
    "# import the needed libraries\n",
    "import pandas as pd\n",
    "import numpy as np\n",
    "import matplotlib.pyplot as plt\n",
    "#sklearn will be imported partially when necessary\n",
    "\n",
    "#read in the data and make a copy of it in case anything goes wrong\n",
    "path = \"C:/Users/ms101/OneDrive/datasets\"\n",
    "credit_data = pd.read_csv(path + \"/creditcard.csv\")\n",
    "\n",
    "data = credit_data.copy()\n",
    "\n",
    "data.drop_duplicates(inplace = True)\n",
    "data.reset_index(inplace = True, drop = True)\n",
    "assert data.shape == (283726,31)#check if duplicates are removed correctly\n",
    "data_red = data[[\"V17\",\"V14\",\"V12\",\"V10\",\"V16\",\"V3\",\"V7\",\"V11\",\"Class\"]].copy()"
   ]
  },
  {
   "cell_type": "code",
   "execution_count": 2,
   "metadata": {},
   "outputs": [],
   "source": [
    "data_red.to_csv(path + \"/creditcard_reduced.csv\")"
   ]
  },
  {
   "cell_type": "code",
   "execution_count": 3,
   "metadata": {},
   "outputs": [],
   "source": [
    "X = data_red.drop(\"Class\", axis = 1)\n",
    "y = data_red[\"Class\"]\n",
    "assert X.shape == (283726,8)\n",
    "assert y.shape == (283726,)"
   ]
  },
  {
   "cell_type": "code",
   "execution_count": 4,
   "metadata": {},
   "outputs": [],
   "source": [
    "from sklearn.model_selection import StratifiedShuffleSplit\n",
    "\n",
    "strat_split = StratifiedShuffleSplit(test_size = 0.2, random_state = 13)\n",
    "for train_index, test_index in strat_split.split(X,y):\n",
    "    X_train, X_test = X.loc[train_index], X.loc[test_index]\n",
    "    y_train, y_test = y.loc[train_index], y.loc[test_index]"
   ]
  },
  {
   "cell_type": "code",
   "execution_count": 5,
   "metadata": {},
   "outputs": [],
   "source": [
    "# import the metrics\n",
    "from sklearn.metrics import confusion_matrix, precision_score, recall_score, precision_recall_curve\n"
   ]
  },
  {
   "cell_type": "code",
   "execution_count": 6,
   "metadata": {},
   "outputs": [],
   "source": [
    "# Scaling the data\n",
    "from sklearn.preprocessing import StandardScaler\n",
    "\n",
    "scaler = StandardScaler()\n",
    "X_train_scaled = scaler.fit_transform(X_train)\n",
    "X_test_scaled = scaler.transform(X_test)"
   ]
  },
  {
   "cell_type": "code",
   "execution_count": 7,
   "metadata": {},
   "outputs": [],
   "source": [
    "from sklearn.model_selection import GridSearchCV, RandomizedSearchCV"
   ]
  },
  {
   "cell_type": "markdown",
   "metadata": {},
   "source": [
    "### Tuning the Random Forest Classifier\n",
    "\n",
    "I will start with the Random Forest classifier."
   ]
  },
  {
   "cell_type": "code",
   "execution_count": null,
   "metadata": {},
   "outputs": [],
   "source": [
    "from sklearn.ensemble import RandomForestClassifier\n",
    "\n",
    "forest_clf"
   ]
  }
 ],
 "metadata": {
  "kernelspec": {
   "display_name": "Python 3",
   "language": "python",
   "name": "python3"
  },
  "language_info": {
   "codemirror_mode": {
    "name": "ipython",
    "version": 3
   },
   "file_extension": ".py",
   "mimetype": "text/x-python",
   "name": "python",
   "nbconvert_exporter": "python",
   "pygments_lexer": "ipython3",
   "version": "3.7.7"
  }
 },
 "nbformat": 4,
 "nbformat_minor": 4
}
