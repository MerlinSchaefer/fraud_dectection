{
 "cells": [
  {
   "cell_type": "markdown",
   "metadata": {},
   "source": [
    "# Credit Card Fraud Detection\n",
    "\n",
    "## Data Preparation\n",
    "\n",
    "The data is already fairly well prepared, as it was cleaned and ran through PCA (in order to ensure anonymity). \n",
    "\n",
    "It still needs to be split before training any models.\n",
    "It is **very important** to ensure equal proportions of fraudulent transactions in each subset of data (train/validation/test)"
   ]
  },
  {
   "cell_type": "code",
   "execution_count": 2,
   "metadata": {},
   "outputs": [],
   "source": [
    "# import the needed libraries\n",
    "import pandas as pd\n",
    "import numpy as np\n",
    "import matplotlib.pyplot as plt\n",
    "#sklearn will be imported partially when necessary\n",
    "\n",
    "#read in the data and make a copy of it in case anything goes wrong\n",
    "path = \"C:/Users/ms101/OneDrive/datasets\"\n",
    "credit_data = pd.read_csv(path + \"/creditcard.csv\")\n",
    "\n",
    "data = credit_data.copy()\n"
   ]
  },
  {
   "cell_type": "code",
   "execution_count": 3,
   "metadata": {
    "scrolled": true
   },
   "outputs": [
    {
     "data": {
      "text/html": [
       "<div>\n",
       "<style scoped>\n",
       "    .dataframe tbody tr th:only-of-type {\n",
       "        vertical-align: middle;\n",
       "    }\n",
       "\n",
       "    .dataframe tbody tr th {\n",
       "        vertical-align: top;\n",
       "    }\n",
       "\n",
       "    .dataframe thead th {\n",
       "        text-align: right;\n",
       "    }\n",
       "</style>\n",
       "<table border=\"1\" class=\"dataframe\">\n",
       "  <thead>\n",
       "    <tr style=\"text-align: right;\">\n",
       "      <th></th>\n",
       "      <th>Time</th>\n",
       "      <th>V1</th>\n",
       "      <th>V2</th>\n",
       "      <th>V3</th>\n",
       "      <th>V4</th>\n",
       "      <th>V5</th>\n",
       "      <th>V6</th>\n",
       "      <th>V7</th>\n",
       "      <th>V8</th>\n",
       "      <th>V9</th>\n",
       "      <th>...</th>\n",
       "      <th>V21</th>\n",
       "      <th>V22</th>\n",
       "      <th>V23</th>\n",
       "      <th>V24</th>\n",
       "      <th>V25</th>\n",
       "      <th>V26</th>\n",
       "      <th>V27</th>\n",
       "      <th>V28</th>\n",
       "      <th>Amount</th>\n",
       "      <th>Class</th>\n",
       "    </tr>\n",
       "  </thead>\n",
       "  <tbody>\n",
       "    <tr>\n",
       "      <th>0</th>\n",
       "      <td>0.0</td>\n",
       "      <td>-1.359807</td>\n",
       "      <td>-0.072781</td>\n",
       "      <td>2.536347</td>\n",
       "      <td>1.378155</td>\n",
       "      <td>-0.338321</td>\n",
       "      <td>0.462388</td>\n",
       "      <td>0.239599</td>\n",
       "      <td>0.098698</td>\n",
       "      <td>0.363787</td>\n",
       "      <td>...</td>\n",
       "      <td>-0.018307</td>\n",
       "      <td>0.277838</td>\n",
       "      <td>-0.110474</td>\n",
       "      <td>0.066928</td>\n",
       "      <td>0.128539</td>\n",
       "      <td>-0.189115</td>\n",
       "      <td>0.133558</td>\n",
       "      <td>-0.021053</td>\n",
       "      <td>149.62</td>\n",
       "      <td>0</td>\n",
       "    </tr>\n",
       "    <tr>\n",
       "      <th>1</th>\n",
       "      <td>0.0</td>\n",
       "      <td>1.191857</td>\n",
       "      <td>0.266151</td>\n",
       "      <td>0.166480</td>\n",
       "      <td>0.448154</td>\n",
       "      <td>0.060018</td>\n",
       "      <td>-0.082361</td>\n",
       "      <td>-0.078803</td>\n",
       "      <td>0.085102</td>\n",
       "      <td>-0.255425</td>\n",
       "      <td>...</td>\n",
       "      <td>-0.225775</td>\n",
       "      <td>-0.638672</td>\n",
       "      <td>0.101288</td>\n",
       "      <td>-0.339846</td>\n",
       "      <td>0.167170</td>\n",
       "      <td>0.125895</td>\n",
       "      <td>-0.008983</td>\n",
       "      <td>0.014724</td>\n",
       "      <td>2.69</td>\n",
       "      <td>0</td>\n",
       "    </tr>\n",
       "    <tr>\n",
       "      <th>2</th>\n",
       "      <td>1.0</td>\n",
       "      <td>-1.358354</td>\n",
       "      <td>-1.340163</td>\n",
       "      <td>1.773209</td>\n",
       "      <td>0.379780</td>\n",
       "      <td>-0.503198</td>\n",
       "      <td>1.800499</td>\n",
       "      <td>0.791461</td>\n",
       "      <td>0.247676</td>\n",
       "      <td>-1.514654</td>\n",
       "      <td>...</td>\n",
       "      <td>0.247998</td>\n",
       "      <td>0.771679</td>\n",
       "      <td>0.909412</td>\n",
       "      <td>-0.689281</td>\n",
       "      <td>-0.327642</td>\n",
       "      <td>-0.139097</td>\n",
       "      <td>-0.055353</td>\n",
       "      <td>-0.059752</td>\n",
       "      <td>378.66</td>\n",
       "      <td>0</td>\n",
       "    </tr>\n",
       "    <tr>\n",
       "      <th>3</th>\n",
       "      <td>1.0</td>\n",
       "      <td>-0.966272</td>\n",
       "      <td>-0.185226</td>\n",
       "      <td>1.792993</td>\n",
       "      <td>-0.863291</td>\n",
       "      <td>-0.010309</td>\n",
       "      <td>1.247203</td>\n",
       "      <td>0.237609</td>\n",
       "      <td>0.377436</td>\n",
       "      <td>-1.387024</td>\n",
       "      <td>...</td>\n",
       "      <td>-0.108300</td>\n",
       "      <td>0.005274</td>\n",
       "      <td>-0.190321</td>\n",
       "      <td>-1.175575</td>\n",
       "      <td>0.647376</td>\n",
       "      <td>-0.221929</td>\n",
       "      <td>0.062723</td>\n",
       "      <td>0.061458</td>\n",
       "      <td>123.50</td>\n",
       "      <td>0</td>\n",
       "    </tr>\n",
       "    <tr>\n",
       "      <th>4</th>\n",
       "      <td>2.0</td>\n",
       "      <td>-1.158233</td>\n",
       "      <td>0.877737</td>\n",
       "      <td>1.548718</td>\n",
       "      <td>0.403034</td>\n",
       "      <td>-0.407193</td>\n",
       "      <td>0.095921</td>\n",
       "      <td>0.592941</td>\n",
       "      <td>-0.270533</td>\n",
       "      <td>0.817739</td>\n",
       "      <td>...</td>\n",
       "      <td>-0.009431</td>\n",
       "      <td>0.798278</td>\n",
       "      <td>-0.137458</td>\n",
       "      <td>0.141267</td>\n",
       "      <td>-0.206010</td>\n",
       "      <td>0.502292</td>\n",
       "      <td>0.219422</td>\n",
       "      <td>0.215153</td>\n",
       "      <td>69.99</td>\n",
       "      <td>0</td>\n",
       "    </tr>\n",
       "  </tbody>\n",
       "</table>\n",
       "<p>5 rows × 31 columns</p>\n",
       "</div>"
      ],
      "text/plain": [
       "   Time        V1        V2        V3        V4        V5        V6        V7  \\\n",
       "0   0.0 -1.359807 -0.072781  2.536347  1.378155 -0.338321  0.462388  0.239599   \n",
       "1   0.0  1.191857  0.266151  0.166480  0.448154  0.060018 -0.082361 -0.078803   \n",
       "2   1.0 -1.358354 -1.340163  1.773209  0.379780 -0.503198  1.800499  0.791461   \n",
       "3   1.0 -0.966272 -0.185226  1.792993 -0.863291 -0.010309  1.247203  0.237609   \n",
       "4   2.0 -1.158233  0.877737  1.548718  0.403034 -0.407193  0.095921  0.592941   \n",
       "\n",
       "         V8        V9  ...       V21       V22       V23       V24       V25  \\\n",
       "0  0.098698  0.363787  ... -0.018307  0.277838 -0.110474  0.066928  0.128539   \n",
       "1  0.085102 -0.255425  ... -0.225775 -0.638672  0.101288 -0.339846  0.167170   \n",
       "2  0.247676 -1.514654  ...  0.247998  0.771679  0.909412 -0.689281 -0.327642   \n",
       "3  0.377436 -1.387024  ... -0.108300  0.005274 -0.190321 -1.175575  0.647376   \n",
       "4 -0.270533  0.817739  ... -0.009431  0.798278 -0.137458  0.141267 -0.206010   \n",
       "\n",
       "        V26       V27       V28  Amount  Class  \n",
       "0 -0.189115  0.133558 -0.021053  149.62      0  \n",
       "1  0.125895 -0.008983  0.014724    2.69      0  \n",
       "2 -0.139097 -0.055353 -0.059752  378.66      0  \n",
       "3 -0.221929  0.062723  0.061458  123.50      0  \n",
       "4  0.502292  0.219422  0.215153   69.99      0  \n",
       "\n",
       "[5 rows x 31 columns]"
      ]
     },
     "execution_count": 3,
     "metadata": {},
     "output_type": "execute_result"
    }
   ],
   "source": [
    "data.head()"
   ]
  },
  {
   "cell_type": "markdown",
   "metadata": {},
   "source": [
    "We already checked for missing values during the exploration, one more thing to look for are **duplicates**. These could potentially lead to biased metrics."
   ]
  },
  {
   "cell_type": "code",
   "execution_count": 4,
   "metadata": {},
   "outputs": [
    {
     "data": {
      "text/plain": [
       "1081"
      ]
     },
     "execution_count": 4,
     "metadata": {},
     "output_type": "execute_result"
    }
   ],
   "source": [
    "data.duplicated().sum()"
   ]
  },
  {
   "cell_type": "markdown",
   "metadata": {},
   "source": [
    "There are 1081 duplicate entries which should be dropped."
   ]
  },
  {
   "cell_type": "code",
   "execution_count": 5,
   "metadata": {},
   "outputs": [
    {
     "name": "stdout",
     "output_type": "stream",
     "text": [
      "(284807, 31)\n"
     ]
    }
   ],
   "source": [
    "print(data.shape)\n",
    "data.drop_duplicates(inplace = True)\n",
    "data.reset_index(inplace = True, drop = True)"
   ]
  },
  {
   "cell_type": "code",
   "execution_count": 6,
   "metadata": {},
   "outputs": [
    {
     "data": {
      "text/plain": [
       "(283726, 31)"
      ]
     },
     "execution_count": 6,
     "metadata": {},
     "output_type": "execute_result"
    }
   ],
   "source": [
    "data.shape"
   ]
  },
  {
   "cell_type": "code",
   "execution_count": 7,
   "metadata": {},
   "outputs": [],
   "source": [
    "assert data.shape == (284807-1081,31)#check if duplicates are removed correctly"
   ]
  },
  {
   "cell_type": "markdown",
   "metadata": {},
   "source": [
    "### Selecting the features\n",
    "\n",
    "In the explorative analysis the following features were found to be most strongly related to the target.\n",
    "\n",
    "[\"V17\",\"V14\",\"V12\",\"V10\",\"V16\",\"V3\",\"V7\",\"V11\"]\n",
    "\n",
    "The features will therefore be reduced to those 8 features."
   ]
  },
  {
   "cell_type": "code",
   "execution_count": 12,
   "metadata": {},
   "outputs": [
    {
     "data": {
      "text/html": [
       "<div>\n",
       "<style scoped>\n",
       "    .dataframe tbody tr th:only-of-type {\n",
       "        vertical-align: middle;\n",
       "    }\n",
       "\n",
       "    .dataframe tbody tr th {\n",
       "        vertical-align: top;\n",
       "    }\n",
       "\n",
       "    .dataframe thead th {\n",
       "        text-align: right;\n",
       "    }\n",
       "</style>\n",
       "<table border=\"1\" class=\"dataframe\">\n",
       "  <thead>\n",
       "    <tr style=\"text-align: right;\">\n",
       "      <th></th>\n",
       "      <th>V17</th>\n",
       "      <th>V14</th>\n",
       "      <th>V12</th>\n",
       "      <th>V10</th>\n",
       "      <th>V16</th>\n",
       "      <th>V3</th>\n",
       "      <th>V7</th>\n",
       "      <th>V11</th>\n",
       "      <th>Class</th>\n",
       "    </tr>\n",
       "  </thead>\n",
       "  <tbody>\n",
       "    <tr>\n",
       "      <th>0</th>\n",
       "      <td>0.207971</td>\n",
       "      <td>-0.311169</td>\n",
       "      <td>-0.617801</td>\n",
       "      <td>0.090794</td>\n",
       "      <td>-0.470401</td>\n",
       "      <td>2.536347</td>\n",
       "      <td>0.239599</td>\n",
       "      <td>-0.551600</td>\n",
       "      <td>0</td>\n",
       "    </tr>\n",
       "    <tr>\n",
       "      <th>1</th>\n",
       "      <td>-0.114805</td>\n",
       "      <td>-0.143772</td>\n",
       "      <td>1.065235</td>\n",
       "      <td>-0.166974</td>\n",
       "      <td>0.463917</td>\n",
       "      <td>0.166480</td>\n",
       "      <td>-0.078803</td>\n",
       "      <td>1.612727</td>\n",
       "      <td>0</td>\n",
       "    </tr>\n",
       "    <tr>\n",
       "      <th>2</th>\n",
       "      <td>1.109969</td>\n",
       "      <td>-0.165946</td>\n",
       "      <td>0.066084</td>\n",
       "      <td>0.207643</td>\n",
       "      <td>-2.890083</td>\n",
       "      <td>1.773209</td>\n",
       "      <td>0.791461</td>\n",
       "      <td>0.624501</td>\n",
       "      <td>0</td>\n",
       "    </tr>\n",
       "    <tr>\n",
       "      <th>3</th>\n",
       "      <td>-0.684093</td>\n",
       "      <td>-0.287924</td>\n",
       "      <td>0.178228</td>\n",
       "      <td>-0.054952</td>\n",
       "      <td>-1.059647</td>\n",
       "      <td>1.792993</td>\n",
       "      <td>0.237609</td>\n",
       "      <td>-0.226487</td>\n",
       "      <td>0</td>\n",
       "    </tr>\n",
       "    <tr>\n",
       "      <th>4</th>\n",
       "      <td>-0.237033</td>\n",
       "      <td>-1.119670</td>\n",
       "      <td>0.538196</td>\n",
       "      <td>0.753074</td>\n",
       "      <td>-0.451449</td>\n",
       "      <td>1.548718</td>\n",
       "      <td>0.592941</td>\n",
       "      <td>-0.822843</td>\n",
       "      <td>0</td>\n",
       "    </tr>\n",
       "  </tbody>\n",
       "</table>\n",
       "</div>"
      ],
      "text/plain": [
       "        V17       V14       V12       V10       V16        V3        V7  \\\n",
       "0  0.207971 -0.311169 -0.617801  0.090794 -0.470401  2.536347  0.239599   \n",
       "1 -0.114805 -0.143772  1.065235 -0.166974  0.463917  0.166480 -0.078803   \n",
       "2  1.109969 -0.165946  0.066084  0.207643 -2.890083  1.773209  0.791461   \n",
       "3 -0.684093 -0.287924  0.178228 -0.054952 -1.059647  1.792993  0.237609   \n",
       "4 -0.237033 -1.119670  0.538196  0.753074 -0.451449  1.548718  0.592941   \n",
       "\n",
       "        V11  Class  \n",
       "0 -0.551600      0  \n",
       "1  1.612727      0  \n",
       "2  0.624501      0  \n",
       "3 -0.226487      0  \n",
       "4 -0.822843      0  "
      ]
     },
     "execution_count": 12,
     "metadata": {},
     "output_type": "execute_result"
    }
   ],
   "source": [
    "data_red = data[[\"V17\",\"V14\",\"V12\",\"V10\",\"V16\",\"V3\",\"V7\",\"V11\",\"Class\"]].copy()\n",
    "data_red.head()"
   ]
  },
  {
   "cell_type": "markdown",
   "metadata": {},
   "source": [
    "### Splitting the data\n",
    "\n",
    "I will use a stratified shuffle split, which ensures, that the proportions of classes within all subsets are equal.\n",
    "\n",
    "I will not split of a seperate validation set at this point because I aim to utilize cross-validation."
   ]
  },
  {
   "cell_type": "code",
   "execution_count": 13,
   "metadata": {},
   "outputs": [],
   "source": [
    "X = data_red.drop(\"Class\", axis = 1)\n",
    "y = data_red[\"Class\"]"
   ]
  },
  {
   "cell_type": "code",
   "execution_count": 14,
   "metadata": {},
   "outputs": [
    {
     "data": {
      "text/plain": [
       "(283726, 8)"
      ]
     },
     "execution_count": 14,
     "metadata": {},
     "output_type": "execute_result"
    }
   ],
   "source": [
    "X.shape"
   ]
  },
  {
   "cell_type": "code",
   "execution_count": 15,
   "metadata": {},
   "outputs": [
    {
     "data": {
      "text/plain": [
       "(283726,)"
      ]
     },
     "execution_count": 15,
     "metadata": {},
     "output_type": "execute_result"
    }
   ],
   "source": [
    "y.shape"
   ]
  },
  {
   "cell_type": "code",
   "execution_count": 16,
   "metadata": {},
   "outputs": [],
   "source": [
    "from sklearn.model_selection import StratifiedShuffleSplit\n",
    "\n",
    "strat_split = StratifiedShuffleSplit(test_size = 0.2, random_state = 13)\n",
    "for train_index, test_index in strat_split.split(X,y):\n",
    "    X_train, X_test = X.loc[train_index], X.loc[test_index]\n",
    "    y_train, y_test = y.loc[train_index], y.loc[test_index]"
   ]
  },
  {
   "cell_type": "code",
   "execution_count": 17,
   "metadata": {},
   "outputs": [
    {
     "data": {
      "text/plain": [
       "((226980, 8), (226980,))"
      ]
     },
     "execution_count": 17,
     "metadata": {},
     "output_type": "execute_result"
    }
   ],
   "source": [
    "X_train.shape, y_train.shape"
   ]
  },
  {
   "cell_type": "code",
   "execution_count": 18,
   "metadata": {},
   "outputs": [
    {
     "data": {
      "text/plain": [
       "((56746, 8), (56746,))"
      ]
     },
     "execution_count": 18,
     "metadata": {},
     "output_type": "execute_result"
    }
   ],
   "source": [
    "X_test.shape, y_test.shape"
   ]
  },
  {
   "cell_type": "markdown",
   "metadata": {},
   "source": [
    "Now we should check if the proportions of fraudulent cases are similar in both subset."
   ]
  },
  {
   "cell_type": "code",
   "execution_count": 19,
   "metadata": {},
   "outputs": [],
   "source": [
    "train_counts = y_train.value_counts()\n",
    "train_ratio = train_counts[1]/train_counts[0]"
   ]
  },
  {
   "cell_type": "code",
   "execution_count": 20,
   "metadata": {},
   "outputs": [],
   "source": [
    "test_counts = y_test.value_counts()\n",
    "test_ratio = test_counts[1]/test_counts[0]"
   ]
  },
  {
   "cell_type": "code",
   "execution_count": 21,
   "metadata": {},
   "outputs": [
    {
     "data": {
      "text/plain": [
       "(0.00167, 0.00168)"
      ]
     },
     "execution_count": 21,
     "metadata": {},
     "output_type": "execute_result"
    }
   ],
   "source": [
    "train_ratio.round(5) , test_ratio.round(5)"
   ]
  },
  {
   "cell_type": "markdown",
   "metadata": {},
   "source": [
    "They are very similar our data split was a success."
   ]
  },
  {
   "cell_type": "markdown",
   "metadata": {},
   "source": [
    "## Model Selection\n",
    "\n",
    "### Baseline Model and \"Classic\" Classification Models\n",
    "\n",
    "The first model which will act as a baseline for others will be a Logistic Regression with fairly standard parameters.\n",
    "\n",
    "I also aim to try other \"classic\" classification models before going into more specialized models for outlier/anomaly detection such as Gaussian Mixture Models.\n",
    "\n",
    "From all models the most promising ones will be select and tuned further.\n",
    "\n",
    "I will consider combining multiple models into an ensemble by voting or stacking.\n",
    "\n",
    "The metrics will be:\n",
    "- precision\n",
    "- recall (aiming for a high recall/sensitivity)\n",
    "\n",
    "To determine good models I will used cross-validation which will again use a stratified approach to ensure similar target-value ratios.\n",
    "\n"
   ]
  },
  {
   "cell_type": "code",
   "execution_count": 22,
   "metadata": {},
   "outputs": [],
   "source": [
    "# import the metrics\n",
    "from sklearn.metrics import confusion_matrix, precision_score, recall_score, precision_recall_curve, roc_auc_score\n"
   ]
  },
  {
   "cell_type": "markdown",
   "metadata": {},
   "source": [
    "The normal `cross_val_score` from sklearn samples randomly when splitting the data into train and validation set. I want to avoid that for the mentioned reasons. Therefore the following function will be used instead. \n",
    "\n",
    "*Note: Parts of this code were adapted from Hands-On Machine Learning with Scikit-Learn, Keras & Tensorflow by Aurélien Géron)*\n",
    "\n",
    "**I discovered that `cross_val_score` actually does use `StratifiedKFold` when given certain parameters. It will therefore be used here. I am keeping the function for documentation purposes.**"
   ]
  },
  {
   "cell_type": "code",
   "execution_count": 23,
   "metadata": {},
   "outputs": [],
   "source": [
    "from sklearn.model_selection import StratifiedKFold\n",
    "from sklearn.base import clone"
   ]
  },
  {
   "cell_type": "code",
   "execution_count": 24,
   "metadata": {},
   "outputs": [],
   "source": [
    "def strat_cross_val_score(classifier,X_train, y_train, cv = 5, scoring = \"accuracy\"):\n",
    "    \"\"\"\n",
    "    Runs n-fold cross-validation with stratified sampling.\n",
    "\n",
    "    Parameters\n",
    "    ----------\n",
    "    classifier : sklearn Classifier to evaluate\n",
    "    X_train : Training set of features.\n",
    "    y_train : Training set of the target values.\n",
    "    cv : n-folds for the cross validation\n",
    "    scoring: Method of scoring (\"accuracy\",\"precision_recall\", \"roc_auc\")\n",
    "\n",
    "    Returns\n",
    "    -------\n",
    "    The score of the chosen metric for each round of cross-validation.\n",
    "\n",
    "    \"\"\"\n",
    "    \n",
    "    skfolds = StratifiedKFold(n_splits = cv, shuffle = True ,random_state = 13)\n",
    "    \"\"\"for train_index, test_index in strat_split.split(X,y):\n",
    "    X_train, X_test = X.loc[train_index], X.loc[test_index]\n",
    "    y_train, y_test = y.loc[train_index], y.loc[test_index]\"\"\"\n",
    "    for train_index, test_index in skfolds.split(X_train, y_train):\n",
    "        clone_clf = clone(classifier)\n",
    "        X_train_folds, X_test_fold = X_train.iloc[train_index], X_train.iloc[test_index]\n",
    "        y_train_folds, y_test_fold = y_train.iloc[train_index], y_train.iloc[test_index]\n",
    "                 \n",
    "        clone_clf.fit(X_train_folds, y_train_folds)\n",
    "        y_pred = clone_clf.predict(X_test_fold)\n",
    "        #for accuracy\n",
    "        if scoring == \"accuracy\":\n",
    "            n_correct = sum(y_pred == y_test_fold)\n",
    "            print(\"Accuracy: \",n_correct / len(y_pred))\n",
    "        #for precision and recall\n",
    "        if scoring == \"precision_recall\":\n",
    "            print(\"Precision: \", precision_score(y_test_fold, y_pred))\n",
    "            print(\"Recall: \", recall_score(y_test_fold,y_pred))\n",
    "        #for roc_auc\n",
    "        if scoring == \"roc_auc\":\n",
    "            print(\"ROC AUC Score: \", roc_auc_score(y_test_fold, y_pred))"
   ]
  },
  {
   "cell_type": "code",
   "execution_count": 25,
   "metadata": {},
   "outputs": [],
   "source": [
    "# Scaling the data\n",
    "from sklearn.preprocessing import StandardScaler\n",
    "\n",
    "scaler = StandardScaler()\n",
    "X_train_scaled = scaler.fit_transform(X_train)\n",
    "X_test_scaled = scaler.transform(X_test)"
   ]
  },
  {
   "cell_type": "code",
   "execution_count": 26,
   "metadata": {},
   "outputs": [],
   "source": [
    "from sklearn.linear_model import LogisticRegression\n",
    "from sklearn.ensemble import RandomForestClassifier\n",
    "from sklearn.naive_bayes import GaussianNB\n",
    "from sklearn.neural_network import MLPClassifier\n",
    "from sklearn.svm import SVC\n",
    "\n",
    "log_clf = LogisticRegression(n_jobs = -1)\n",
    "forest_clf = RandomForestClassifier(random_state = 13, n_jobs = -1)\n",
    "NB_clf = GaussianNB()\n",
    "MLP_clf = MLPClassifier()\n",
    "svm_clf = SVC()"
   ]
  },
  {
   "cell_type": "code",
   "execution_count": 21,
   "metadata": {},
   "outputs": [
    {
     "name": "stdout",
     "output_type": "stream",
     "text": [
      "Precision:  0.9295774647887324\n",
      "Recall:  0.88\n",
      "Precision:  0.9827586206896551\n",
      "Recall:  0.76\n",
      "Precision:  0.9661016949152542\n",
      "Recall:  0.75\n",
      "Precision:  0.8970588235294118\n",
      "Recall:  0.8026315789473685\n",
      "Precision:  0.9047619047619048\n",
      "Recall:  0.75\n"
     ]
    }
   ],
   "source": [
    "#Testing the above function\n",
    "#strat_cross_val_score(forest_clf, X_train, y_train, scoring = \"precision_recall\")"
   ]
  },
  {
   "cell_type": "code",
   "execution_count": 27,
   "metadata": {},
   "outputs": [],
   "source": [
    "from sklearn.model_selection import cross_val_score, cross_val_predict\n"
   ]
  },
  {
   "cell_type": "code",
   "execution_count": 28,
   "metadata": {},
   "outputs": [
    {
     "name": "stdout",
     "output_type": "stream",
     "text": [
      "Logistic Regression\n",
      "Scores:  [0.57333333 0.74666667 0.59210526 0.52631579 0.47368421]\n",
      "Mean:  0.582421052631579\n",
      "Std:  0.09178724714290791\n",
      "Random Forest\n",
      "Scores:  [0.72       0.84       0.80263158 0.80263158 0.77631579]\n",
      "Mean:  0.7883157894736843\n",
      "Std:  0.03972955666918768\n",
      "Naive Bayes\n",
      "Scores:  [0.78666667 0.86666667 0.86842105 0.86842105 0.86842105]\n",
      "Mean:  0.8517192982456139\n",
      "Std:  0.032533412045982035\n",
      "MLP\n",
      "Scores:  [0.70666667 0.82666667 0.78947368 0.81578947 0.72368421]\n",
      "Mean:  0.7724561403508773\n",
      "Std:  0.048606813774789086\n",
      "SVM\n",
      "Scores:  [0.64       0.76       0.71052632 0.75       0.67105263]\n",
      "Mean:  0.7063157894736842\n",
      "Std:  0.045715002962319444\n"
     ]
    }
   ],
   "source": [
    "classifiers = [log_clf, forest_clf, NB_clf, MLP_clf, svm_clf]\n",
    "clf_names = [\"Logistic Regression\", \"Random Forest\", \"Naive Bayes\", \"MLP\", \"SVM\"]\n",
    "for classifier,name in zip(classifiers,clf_names):\n",
    "    print(name)\n",
    "    scores = cross_val_score(classifier,X_train_scaled,y_train, scoring = \"recall\")\n",
    "    print(\"Scores: \", scores)\n",
    "    print(\"Mean: \", scores.mean())\n",
    "    print(\"Std: \", scores.std())"
   ]
  },
  {
   "cell_type": "markdown",
   "metadata": {},
   "source": [
    "Judging from this the Gaussian Naive Bayes, MLP and Random Forest did best. It makes sense to also check the precision scores of all models to make sure, that the trade-off is not too large for our best performing models."
   ]
  },
  {
   "cell_type": "code",
   "execution_count": 29,
   "metadata": {},
   "outputs": [
    {
     "name": "stdout",
     "output_type": "stream",
     "text": [
      "Logistic Regression\n",
      "Scores:  [0.93478261 0.88888889 0.78947368 0.93023256 0.85714286]\n",
      "Mean:  0.8801041194154917\n",
      "Std:  0.05351796910228498\n",
      "Random Forest\n",
      "Scores:  [0.94736842 0.92647059 0.91044776 0.92424242 0.93650794]\n",
      "Mean:  0.9290074262464632\n",
      "Std:  0.012385360249153286\n",
      "Naive Bayes\n",
      "Scores:  [0.12139918 0.12596899 0.13306452 0.13043478 0.12382739]\n",
      "Mean:  0.1269389720121195\n",
      "Std:  0.004267437214546553\n",
      "MLP\n",
      "Scores:  [0.91525424 0.83783784 0.84057971 0.91304348 0.89285714]\n",
      "Mean:  0.8799144812777827\n",
      "Std:  0.034151455102179325\n",
      "SVM\n",
      "Scores:  [0.96       0.93442623 0.93103448 0.98275862 0.94444444]\n",
      "Mean:  0.9505327554801835\n",
      "Std:  0.018998976059649404\n"
     ]
    }
   ],
   "source": [
    "for classifier,name in zip(classifiers,clf_names):\n",
    "    print(name)\n",
    "    scores = cross_val_score(classifier,X_train_scaled,y_train, scoring = \"precision\")\n",
    "    print(\"Scores: \", scores)\n",
    "    print(\"Mean: \", scores.mean())\n",
    "    print(\"Std: \", scores.std())"
   ]
  },
  {
   "cell_type": "markdown",
   "metadata": {},
   "source": [
    "The Random Forest also has high precision which is quite promising. I could tune it towards better recall, without risking extremely low precision."
   ]
  },
  {
   "cell_type": "markdown",
   "metadata": {},
   "source": [
    "The Naive Bayes Classifier has extremely low precision, which is not great. It seems that the high recall comes at a very high cost."
   ]
  },
  {
   "cell_type": "markdown",
   "metadata": {},
   "source": [
    "I will visualize the precision-recall curves for the Random Forest, Naive Bayes and the MLP (as it showed reasonable recall and high precision). After that I will evaluate models that are more suited to outlier detection before selecting a final one."
   ]
  },
  {
   "cell_type": "markdown",
   "metadata": {},
   "source": [
    "*The function for the visualiazation is taken from Hands-On Machine Learning with Scikit-Learn, Keras & Tensorflow by Aurélien Géron.*"
   ]
  },
  {
   "cell_type": "code",
   "execution_count": 30,
   "metadata": {},
   "outputs": [],
   "source": [
    "def plot_precision_vs_recall(precisions, recalls):\n",
    "    plt.plot(recalls, precisions, \"b-\", linewidth=2)\n",
    "    plt.xlabel(\"Recall\", fontsize=16)\n",
    "    plt.ylabel(\"Precision\", fontsize=16)\n",
    "    plt.axis([0, 1, 0, 1])\n",
    "    plt.grid(True)                            "
   ]
  },
  {
   "cell_type": "code",
   "execution_count": 31,
   "metadata": {},
   "outputs": [],
   "source": [
    "# get the predictions and store them for later use\n",
    "\n",
    "y_pred_forest = cross_val_predict(forest_clf,X_train_scaled, y_train) #no scaling needed but used to introduce no bias when comparing\n",
    "y_pred_NB = cross_val_predict(NB_clf,X_train_scaled, y_train)\n",
    "y_pred_MLP = cross_val_predict(MLP_clf,X_train_scaled, y_train)"
   ]
  },
  {
   "cell_type": "markdown",
   "metadata": {},
   "source": [
    "#### Add in - Start"
   ]
  },
  {
   "cell_type": "markdown",
   "metadata": {},
   "source": [
    "#### At a later stage I realised that, the SVC had decent recall with very high precision. I thus decided to view it's precision recall curve as well."
   ]
  },
  {
   "cell_type": "code",
   "execution_count": 105,
   "metadata": {},
   "outputs": [],
   "source": [
    "y_pred_svc = cross_val_predict(svm_clf,X_train_scaled, y_train)"
   ]
  },
  {
   "cell_type": "code",
   "execution_count": 106,
   "metadata": {},
   "outputs": [
    {
     "name": "stdout",
     "output_type": "stream",
     "text": [
      "Precision:  0.9501779359430605\n",
      "Recall:  0.7063492063492064\n",
      "TN       FP\n",
      "[[226588     14]\n",
      " [   111    267]]\n",
      "FN       TP\n"
     ]
    },
    {
     "data": {
      "image/png": "[encoded data removed]",
      "text/plain": [
       "<Figure size 432x288 with 1 Axes>"
      ]
     },
     "metadata": {
      "needs_background": "light"
     },
     "output_type": "display_data"
    },
    {
     "data": {
      "text/plain": [
       "<Figure size 576x288 with 0 Axes>"
      ]
     },
     "metadata": {},
     "output_type": "display_data"
    }
   ],
   "source": [
    "print(\"Precision: \", precision_score(y_train,y_pred_svc))\n",
    "print(\"Recall: \", recall_score(y_train,y_pred_svc))\n",
    "print(\"TN       FP\")\n",
    "print(confusion_matrix(y_train,y_pred_svc)) \n",
    "print(\"FN       TP\")\n",
    "precisions, recalls, thresholds = precision_recall_curve(y_train,y_pred_svc)\n",
    "plot_precision_vs_recall(precisions,recalls) #plot precision recall curve\n",
    "plt.figure(figsize=(8,4))\n",
    "plt.show()"
   ]
  },
  {
   "cell_type": "markdown",
   "metadata": {},
   "source": [
    "It doesn't perform to bad but the Precision at high Recall levels would be lower than for the Random Forest"
   ]
  },
  {
   "cell_type": "markdown",
   "metadata": {},
   "source": [
    "#### Add-in Stop"
   ]
  },
  {
   "cell_type": "code",
   "execution_count": 32,
   "metadata": {},
   "outputs": [
    {
     "name": "stdout",
     "output_type": "stream",
     "text": [
      "Random Forest\n",
      "Precision:  0.9283489096573209\n",
      "Recall:  0.7883597883597884\n",
      "TN       FP\n",
      "[[226579     23]\n",
      " [    80    298]]\n",
      "FN       TP\n"
     ]
    },
    {
     "data": {
      "image/png": "[encoded data removed]",
      "text/plain": [
       "<Figure size 432x288 with 1 Axes>"
      ]
     },
     "metadata": {
      "needs_background": "light"
     },
     "output_type": "display_data"
    },
    {
     "data": {
      "text/plain": [
       "<Figure size 576x288 with 0 Axes>"
      ]
     },
     "metadata": {},
     "output_type": "display_data"
    },
    {
     "name": "stdout",
     "output_type": "stream",
     "text": [
      "NB\n",
      "Precision:  0.12692156089869924\n",
      "Recall:  0.8518518518518519\n",
      "TN       FP\n",
      "[[224387   2215]\n",
      " [    56    322]]\n",
      "FN       TP\n"
     ]
    },
    {
     "data": {
      "image/png": "[encoded data removed]",
      "text/plain": [
       "<Figure size 432x288 with 1 Axes>"
      ]
     },
     "metadata": {
      "needs_background": "light"
     },
     "output_type": "display_data"
    },
    {
     "data": {
      "text/plain": [
       "<Figure size 576x288 with 0 Axes>"
      ]
     },
     "metadata": {},
     "output_type": "display_data"
    },
    {
     "name": "stdout",
     "output_type": "stream",
     "text": [
      "MLP\n",
      "Precision:  0.8605341246290801\n",
      "Recall:  0.7671957671957672\n",
      "TN       FP\n",
      "[[226555     47]\n",
      " [    88    290]]\n",
      "FN       TP\n"
     ]
    },
    {
     "data": {
      "image/png": "[encoded data removed]",
      "text/plain": [
       "<Figure size 432x288 with 1 Axes>"
      ]
     },
     "metadata": {
      "needs_background": "light"
     },
     "output_type": "display_data"
    },
    {
     "data": {
      "text/plain": [
       "<Figure size 576x288 with 0 Axes>"
      ]
     },
     "metadata": {},
     "output_type": "display_data"
    }
   ],
   "source": [
    "for y_pred,name in zip([y_pred_forest,y_pred_NB,y_pred_MLP],[\"Random Forest\", \"NB\", \"MLP\"]):\n",
    "    print(name)\n",
    "    print(\"Precision: \", precision_score(y_train,y_pred))\n",
    "    print(\"Recall: \", recall_score(y_train,y_pred))\n",
    "    print(\"TN       FP\")\n",
    "    print(confusion_matrix(y_train,y_pred)) \n",
    "    print(\"FN       TP\")\n",
    "    precisions, recalls, thresholds = precision_recall_curve(y_train,y_pred)\n",
    "    plot_precision_vs_recall(precisions,recalls) #plot precision recall curve\n",
    "    plt.figure(figsize=(8,4))\n",
    "    plt.show()"
   ]
  },
  {
   "cell_type": "markdown",
   "metadata": {},
   "source": [
    "The Random Forest model beformed best. Yet it also shows a steep decline in Precision after a Recall of about 0.8.\n",
    "\n",
    "It will be used for further tuning and compared to models which are more specialized for anomaly detection.\n",
    "\n",
    "### Anomaly Detection Models\n",
    "\n",
    "Seeing how the performance of even the best classification model so far (with default parameters) was not very good (78/378, 20% False Negatives), I will explore some models that may be suited better to the task:\n",
    "\n",
    "- a Bayesian Gaussian Mixture Model\n",
    "- an Isolation Forest\n",
    "- Local Outlier Factor Model\n",
    "\n",
    "Again I will use default models to shortlist the most promising ones for further tuning."
   ]
  },
  {
   "cell_type": "code",
   "execution_count": 33,
   "metadata": {},
   "outputs": [],
   "source": [
    "# Isolation Forest\n",
    "from sklearn.ensemble import IsolationForest\n",
    "\n",
    "iso_clf = IsolationForest(random_state = 13)"
   ]
  },
  {
   "cell_type": "code",
   "execution_count": 34,
   "metadata": {},
   "outputs": [],
   "source": [
    "y_pred_iso = iso_clf.fit_predict(X_train_scaled)\n"
   ]
  },
  {
   "cell_type": "markdown",
   "metadata": {},
   "source": [
    "It may make sense to use predict_proba and a threshold for outlier detection models, IsolationForest however, due to it's root in decision trees doesn't have predict_proba."
   ]
  },
  {
   "cell_type": "code",
   "execution_count": 35,
   "metadata": {},
   "outputs": [],
   "source": [
    "# IsolationForest uses -1 for outliers (Class = 1 here) and 1 for inliers (Class = 0 here)\n",
    "y_pred_iso[y_pred_iso == 1] = 0\n",
    "y_pred_iso[y_pred_iso == -1] = 1"
   ]
  },
  {
   "cell_type": "code",
   "execution_count": 42,
   "metadata": {},
   "outputs": [],
   "source": [
    "from sklearn.mixture import BayesianGaussianMixture\n",
    "\n",
    "bgmm_clf = BayesianGaussianMixture(n_components = 9,n_init = 5) #n_init 1 as default could lead to convergence on a suboptimal solution\n",
    "bgmm_clf.fit(X_train_scaled)\n",
    "#y_pred_bgmm = bgmm_clf.fit_predict(X_train_scaled)\n",
    "y_proba_bgmm = bgmm_clf.predict_proba(X_train_scaled)"
   ]
  },
  {
   "cell_type": "code",
   "execution_count": 84,
   "metadata": {},
   "outputs": [
    {
     "data": {
      "text/plain": [
       "array([0., 0., 0., ..., 0., 0., 0.])"
      ]
     },
     "execution_count": 84,
     "metadata": {},
     "output_type": "execute_result"
    }
   ],
   "source": [
    "#finding the anomalies \n",
    "densities = bgmm_clf.score_samples(X_train_scaled)\n",
    "density_threshold = np.percentile(densities,1) # anomalies below 1% density\n",
    "\n",
    "densities[densities >= density_threshold] = 0\n",
    "densities[densities < density_threshold] = 1\n",
    "densities"
   ]
  },
  {
   "cell_type": "code",
   "execution_count": 85,
   "metadata": {},
   "outputs": [
    {
     "data": {
      "text/plain": [
       "{0.0: 224710, 1.0: 2270}"
      ]
     },
     "execution_count": 85,
     "metadata": {},
     "output_type": "execute_result"
    }
   ],
   "source": [
    "unique, counts = np.unique(densities, return_counts=True)\n",
    "dict(zip(unique, counts))"
   ]
  },
  {
   "cell_type": "code",
   "execution_count": 86,
   "metadata": {},
   "outputs": [],
   "source": [
    "y_pred_bgmm = densities"
   ]
  },
  {
   "cell_type": "code",
   "execution_count": 98,
   "metadata": {},
   "outputs": [],
   "source": [
    "from sklearn.neighbors import LocalOutlierFactor\n",
    "\n",
    "LOF_clf = LocalOutlierFactor(n_jobs = -1)\n",
    "y_preds_LOF = LOF_clf.fit_predict(X_train_scaled)"
   ]
  },
  {
   "cell_type": "code",
   "execution_count": 99,
   "metadata": {},
   "outputs": [
    {
     "data": {
      "text/plain": [
       "array([ 1, -1,  1, ...,  1,  1,  1])"
      ]
     },
     "execution_count": 99,
     "metadata": {},
     "output_type": "execute_result"
    }
   ],
   "source": [
    "y_preds_LOF"
   ]
  },
  {
   "cell_type": "code",
   "execution_count": 100,
   "metadata": {},
   "outputs": [],
   "source": [
    "y_preds_LOF[y_preds_LOF == 1] = 0\n",
    "y_preds_LOF[y_preds_LOF == -1] = 1"
   ]
  },
  {
   "cell_type": "code",
   "execution_count": 102,
   "metadata": {},
   "outputs": [
    {
     "name": "stdout",
     "output_type": "stream",
     "text": [
      "Isolation Forest\n",
      "Precision:  0.019514707565525924\n",
      "Recall:  0.9021164021164021\n",
      "TN       FP\n",
      "[[209469  17133]\n",
      " [    37    341]]\n",
      "FN       TP\n"
     ]
    },
    {
     "data": {
      "image/png": "[encoded data removed]",
      "text/plain": [
       "<Figure size 432x288 with 1 Axes>"
      ]
     },
     "metadata": {
      "needs_background": "light"
     },
     "output_type": "display_data"
    },
    {
     "data": {
      "text/plain": [
       "<Figure size 576x288 with 0 Axes>"
      ]
     },
     "metadata": {},
     "output_type": "display_data"
    },
    {
     "name": "stdout",
     "output_type": "stream",
     "text": [
      "BGMM\n",
      "Precision:  0.13480176211453745\n",
      "Recall:  0.8095238095238095\n",
      "TN       FP\n",
      "[[224638   1964]\n",
      " [    72    306]]\n",
      "FN       TP\n"
     ]
    },
    {
     "data": {
      "image/png": "[encoded data removed]",
      "text/plain": [
       "<Figure size 432x288 with 1 Axes>"
      ]
     },
     "metadata": {
      "needs_background": "light"
     },
     "output_type": "display_data"
    },
    {
     "data": {
      "text/plain": [
       "<Figure size 576x288 with 0 Axes>"
      ]
     },
     "metadata": {},
     "output_type": "display_data"
    },
    {
     "name": "stdout",
     "output_type": "stream",
     "text": [
      "LOF\n",
      "Precision:  0.0019874393830988154\n",
      "Recall:  0.06613756613756613\n",
      "TN       FP\n",
      "[[214048  12554]\n",
      " [   353     25]]\n",
      "FN       TP\n"
     ]
    },
    {
     "data": {
      "image/png": "[encoded data removed]",
      "text/plain": [
       "<Figure size 432x288 with 1 Axes>"
      ]
     },
     "metadata": {
      "needs_background": "light"
     },
     "output_type": "display_data"
    },
    {
     "data": {
      "text/plain": [
       "<Figure size 576x288 with 0 Axes>"
      ]
     },
     "metadata": {},
     "output_type": "display_data"
    }
   ],
   "source": [
    "for y_pred,name in zip([y_pred_iso,y_pred_bgmm,y_preds_LOF],[\"Isolation Forest\", \"BGMM\", \"LOF\"]):\n",
    "    print(name)\n",
    "    print(\"Precision: \", precision_score(y_train,y_pred))\n",
    "    print(\"Recall: \", recall_score(y_train,y_pred))\n",
    "    print(\"TN       FP\")\n",
    "    print(confusion_matrix(y_train,y_pred)) \n",
    "    print(\"FN       TP\")\n",
    "    precisions, recalls, thresholds = precision_recall_curve(y_train,y_pred)\n",
    "    plot_precision_vs_recall(precisions,recalls) #plot precision recall curve\n",
    "    plt.figure(figsize=(8,4))\n",
    "    plt.show()"
   ]
  },
  {
   "cell_type": "markdown",
   "metadata": {},
   "source": [
    "- The Isolation Forest was better than the Random Forest in Finding TP, it has many more FP instances though.\n",
    "- The Bayesian Gaussian Mixture Model has a FN rate similar to the Random Forest. However its Precision is much worth. A Random Forest fine-tuned towards Recall will probably be the better choice.\n",
    "- The LOF performed quite poorly. It may need to be trained on a \"clean\" dataset without outliers, to detect them."
   ]
  },
  {
   "cell_type": "markdown",
   "metadata": {},
   "source": [
    "After all the Random Forest looks most promising. In the next step I will try to fine-tune it towards more recall. Which will probably come at the expense of some precision.\n",
    "\n",
    "As ensemble methods may perform better than a single model I will also fine tune the MLP towards better recall and possibly use it for an ensemble.\n",
    "\n",
    "I aim to get the lowest number of False Negatives, which are the worst thing in our problem. As those would be fraud-instances that go unnoticed. While keeping the FP rate as low as possible.\n",
    "\n",
    "The last statement is quite flexible. I therefore aim to stay below 3000 FP instances."
   ]
  },
  {
   "cell_type": "code",
   "execution_count": null,
   "metadata": {},
   "outputs": [],
   "source": []
  }
 ],
 "metadata": {
  "kernelspec": {
   "display_name": "Python 3",
   "language": "python",
   "name": "python3"
  },
  "language_info": {
   "codemirror_mode": {
    "name": "ipython",
    "version": 3
   },
   "file_extension": ".py",
   "mimetype": "text/x-python",
   "name": "python",
   "nbconvert_exporter": "python",
   "pygments_lexer": "ipython3",
   "version": "3.7.7"
  }
 },
 "nbformat": 4,
 "nbformat_minor": 4
}
